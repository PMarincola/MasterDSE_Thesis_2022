{
 "cells": [
  {
   "cell_type": "code",
   "execution_count": 2,
   "metadata": {},
   "outputs": [],
   "source": [
    "import os\n",
    "\n",
    "# Data management\n",
    "import pandas as pd\n",
    "\n",
    "# Data preprocessing and trasformation (ETL)\n",
    "from sklearn.experimental import enable_iterative_imputer\n",
    "from sklearn.impute import SimpleImputer, IterativeImputer\n",
    "from sklearn.base import BaseEstimator, TransformerMixin\n",
    "from sklearn.preprocessing import StandardScaler, MinMaxScaler, RobustScaler, MaxAbsScaler, FunctionTransformer, Binarizer, OneHotEncoder, OrdinalEncoder\n",
    "from sklearn.pipeline import Pipeline\n",
    "from sklearn.compose import ColumnTransformer\n",
    "from sklearn.model_selection import train_test_split\n",
    "# Math and Stat modules\n",
    "import numpy as np\n",
    "from scipy.special import logit, expit\n",
    "from scipy import stats\n",
    "\n",
    "#Supervised Learning\n",
    "\n",
    "# Unsupervised Learning\n",
    "\n",
    "# Visualization\n",
    "import matplotlib.pyplot as plt\n",
    "from pandas.plotting import scatter_matrix"
   ]
  },
  {
   "cell_type": "code",
   "execution_count": 3,
   "metadata": {},
   "outputs": [],
   "source": [
    "OPCUA_dataset = pd.read_csv('OPCUA_dataset_ML.csv')"
   ]
  },
  {
   "cell_type": "code",
   "execution_count": 4,
   "metadata": {},
   "outputs": [
    {
     "name": "stdout",
     "output_type": "stream",
     "text": [
      "<class 'pandas.core.frame.DataFrame'>\n",
      "RangeIndex: 23450 entries, 0 to 23449\n",
      "Data columns (total 19 columns):\n",
      " #   Column                 Non-Null Count  Dtype  \n",
      "---  ------                 --------------  -----  \n",
      " 0   Unnamed: 0             23450 non-null  int64  \n",
      " 1   case_id                23450 non-null  object \n",
      " 2   IPclass                23450 non-null  object \n",
      " 3   stat_flags_mean        23450 non-null  float64\n",
      " 4   stat_msg_size_mean     23450 non-null  float64\n",
      " 5   stat_flowDuration_tot  23450 non-null  float64\n",
      " 6   trace_is_fit_TR        23450 non-null  int64  \n",
      " 7   trace_fitness_TR       23450 non-null  float64\n",
      " 8   missing_tokens_TR      23450 non-null  int64  \n",
      " 9   consumed_tokens_TR     23450 non-null  int64  \n",
      " 10  remaining_tokens_TR    23450 non-null  int64  \n",
      " 11  produced_tokens_TR     23450 non-null  int64  \n",
      " 12  cost_AL                23450 non-null  int64  \n",
      " 13  visited_states_AL      23450 non-null  int64  \n",
      " 14  queued_states_AL       23450 non-null  int64  \n",
      " 15  traversed_arcs_AL      23450 non-null  int64  \n",
      " 16  lp_solved_AL           23450 non-null  int64  \n",
      " 17  fitness_AL             23450 non-null  float64\n",
      " 18  label                  23450 non-null  int64  \n",
      "dtypes: float64(5), int64(12), object(2)\n",
      "memory usage: 3.4+ MB\n"
     ]
    }
   ],
   "source": [
    "OPCUA_dataset.info()"
   ]
  },
  {
   "cell_type": "code",
   "execution_count": 5,
   "metadata": {},
   "outputs": [
    {
     "data": {
      "text/plain": [
       "0.000000    23434\n",
       "0.999301        1\n",
       "0.999534        1\n",
       "0.999535        2\n",
       "1.000000       12\n",
       "Name: trace_fitness_TR, dtype: int64"
      ]
     },
     "execution_count": 5,
     "metadata": {},
     "output_type": "execute_result"
    }
   ],
   "source": [
    "OPCUA_dataset['trace_fitness_TR'].value_counts().sort_index()"
   ]
  },
  {
   "cell_type": "code",
   "execution_count": 6,
   "metadata": {},
   "outputs": [
    {
     "data": {
      "text/plain": [
       "1791         2\n",
       "1795         2\n",
       "1799         2\n",
       "3471         1\n",
       "3472         1\n",
       "3519         2\n",
       "11078        1\n",
       "21072        1\n",
       "21073        2\n",
       "21076        1\n",
       "60003    23434\n",
       "82142        1\n",
       "Name: cost_AL, dtype: int64"
      ]
     },
     "execution_count": 6,
     "metadata": {},
     "output_type": "execute_result"
    }
   ],
   "source": [
    "OPCUA_dataset['cost_AL'].value_counts().sort_index()"
   ]
  },
  {
   "cell_type": "code",
   "execution_count": 7,
   "metadata": {},
   "outputs": [
    {
     "data": {
      "text/html": [
       "<div>\n",
       "<style scoped>\n",
       "    .dataframe tbody tr th:only-of-type {\n",
       "        vertical-align: middle;\n",
       "    }\n",
       "\n",
       "    .dataframe tbody tr th {\n",
       "        vertical-align: top;\n",
       "    }\n",
       "\n",
       "    .dataframe thead th {\n",
       "        text-align: right;\n",
       "    }\n",
       "</style>\n",
       "<table border=\"1\" class=\"dataframe\">\n",
       "  <thead>\n",
       "    <tr style=\"text-align: right;\">\n",
       "      <th></th>\n",
       "      <th>Unnamed: 0</th>\n",
       "      <th>case_id</th>\n",
       "      <th>IPclass</th>\n",
       "      <th>stat_flags_mean</th>\n",
       "      <th>stat_msg_size_mean</th>\n",
       "      <th>stat_flowDuration_tot</th>\n",
       "      <th>trace_is_fit_TR</th>\n",
       "      <th>trace_fitness_TR</th>\n",
       "      <th>missing_tokens_TR</th>\n",
       "      <th>consumed_tokens_TR</th>\n",
       "      <th>remaining_tokens_TR</th>\n",
       "      <th>produced_tokens_TR</th>\n",
       "      <th>cost_AL</th>\n",
       "      <th>visited_states_AL</th>\n",
       "      <th>queued_states_AL</th>\n",
       "      <th>traversed_arcs_AL</th>\n",
       "      <th>lp_solved_AL</th>\n",
       "      <th>fitness_AL</th>\n",
       "      <th>label</th>\n",
       "    </tr>\n",
       "  </thead>\n",
       "  <tbody>\n",
       "    <tr>\n",
       "      <th>0</th>\n",
       "      <td>0</td>\n",
       "      <td>192.168.1.16_40656_192.168.1.17_4840</td>\n",
       "      <td>C</td>\n",
       "      <td>1.0</td>\n",
       "      <td>226.746978</td>\n",
       "      <td>29.542159</td>\n",
       "      <td>1</td>\n",
       "      <td>1.000000</td>\n",
       "      <td>0</td>\n",
       "      <td>6947</td>\n",
       "      <td>0</td>\n",
       "      <td>6947</td>\n",
       "      <td>3472</td>\n",
       "      <td>13878</td>\n",
       "      <td>31231</td>\n",
       "      <td>34698</td>\n",
       "      <td>1</td>\n",
       "      <td>1.000000</td>\n",
       "      <td>1</td>\n",
       "    </tr>\n",
       "    <tr>\n",
       "      <th>1</th>\n",
       "      <td>1</td>\n",
       "      <td>192.168.1.16_44854_192.168.1.18_4840</td>\n",
       "      <td>C</td>\n",
       "      <td>1.0</td>\n",
       "      <td>226.688742</td>\n",
       "      <td>29.563349</td>\n",
       "      <td>1</td>\n",
       "      <td>1.000000</td>\n",
       "      <td>0</td>\n",
       "      <td>6945</td>\n",
       "      <td>0</td>\n",
       "      <td>6945</td>\n",
       "      <td>3471</td>\n",
       "      <td>13874</td>\n",
       "      <td>31222</td>\n",
       "      <td>34688</td>\n",
       "      <td>1</td>\n",
       "      <td>1.000000</td>\n",
       "      <td>1</td>\n",
       "    </tr>\n",
       "    <tr>\n",
       "      <th>2</th>\n",
       "      <td>2</td>\n",
       "      <td>192.168.1.18_45388_192.168.1.16_4840</td>\n",
       "      <td>C</td>\n",
       "      <td>1.0</td>\n",
       "      <td>226.682193</td>\n",
       "      <td>30.341139</td>\n",
       "      <td>1</td>\n",
       "      <td>1.000000</td>\n",
       "      <td>0</td>\n",
       "      <td>7041</td>\n",
       "      <td>0</td>\n",
       "      <td>7041</td>\n",
       "      <td>3519</td>\n",
       "      <td>14066</td>\n",
       "      <td>31654</td>\n",
       "      <td>35168</td>\n",
       "      <td>2</td>\n",
       "      <td>1.000000</td>\n",
       "      <td>1</td>\n",
       "    </tr>\n",
       "    <tr>\n",
       "      <th>3</th>\n",
       "      <td>3</td>\n",
       "      <td>192.168.1.19_50892_192.168.1.16_4840</td>\n",
       "      <td>C</td>\n",
       "      <td>1.0</td>\n",
       "      <td>226.999071</td>\n",
       "      <td>9.289258</td>\n",
       "      <td>0</td>\n",
       "      <td>0.999534</td>\n",
       "      <td>1</td>\n",
       "      <td>2147</td>\n",
       "      <td>1</td>\n",
       "      <td>2147</td>\n",
       "      <td>21072</td>\n",
       "      <td>4285</td>\n",
       "      <td>9646</td>\n",
       "      <td>10716</td>\n",
       "      <td>3829</td>\n",
       "      <td>0.998150</td>\n",
       "      <td>4</td>\n",
       "    </tr>\n",
       "    <tr>\n",
       "      <th>4</th>\n",
       "      <td>4</td>\n",
       "      <td>192.168.1.19_58654_192.168.1.17_4840</td>\n",
       "      <td>C</td>\n",
       "      <td>1.0</td>\n",
       "      <td>227.885223</td>\n",
       "      <td>735.826626</td>\n",
       "      <td>0</td>\n",
       "      <td>0.999301</td>\n",
       "      <td>3</td>\n",
       "      <td>4291</td>\n",
       "      <td>3</td>\n",
       "      <td>4291</td>\n",
       "      <td>82142</td>\n",
       "      <td>8566</td>\n",
       "      <td>19274</td>\n",
       "      <td>21425</td>\n",
       "      <td>8591</td>\n",
       "      <td>0.996291</td>\n",
       "      <td>4</td>\n",
       "    </tr>\n",
       "  </tbody>\n",
       "</table>\n",
       "</div>"
      ],
      "text/plain": [
       "   Unnamed: 0                               case_id IPclass  stat_flags_mean  \\\n",
       "0           0  192.168.1.16_40656_192.168.1.17_4840       C              1.0   \n",
       "1           1  192.168.1.16_44854_192.168.1.18_4840       C              1.0   \n",
       "2           2  192.168.1.18_45388_192.168.1.16_4840       C              1.0   \n",
       "3           3  192.168.1.19_50892_192.168.1.16_4840       C              1.0   \n",
       "4           4  192.168.1.19_58654_192.168.1.17_4840       C              1.0   \n",
       "\n",
       "   stat_msg_size_mean  stat_flowDuration_tot  trace_is_fit_TR  \\\n",
       "0          226.746978              29.542159                1   \n",
       "1          226.688742              29.563349                1   \n",
       "2          226.682193              30.341139                1   \n",
       "3          226.999071               9.289258                0   \n",
       "4          227.885223             735.826626                0   \n",
       "\n",
       "   trace_fitness_TR  missing_tokens_TR  consumed_tokens_TR  \\\n",
       "0          1.000000                  0                6947   \n",
       "1          1.000000                  0                6945   \n",
       "2          1.000000                  0                7041   \n",
       "3          0.999534                  1                2147   \n",
       "4          0.999301                  3                4291   \n",
       "\n",
       "   remaining_tokens_TR  produced_tokens_TR  cost_AL  visited_states_AL  \\\n",
       "0                    0                6947     3472              13878   \n",
       "1                    0                6945     3471              13874   \n",
       "2                    0                7041     3519              14066   \n",
       "3                    1                2147    21072               4285   \n",
       "4                    3                4291    82142               8566   \n",
       "\n",
       "   queued_states_AL  traversed_arcs_AL  lp_solved_AL  fitness_AL  label  \n",
       "0             31231              34698             1    1.000000      1  \n",
       "1             31222              34688             1    1.000000      1  \n",
       "2             31654              35168             2    1.000000      1  \n",
       "3              9646              10716          3829    0.998150      4  \n",
       "4             19274              21425          8591    0.996291      4  "
      ]
     },
     "execution_count": 7,
     "metadata": {},
     "output_type": "execute_result"
    }
   ],
   "source": [
    "OPCUA_dataset.head(5)"
   ]
  },
  {
   "cell_type": "markdown",
   "metadata": {},
   "source": [
    "## Check correlations\n",
    "- 'missing_tokens_TR' ha correlazione 1 con 'remaining_tokens_TR' e sono generate dallo stesso algoritmo di Conformance Checking\n",
    "- 'consumed_tokens_TR' ha correlazione 1 con 'produced_tokens_TR' e sono generate dallo stesso algoritmo di Conformance Checking"
   ]
  },
  {
   "cell_type": "code",
   "execution_count": 8,
   "metadata": {},
   "outputs": [
    {
     "data": {
      "text/plain": [
       "remaining_tokens_TR      1.000000\n",
       "missing_tokens_TR        1.000000\n",
       "cost_AL                  0.901428\n",
       "label                    0.290430\n",
       "Unnamed: 0               0.034492\n",
       "stat_msg_size_mean      -0.354984\n",
       "lp_solved_AL            -0.501460\n",
       "stat_flags_mean         -0.610014\n",
       "stat_flowDuration_tot   -0.762691\n",
       "consumed_tokens_TR      -0.762738\n",
       "produced_tokens_TR      -0.762738\n",
       "visited_states_AL       -0.762738\n",
       "queued_states_AL        -0.762738\n",
       "traversed_arcs_AL       -0.762738\n",
       "fitness_AL              -0.762850\n",
       "trace_fitness_TR        -0.762850\n",
       "trace_is_fit_TR         -0.960789\n",
       "Name: missing_tokens_TR, dtype: float64"
      ]
     },
     "execution_count": 8,
     "metadata": {},
     "output_type": "execute_result"
    }
   ],
   "source": [
    "corr_matrix = OPCUA_dataset.corr(method='spearman')\n",
    "corr_matrix['missing_tokens_TR'].sort_values(ascending=False)"
   ]
  },
  {
   "cell_type": "code",
   "execution_count": 9,
   "metadata": {},
   "outputs": [
    {
     "data": {
      "text/plain": [
       "traversed_arcs_AL        1.000000\n",
       "consumed_tokens_TR       1.000000\n",
       "produced_tokens_TR       1.000000\n",
       "visited_states_AL        1.000000\n",
       "queued_states_AL         1.000000\n",
       "stat_flowDuration_tot    1.000000\n",
       "fitness_AL               1.000000\n",
       "trace_fitness_TR         1.000000\n",
       "trace_is_fit_TR          0.866050\n",
       "lp_solved_AL             0.828990\n",
       "stat_flags_mean          0.799846\n",
       "stat_msg_size_mean       0.465566\n",
       "Unnamed: 0              -0.045227\n",
       "label                   -0.116399\n",
       "missing_tokens_TR       -0.762738\n",
       "remaining_tokens_TR     -0.762738\n",
       "cost_AL                 -0.874963\n",
       "Name: consumed_tokens_TR, dtype: float64"
      ]
     },
     "execution_count": 9,
     "metadata": {},
     "output_type": "execute_result"
    }
   ],
   "source": [
    "corr_matrix['consumed_tokens_TR'].sort_values(ascending=False)"
   ]
  },
  {
   "cell_type": "code",
   "execution_count": 10,
   "metadata": {},
   "outputs": [
    {
     "data": {
      "text/plain": [
       "traversed_arcs_AL        1.000000\n",
       "consumed_tokens_TR       1.000000\n",
       "produced_tokens_TR       1.000000\n",
       "visited_states_AL        1.000000\n",
       "queued_states_AL         1.000000\n",
       "stat_flowDuration_tot    1.000000\n",
       "fitness_AL               1.000000\n",
       "trace_fitness_TR         1.000000\n",
       "trace_is_fit_TR          0.866050\n",
       "lp_solved_AL             0.828990\n",
       "stat_flags_mean          0.799846\n",
       "stat_msg_size_mean       0.465566\n",
       "Unnamed: 0              -0.045227\n",
       "label                   -0.116399\n",
       "missing_tokens_TR       -0.762738\n",
       "remaining_tokens_TR     -0.762738\n",
       "cost_AL                 -0.874963\n",
       "Name: visited_states_AL, dtype: float64"
      ]
     },
     "execution_count": 10,
     "metadata": {},
     "output_type": "execute_result"
    }
   ],
   "source": [
    "corr_matrix['visited_states_AL'].sort_values(ascending=False)"
   ]
  },
  {
   "cell_type": "markdown",
   "metadata": {},
   "source": [
    "## Check Scalers\n",
    "- Standard\n",
    "- Robust"
   ]
  },
  {
   "cell_type": "code",
   "execution_count": 13,
   "metadata": {},
   "outputs": [],
   "source": [
    "std_scaler = StandardScaler()\n",
    "ALcost_scaled = std_scaler.fit_transform(OPCUA_dataset['cost_AL'].values.reshape(-1,1))\n",
    "TRfit_scaled = std_scaler.fit_transform(OPCUA_dataset['trace_fitness_TR'].values.reshape(-1,1))\n",
    "miss_scaled = std_scaler.fit_transform(OPCUA_dataset['missing_tokens_TR'].values.reshape(-1,1))\n"
   ]
  },
  {
   "cell_type": "code",
   "execution_count": 14,
   "metadata": {},
   "outputs": [
    {
     "name": "stdout",
     "output_type": "stream",
     "text": [
      "StandardScaler Token Reply fitness\n"
     ]
    },
    {
     "data": {
      "text/plain": [
       "(array([-0.01469734]), array([68.047741]))"
      ]
     },
     "execution_count": 14,
     "metadata": {},
     "output_type": "execute_result"
    }
   ],
   "source": [
    "print('StandardScaler Token Reply fitness')\n",
    "min(TRfit_scaled),max(TRfit_scaled)"
   ]
  },
  {
   "cell_type": "code",
   "execution_count": 15,
   "metadata": {},
   "outputs": [
    {
     "name": "stdout",
     "output_type": "stream",
     "text": [
      "StandardScaler Alignment cost\n"
     ]
    },
    {
     "data": {
      "text/plain": [
       "(array([-77.29594761]), array([29.67500479]))"
      ]
     },
     "execution_count": 15,
     "metadata": {},
     "output_type": "execute_result"
    }
   ],
   "source": [
    "print('StandardScaler Alignment cost')\n",
    "min(ALcost_scaled),max(ALcost_scaled)"
   ]
  },
  {
   "cell_type": "code",
   "execution_count": 42,
   "metadata": {},
   "outputs": [],
   "source": [
    "#Test robust scaler --- not applied\n",
    "robust_scaler = RobustScaler()\n",
    "ALcost_Rscaled = robust_scaler.fit_transform(OPCUA_dataset['cost_AL'].values.reshape(-1,1))\n",
    "TRfit_Rscaled = robust_scaler.fit_transform(OPCUA_dataset['trace_fitness_TR'].values.reshape(-1,1))\n",
    "min(ALcost_Rscaled),max(ALcost_Rscaled),min(TRfit_Rscaled),max(TRfit_Rscaled)"
   ]
  },
  {
   "cell_type": "code",
   "execution_count": null,
   "metadata": {},
   "outputs": [],
   "source": [
    "OutputPMalgoCols = ['cost_AL', 'trace_fitness_TR'] # Need to be scaled\n",
    "SecondaryTRalgoCols = ['missing_tokens_TR','consumed_tokens_TR'] # Other cols for TR Algo\n",
    "SecondaryALalgoCols = ['queued_states_AL','lp_solved_AL'] # Other cols for AL Algo\n",
    "UselessPMalgoCols = ['Unnamed: 0','remaining_tokens_TR','produced_tokens_TR'] # Can be dropped\n",
    "PMalgoFeatures = OPCUA_dataset[OutputPMalgoCols]"
   ]
  },
  {
   "cell_type": "code",
   "execution_count": null,
   "metadata": {},
   "outputs": [],
   "source": [
    "test_pipeline = ColumnTransformer([\n",
    "    ('numeric', StandardScaler(), PMalgoFeatures)\n",
    "])"
   ]
  },
  {
   "cell_type": "code",
   "execution_count": 68,
   "metadata": {},
   "outputs": [
    {
     "data": {
      "text/plain": [
       "24389.0"
      ]
     },
     "execution_count": 68,
     "metadata": {},
     "output_type": "execute_result"
    }
   ],
   "source": [
    "OPCUA_dataset['case_id']"
   ]
  },
  {
   "cell_type": "markdown",
   "metadata": {},
   "source": [
    "# Live implementation"
   ]
  },
  {
   "cell_type": "markdown",
   "metadata": {},
   "source": [
    "## Pre-processing"
   ]
  },
  {
   "cell_type": "markdown",
   "metadata": {},
   "source": [
    "### Normal"
   ]
  },
  {
   "cell_type": "code",
   "execution_count": 16,
   "metadata": {},
   "outputs": [
    {
     "data": {
      "text/html": [
       "<div>\n",
       "<style scoped>\n",
       "    .dataframe tbody tr th:only-of-type {\n",
       "        vertical-align: middle;\n",
       "    }\n",
       "\n",
       "    .dataframe tbody tr th {\n",
       "        vertical-align: top;\n",
       "    }\n",
       "\n",
       "    .dataframe thead th {\n",
       "        text-align: right;\n",
       "    }\n",
       "</style>\n",
       "<table border=\"1\" class=\"dataframe\">\n",
       "  <thead>\n",
       "    <tr style=\"text-align: right;\">\n",
       "      <th></th>\n",
       "      <th>Unnamed: 0</th>\n",
       "      <th>case_id</th>\n",
       "      <th>IPclass</th>\n",
       "      <th>trace_is_fit_TR</th>\n",
       "      <th>trace_fitness_TR</th>\n",
       "      <th>missing_tokens_TR</th>\n",
       "      <th>consumed_tokens_TR</th>\n",
       "      <th>remaining_tokens_TR</th>\n",
       "      <th>produced_tokens_TR</th>\n",
       "      <th>cost_AL</th>\n",
       "      <th>visited_states_AL</th>\n",
       "      <th>queued_states_AL</th>\n",
       "      <th>traversed_arcs_AL</th>\n",
       "      <th>lp_solved_AL</th>\n",
       "      <th>fitness_AL</th>\n",
       "      <th>label</th>\n",
       "    </tr>\n",
       "  </thead>\n",
       "  <tbody>\n",
       "    <tr>\n",
       "      <th>0</th>\n",
       "      <td>0</td>\n",
       "      <td>192.168.1.16_40656_192.168.1.17_4840</td>\n",
       "      <td>C</td>\n",
       "      <td>1</td>\n",
       "      <td>1.00000</td>\n",
       "      <td>0</td>\n",
       "      <td>7125</td>\n",
       "      <td>0</td>\n",
       "      <td>7125</td>\n",
       "      <td>3561</td>\n",
       "      <td>14234</td>\n",
       "      <td>32032</td>\n",
       "      <td>35588</td>\n",
       "      <td>1</td>\n",
       "      <td>1.000000</td>\n",
       "      <td>Normal</td>\n",
       "    </tr>\n",
       "    <tr>\n",
       "      <th>1</th>\n",
       "      <td>1</td>\n",
       "      <td>192.168.1.16_44854_192.168.1.18_4840</td>\n",
       "      <td>C</td>\n",
       "      <td>1</td>\n",
       "      <td>1.00000</td>\n",
       "      <td>0</td>\n",
       "      <td>7123</td>\n",
       "      <td>0</td>\n",
       "      <td>7123</td>\n",
       "      <td>3560</td>\n",
       "      <td>14230</td>\n",
       "      <td>32023</td>\n",
       "      <td>35578</td>\n",
       "      <td>2</td>\n",
       "      <td>1.000000</td>\n",
       "      <td>Normal</td>\n",
       "    </tr>\n",
       "    <tr>\n",
       "      <th>2</th>\n",
       "      <td>2</td>\n",
       "      <td>192.168.1.18_45388_192.168.1.16_4840</td>\n",
       "      <td>C</td>\n",
       "      <td>1</td>\n",
       "      <td>1.00000</td>\n",
       "      <td>0</td>\n",
       "      <td>7219</td>\n",
       "      <td>0</td>\n",
       "      <td>7219</td>\n",
       "      <td>3608</td>\n",
       "      <td>14422</td>\n",
       "      <td>32455</td>\n",
       "      <td>36058</td>\n",
       "      <td>2</td>\n",
       "      <td>1.000000</td>\n",
       "      <td>Normal</td>\n",
       "    </tr>\n",
       "    <tr>\n",
       "      <th>3</th>\n",
       "      <td>3</td>\n",
       "      <td>192.168.1.19_50892_192.168.1.16_4840</td>\n",
       "      <td>C</td>\n",
       "      <td>0</td>\n",
       "      <td>0.99957</td>\n",
       "      <td>1</td>\n",
       "      <td>2325</td>\n",
       "      <td>1</td>\n",
       "      <td>2325</td>\n",
       "      <td>21161</td>\n",
       "      <td>4641</td>\n",
       "      <td>10447</td>\n",
       "      <td>11606</td>\n",
       "      <td>4233</td>\n",
       "      <td>0.998291</td>\n",
       "      <td>MITM</td>\n",
       "    </tr>\n",
       "  </tbody>\n",
       "</table>\n",
       "</div>"
      ],
      "text/plain": [
       "   Unnamed: 0                               case_id IPclass  trace_is_fit_TR  \\\n",
       "0           0  192.168.1.16_40656_192.168.1.17_4840       C                1   \n",
       "1           1  192.168.1.16_44854_192.168.1.18_4840       C                1   \n",
       "2           2  192.168.1.18_45388_192.168.1.16_4840       C                1   \n",
       "3           3  192.168.1.19_50892_192.168.1.16_4840       C                0   \n",
       "\n",
       "   trace_fitness_TR  missing_tokens_TR  consumed_tokens_TR  \\\n",
       "0           1.00000                  0                7125   \n",
       "1           1.00000                  0                7123   \n",
       "2           1.00000                  0                7219   \n",
       "3           0.99957                  1                2325   \n",
       "\n",
       "   remaining_tokens_TR  produced_tokens_TR  cost_AL  visited_states_AL  \\\n",
       "0                    0                7125     3561              14234   \n",
       "1                    0                7123     3560              14230   \n",
       "2                    0                7219     3608              14422   \n",
       "3                    1                2325    21161               4641   \n",
       "\n",
       "   queued_states_AL  traversed_arcs_AL  lp_solved_AL  fitness_AL   label  \n",
       "0             32032              35588             1    1.000000  Normal  \n",
       "1             32023              35578             2    1.000000  Normal  \n",
       "2             32455              36058             2    1.000000  Normal  \n",
       "3             10447              11606          4233    0.998291    MITM  "
      ]
     },
     "execution_count": 16,
     "metadata": {},
     "output_type": "execute_result"
    }
   ],
   "source": [
    "OPCUA_dataset.head(4)"
   ]
  },
  {
   "cell_type": "code",
   "execution_count": 3,
   "metadata": {},
   "outputs": [],
   "source": [
    "OPCUA_dataset = pd.read_csv('OPCUA_dataset_ML.csv')\n",
    "\n",
    "# Estraggo la  colonna delle label e la rimuovo dal dataset\n",
    "OPCUA_dataset_label = OPCUA_dataset['label']\n",
    "\n",
    "OPCUA_dataset.drop(columns=['Unnamed: 0',\n",
    "                            'case_id',\n",
    "                            'trace_is_fit_TR',\n",
    "                            'remaining_tokens_TR',\n",
    "                            'produced_tokens_TR',\n",
    "                            'label'],\n",
    "                      inplace=True)"
   ]
  },
  {
   "cell_type": "code",
   "execution_count": 57,
   "metadata": {},
   "outputs": [],
   "source": [
    "PMAlgo_outputs_pipeline = Pipeline([\n",
    "    ('scaler', StandardScaler())\n",
    "])\n",
    "category_pipeline = Pipeline([\n",
    "    ('ordinal', OneHotEncoder())\n",
    "])"
   ]
  },
  {
   "cell_type": "code",
   "execution_count": 19,
   "metadata": {},
   "outputs": [],
   "source": [
    "features_standard = list(['trace_fitness_TR','missing_tokens_TR','consumed_tokens_TR','cost_AL','visited_states_AL','queued_states_AL','traversed_arcs_AL','lp_solved_AL'])\n",
    "cat_features = ['IPclass']"
   ]
  },
  {
   "cell_type": "code",
   "execution_count": 5,
   "metadata": {},
   "outputs": [],
   "source": [
    "data_preprocessing = ColumnTransformer([\n",
    "    ('trace_fitness', PMAlgo_outputs_pipeline, ['trace_fitness_TR']),\n",
    "    ('missing_tokens', PMAlgo_outputs_pipeline, ['missing_tokens_TR']),\n",
    "    ('consumed_tokens', PMAlgo_outputs_pipeline, ['consumed_tokens_TR']),\n",
    "    ('cost_AL', PMAlgo_outputs_pipeline, ['cost_AL']),\n",
    "    ('visited_states', PMAlgo_outputs_pipeline, ['visited_states_AL']),\n",
    "    ('queued_states', PMAlgo_outputs_pipeline, ['queued_states_AL']),\n",
    "    ('traversed_arcs', PMAlgo_outputs_pipeline, ['traversed_arcs_AL']),\n",
    "    ('lp_solved', PMAlgo_outputs_pipeline, ['lp_solved_AL']),\n",
    "    ('category', category_pipeline, ['IPclass'])\n",
    "],\n",
    "    remainder = 'passthrough'\n",
    ")"
   ]
  },
  {
   "cell_type": "code",
   "execution_count": 6,
   "metadata": {},
   "outputs": [],
   "source": [
    "feature_matrix = data_preprocessing.fit_transform(OPCUA_dataset)"
   ]
  },
  {
   "cell_type": "code",
   "execution_count": 7,
   "metadata": {},
   "outputs": [
    {
     "data": {
      "text/plain": [
       "(74086, 12)"
      ]
     },
     "execution_count": 7,
     "metadata": {},
     "output_type": "execute_result"
    }
   ],
   "source": [
    "feature_matrix.shape"
   ]
  },
  {
   "cell_type": "code",
   "execution_count": 9,
   "metadata": {},
   "outputs": [
    {
     "data": {
      "text/plain": [
       "array([ 6.80477410e+01, -6.80405441e+01,  1.05825073e+02, -7.50032572e+01,\n",
       "        1.05887565e+02,  1.05867427e+02,  1.05869091e+02, -8.70933841e-03,\n",
       "        0.00000000e+00,  0.00000000e+00,  1.00000000e+00,  1.00000000e+00])"
      ]
     },
     "execution_count": 9,
     "metadata": {},
     "output_type": "execute_result"
    }
   ],
   "source": [
    "feature_matrix[0,:]"
   ]
  },
  {
   "cell_type": "code",
   "execution_count": 47,
   "metadata": {},
   "outputs": [
    {
     "data": {
      "text/plain": [
       "array([[ 6.80477410e+01, -6.80405441e+01,  1.05825073e+02, ...,\n",
       "         0.00000000e+00,  1.00000000e+00,  1.00000000e+00],\n",
       "       [ 6.80477410e+01, -6.80405441e+01,  1.05795360e+02, ...,\n",
       "         0.00000000e+00,  1.00000000e+00,  1.00000000e+00],\n",
       "       [ 6.80477410e+01, -6.80405441e+01,  1.07221595e+02, ...,\n",
       "         0.00000000e+00,  1.00000000e+00,  1.00000000e+00],\n",
       "       ...,\n",
       "       [-1.46973423e-02,  9.18523463e-03, -1.34484787e-02, ...,\n",
       "         0.00000000e+00,  0.00000000e+00,  0.00000000e+00],\n",
       "       [-1.46973423e-02,  9.18523463e-03, -1.34484787e-02, ...,\n",
       "         0.00000000e+00,  0.00000000e+00,  0.00000000e+00],\n",
       "       [-1.46973423e-02,  9.18523463e-03, -1.34484787e-02, ...,\n",
       "         1.00000000e+00,  0.00000000e+00,  0.00000000e+00]])"
      ]
     },
     "execution_count": 47,
     "metadata": {},
     "output_type": "execute_result"
    }
   ],
   "source": [
    "feature_matrix"
   ]
  },
  {
   "cell_type": "code",
   "execution_count": 10,
   "metadata": {},
   "outputs": [],
   "source": [
    "from sklearn import set_config"
   ]
  },
  {
   "cell_type": "code",
   "execution_count": 12,
   "metadata": {},
   "outputs": [],
   "source": [
    "set_config(display='diagram')"
   ]
  },
  {
   "cell_type": "code",
   "execution_count": 13,
   "metadata": {},
   "outputs": [
    {
     "data": {
      "text/html": [
       "<style>#sk-40658b9a-d6f4-4392-92fd-b9239674996e {color: black;background-color: white;}#sk-40658b9a-d6f4-4392-92fd-b9239674996e pre{padding: 0;}#sk-40658b9a-d6f4-4392-92fd-b9239674996e div.sk-toggleable {background-color: white;}#sk-40658b9a-d6f4-4392-92fd-b9239674996e label.sk-toggleable__label {cursor: pointer;display: block;width: 100%;margin-bottom: 0;padding: 0.3em;box-sizing: border-box;text-align: center;}#sk-40658b9a-d6f4-4392-92fd-b9239674996e label.sk-toggleable__label-arrow:before {content: \"▸\";float: left;margin-right: 0.25em;color: #696969;}#sk-40658b9a-d6f4-4392-92fd-b9239674996e label.sk-toggleable__label-arrow:hover:before {color: black;}#sk-40658b9a-d6f4-4392-92fd-b9239674996e div.sk-estimator:hover label.sk-toggleable__label-arrow:before {color: black;}#sk-40658b9a-d6f4-4392-92fd-b9239674996e div.sk-toggleable__content {max-height: 0;max-width: 0;overflow: hidden;text-align: left;background-color: #f0f8ff;}#sk-40658b9a-d6f4-4392-92fd-b9239674996e div.sk-toggleable__content pre {margin: 0.2em;color: black;border-radius: 0.25em;background-color: #f0f8ff;}#sk-40658b9a-d6f4-4392-92fd-b9239674996e input.sk-toggleable__control:checked~div.sk-toggleable__content {max-height: 200px;max-width: 100%;overflow: auto;}#sk-40658b9a-d6f4-4392-92fd-b9239674996e input.sk-toggleable__control:checked~label.sk-toggleable__label-arrow:before {content: \"▾\";}#sk-40658b9a-d6f4-4392-92fd-b9239674996e div.sk-estimator input.sk-toggleable__control:checked~label.sk-toggleable__label {background-color: #d4ebff;}#sk-40658b9a-d6f4-4392-92fd-b9239674996e div.sk-label input.sk-toggleable__control:checked~label.sk-toggleable__label {background-color: #d4ebff;}#sk-40658b9a-d6f4-4392-92fd-b9239674996e input.sk-hidden--visually {border: 0;clip: rect(1px 1px 1px 1px);clip: rect(1px, 1px, 1px, 1px);height: 1px;margin: -1px;overflow: hidden;padding: 0;position: absolute;width: 1px;}#sk-40658b9a-d6f4-4392-92fd-b9239674996e div.sk-estimator {font-family: monospace;background-color: #f0f8ff;border: 1px dotted black;border-radius: 0.25em;box-sizing: border-box;margin-bottom: 0.5em;}#sk-40658b9a-d6f4-4392-92fd-b9239674996e div.sk-estimator:hover {background-color: #d4ebff;}#sk-40658b9a-d6f4-4392-92fd-b9239674996e div.sk-parallel-item::after {content: \"\";width: 100%;border-bottom: 1px solid gray;flex-grow: 1;}#sk-40658b9a-d6f4-4392-92fd-b9239674996e div.sk-label:hover label.sk-toggleable__label {background-color: #d4ebff;}#sk-40658b9a-d6f4-4392-92fd-b9239674996e div.sk-serial::before {content: \"\";position: absolute;border-left: 1px solid gray;box-sizing: border-box;top: 2em;bottom: 0;left: 50%;}#sk-40658b9a-d6f4-4392-92fd-b9239674996e div.sk-serial {display: flex;flex-direction: column;align-items: center;background-color: white;padding-right: 0.2em;padding-left: 0.2em;}#sk-40658b9a-d6f4-4392-92fd-b9239674996e div.sk-item {z-index: 1;}#sk-40658b9a-d6f4-4392-92fd-b9239674996e div.sk-parallel {display: flex;align-items: stretch;justify-content: center;background-color: white;}#sk-40658b9a-d6f4-4392-92fd-b9239674996e div.sk-parallel::before {content: \"\";position: absolute;border-left: 1px solid gray;box-sizing: border-box;top: 2em;bottom: 0;left: 50%;}#sk-40658b9a-d6f4-4392-92fd-b9239674996e div.sk-parallel-item {display: flex;flex-direction: column;position: relative;background-color: white;}#sk-40658b9a-d6f4-4392-92fd-b9239674996e div.sk-parallel-item:first-child::after {align-self: flex-end;width: 50%;}#sk-40658b9a-d6f4-4392-92fd-b9239674996e div.sk-parallel-item:last-child::after {align-self: flex-start;width: 50%;}#sk-40658b9a-d6f4-4392-92fd-b9239674996e div.sk-parallel-item:only-child::after {width: 0;}#sk-40658b9a-d6f4-4392-92fd-b9239674996e div.sk-dashed-wrapped {border: 1px dashed gray;margin: 0 0.4em 0.5em 0.4em;box-sizing: border-box;padding-bottom: 0.4em;background-color: white;position: relative;}#sk-40658b9a-d6f4-4392-92fd-b9239674996e div.sk-label label {font-family: monospace;font-weight: bold;background-color: white;display: inline-block;line-height: 1.2em;}#sk-40658b9a-d6f4-4392-92fd-b9239674996e div.sk-label-container {position: relative;z-index: 2;text-align: center;}#sk-40658b9a-d6f4-4392-92fd-b9239674996e div.sk-container {/* jupyter's `normalize.less` sets `[hidden] { display: none; }` but bootstrap.min.css set `[hidden] { display: none !important; }` so we also need the `!important` here to be able to override the default hidden behavior on the sphinx rendered scikit-learn.org. See: https://github.com/scikit-learn/scikit-learn/issues/21755 */display: inline-block !important;position: relative;}#sk-40658b9a-d6f4-4392-92fd-b9239674996e div.sk-text-repr-fallback {display: none;}</style><div id=\"sk-40658b9a-d6f4-4392-92fd-b9239674996e\" class=\"sk-top-container\"><div class=\"sk-text-repr-fallback\"><pre>ColumnTransformer(remainder=&#x27;passthrough&#x27;,\n",
       "                  transformers=[(&#x27;trace_fitness&#x27;,\n",
       "                                 Pipeline(steps=[(&#x27;scaler&#x27;, StandardScaler())]),\n",
       "                                 [&#x27;trace_fitness_TR&#x27;]),\n",
       "                                (&#x27;missing_tokens&#x27;,\n",
       "                                 Pipeline(steps=[(&#x27;scaler&#x27;, StandardScaler())]),\n",
       "                                 [&#x27;missing_tokens_TR&#x27;]),\n",
       "                                (&#x27;consumed_tokens&#x27;,\n",
       "                                 Pipeline(steps=[(&#x27;scaler&#x27;, StandardScaler())]),\n",
       "                                 [&#x27;consumed_tokens_TR&#x27;]),\n",
       "                                (&#x27;cost_AL&#x27;,\n",
       "                                 Pipeline(steps=[(&#x27;scal...\n",
       "                                 Pipeline(steps=[(&#x27;scaler&#x27;, StandardScaler())]),\n",
       "                                 [&#x27;visited_states_AL&#x27;]),\n",
       "                                (&#x27;queued_states&#x27;,\n",
       "                                 Pipeline(steps=[(&#x27;scaler&#x27;, StandardScaler())]),\n",
       "                                 [&#x27;queued_states_AL&#x27;]),\n",
       "                                (&#x27;traversed_arcs&#x27;,\n",
       "                                 Pipeline(steps=[(&#x27;scaler&#x27;, StandardScaler())]),\n",
       "                                 [&#x27;traversed_arcs_AL&#x27;]),\n",
       "                                (&#x27;lp_solved&#x27;,\n",
       "                                 Pipeline(steps=[(&#x27;scaler&#x27;, StandardScaler())]),\n",
       "                                 [&#x27;lp_solved_AL&#x27;]),\n",
       "                                (&#x27;category&#x27;,\n",
       "                                 Pipeline(steps=[(&#x27;ordinal&#x27;, OneHotEncoder())]),\n",
       "                                 [&#x27;IPclass&#x27;])])</pre><b>Please rerun this cell to show the HTML repr or trust the notebook.</b></div><div class=\"sk-container\" hidden><div class=\"sk-item sk-dashed-wrapped\"><div class=\"sk-label-container\"><div class=\"sk-label sk-toggleable\"><input class=\"sk-toggleable__control sk-hidden--visually\" id=\"f2c4230d-263f-45e8-829a-fc7c9a95ff4b\" type=\"checkbox\" ><label for=\"f2c4230d-263f-45e8-829a-fc7c9a95ff4b\" class=\"sk-toggleable__label sk-toggleable__label-arrow\">ColumnTransformer</label><div class=\"sk-toggleable__content\"><pre>ColumnTransformer(remainder=&#x27;passthrough&#x27;,\n",
       "                  transformers=[(&#x27;trace_fitness&#x27;,\n",
       "                                 Pipeline(steps=[(&#x27;scaler&#x27;, StandardScaler())]),\n",
       "                                 [&#x27;trace_fitness_TR&#x27;]),\n",
       "                                (&#x27;missing_tokens&#x27;,\n",
       "                                 Pipeline(steps=[(&#x27;scaler&#x27;, StandardScaler())]),\n",
       "                                 [&#x27;missing_tokens_TR&#x27;]),\n",
       "                                (&#x27;consumed_tokens&#x27;,\n",
       "                                 Pipeline(steps=[(&#x27;scaler&#x27;, StandardScaler())]),\n",
       "                                 [&#x27;consumed_tokens_TR&#x27;]),\n",
       "                                (&#x27;cost_AL&#x27;,\n",
       "                                 Pipeline(steps=[(&#x27;scal...\n",
       "                                 Pipeline(steps=[(&#x27;scaler&#x27;, StandardScaler())]),\n",
       "                                 [&#x27;visited_states_AL&#x27;]),\n",
       "                                (&#x27;queued_states&#x27;,\n",
       "                                 Pipeline(steps=[(&#x27;scaler&#x27;, StandardScaler())]),\n",
       "                                 [&#x27;queued_states_AL&#x27;]),\n",
       "                                (&#x27;traversed_arcs&#x27;,\n",
       "                                 Pipeline(steps=[(&#x27;scaler&#x27;, StandardScaler())]),\n",
       "                                 [&#x27;traversed_arcs_AL&#x27;]),\n",
       "                                (&#x27;lp_solved&#x27;,\n",
       "                                 Pipeline(steps=[(&#x27;scaler&#x27;, StandardScaler())]),\n",
       "                                 [&#x27;lp_solved_AL&#x27;]),\n",
       "                                (&#x27;category&#x27;,\n",
       "                                 Pipeline(steps=[(&#x27;ordinal&#x27;, OneHotEncoder())]),\n",
       "                                 [&#x27;IPclass&#x27;])])</pre></div></div></div><div class=\"sk-parallel\"><div class=\"sk-parallel-item\"><div class=\"sk-item\"><div class=\"sk-label-container\"><div class=\"sk-label sk-toggleable\"><input class=\"sk-toggleable__control sk-hidden--visually\" id=\"de416d66-3df8-41a9-90d0-9368420258fc\" type=\"checkbox\" ><label for=\"de416d66-3df8-41a9-90d0-9368420258fc\" class=\"sk-toggleable__label sk-toggleable__label-arrow\">trace_fitness</label><div class=\"sk-toggleable__content\"><pre>[&#x27;trace_fitness_TR&#x27;]</pre></div></div></div><div class=\"sk-serial\"><div class=\"sk-item\"><div class=\"sk-serial\"><div class=\"sk-item\"><div class=\"sk-estimator sk-toggleable\"><input class=\"sk-toggleable__control sk-hidden--visually\" id=\"95794665-1222-42a3-ad26-50b62baeea2b\" type=\"checkbox\" ><label for=\"95794665-1222-42a3-ad26-50b62baeea2b\" class=\"sk-toggleable__label sk-toggleable__label-arrow\">StandardScaler</label><div class=\"sk-toggleable__content\"><pre>StandardScaler()</pre></div></div></div></div></div></div></div></div><div class=\"sk-parallel-item\"><div class=\"sk-item\"><div class=\"sk-label-container\"><div class=\"sk-label sk-toggleable\"><input class=\"sk-toggleable__control sk-hidden--visually\" id=\"5ccf45a9-dd9f-4461-9558-7f3fa96bbb1f\" type=\"checkbox\" ><label for=\"5ccf45a9-dd9f-4461-9558-7f3fa96bbb1f\" class=\"sk-toggleable__label sk-toggleable__label-arrow\">missing_tokens</label><div class=\"sk-toggleable__content\"><pre>[&#x27;missing_tokens_TR&#x27;]</pre></div></div></div><div class=\"sk-serial\"><div class=\"sk-item\"><div class=\"sk-serial\"><div class=\"sk-item\"><div class=\"sk-estimator sk-toggleable\"><input class=\"sk-toggleable__control sk-hidden--visually\" id=\"afa4a6fd-1fd2-4418-b0e4-b854a043f065\" type=\"checkbox\" ><label for=\"afa4a6fd-1fd2-4418-b0e4-b854a043f065\" class=\"sk-toggleable__label sk-toggleable__label-arrow\">StandardScaler</label><div class=\"sk-toggleable__content\"><pre>StandardScaler()</pre></div></div></div></div></div></div></div></div><div class=\"sk-parallel-item\"><div class=\"sk-item\"><div class=\"sk-label-container\"><div class=\"sk-label sk-toggleable\"><input class=\"sk-toggleable__control sk-hidden--visually\" id=\"bc00203f-2aa8-46c2-82fd-3239e7c87aa6\" type=\"checkbox\" ><label for=\"bc00203f-2aa8-46c2-82fd-3239e7c87aa6\" class=\"sk-toggleable__label sk-toggleable__label-arrow\">consumed_tokens</label><div class=\"sk-toggleable__content\"><pre>[&#x27;consumed_tokens_TR&#x27;]</pre></div></div></div><div class=\"sk-serial\"><div class=\"sk-item\"><div class=\"sk-serial\"><div class=\"sk-item\"><div class=\"sk-estimator sk-toggleable\"><input class=\"sk-toggleable__control sk-hidden--visually\" id=\"8a14ea9d-2b0f-4295-a64d-7063eafae818\" type=\"checkbox\" ><label for=\"8a14ea9d-2b0f-4295-a64d-7063eafae818\" class=\"sk-toggleable__label sk-toggleable__label-arrow\">StandardScaler</label><div class=\"sk-toggleable__content\"><pre>StandardScaler()</pre></div></div></div></div></div></div></div></div><div class=\"sk-parallel-item\"><div class=\"sk-item\"><div class=\"sk-label-container\"><div class=\"sk-label sk-toggleable\"><input class=\"sk-toggleable__control sk-hidden--visually\" id=\"bf759e7f-20e4-44e2-94b2-f8a4bc031098\" type=\"checkbox\" ><label for=\"bf759e7f-20e4-44e2-94b2-f8a4bc031098\" class=\"sk-toggleable__label sk-toggleable__label-arrow\">cost_AL</label><div class=\"sk-toggleable__content\"><pre>[&#x27;cost_AL&#x27;]</pre></div></div></div><div class=\"sk-serial\"><div class=\"sk-item\"><div class=\"sk-serial\"><div class=\"sk-item\"><div class=\"sk-estimator sk-toggleable\"><input class=\"sk-toggleable__control sk-hidden--visually\" id=\"a0b45f62-48cb-4ed5-8cee-31f5b158c4e8\" type=\"checkbox\" ><label for=\"a0b45f62-48cb-4ed5-8cee-31f5b158c4e8\" class=\"sk-toggleable__label sk-toggleable__label-arrow\">StandardScaler</label><div class=\"sk-toggleable__content\"><pre>StandardScaler()</pre></div></div></div></div></div></div></div></div><div class=\"sk-parallel-item\"><div class=\"sk-item\"><div class=\"sk-label-container\"><div class=\"sk-label sk-toggleable\"><input class=\"sk-toggleable__control sk-hidden--visually\" id=\"19b6b4d1-adde-4084-9ac2-69b88b44a464\" type=\"checkbox\" ><label for=\"19b6b4d1-adde-4084-9ac2-69b88b44a464\" class=\"sk-toggleable__label sk-toggleable__label-arrow\">visited_states</label><div class=\"sk-toggleable__content\"><pre>[&#x27;visited_states_AL&#x27;]</pre></div></div></div><div class=\"sk-serial\"><div class=\"sk-item\"><div class=\"sk-serial\"><div class=\"sk-item\"><div class=\"sk-estimator sk-toggleable\"><input class=\"sk-toggleable__control sk-hidden--visually\" id=\"4c062bad-2453-4469-8930-73bdf2f299c2\" type=\"checkbox\" ><label for=\"4c062bad-2453-4469-8930-73bdf2f299c2\" class=\"sk-toggleable__label sk-toggleable__label-arrow\">StandardScaler</label><div class=\"sk-toggleable__content\"><pre>StandardScaler()</pre></div></div></div></div></div></div></div></div><div class=\"sk-parallel-item\"><div class=\"sk-item\"><div class=\"sk-label-container\"><div class=\"sk-label sk-toggleable\"><input class=\"sk-toggleable__control sk-hidden--visually\" id=\"3845c6e5-0940-4746-bafd-9a15000601ff\" type=\"checkbox\" ><label for=\"3845c6e5-0940-4746-bafd-9a15000601ff\" class=\"sk-toggleable__label sk-toggleable__label-arrow\">queued_states</label><div class=\"sk-toggleable__content\"><pre>[&#x27;queued_states_AL&#x27;]</pre></div></div></div><div class=\"sk-serial\"><div class=\"sk-item\"><div class=\"sk-serial\"><div class=\"sk-item\"><div class=\"sk-estimator sk-toggleable\"><input class=\"sk-toggleable__control sk-hidden--visually\" id=\"52b199b5-5e6e-4f66-9dd3-50817f51144a\" type=\"checkbox\" ><label for=\"52b199b5-5e6e-4f66-9dd3-50817f51144a\" class=\"sk-toggleable__label sk-toggleable__label-arrow\">StandardScaler</label><div class=\"sk-toggleable__content\"><pre>StandardScaler()</pre></div></div></div></div></div></div></div></div><div class=\"sk-parallel-item\"><div class=\"sk-item\"><div class=\"sk-label-container\"><div class=\"sk-label sk-toggleable\"><input class=\"sk-toggleable__control sk-hidden--visually\" id=\"21084b29-486e-451f-96a2-49364ac1ac86\" type=\"checkbox\" ><label for=\"21084b29-486e-451f-96a2-49364ac1ac86\" class=\"sk-toggleable__label sk-toggleable__label-arrow\">traversed_arcs</label><div class=\"sk-toggleable__content\"><pre>[&#x27;traversed_arcs_AL&#x27;]</pre></div></div></div><div class=\"sk-serial\"><div class=\"sk-item\"><div class=\"sk-serial\"><div class=\"sk-item\"><div class=\"sk-estimator sk-toggleable\"><input class=\"sk-toggleable__control sk-hidden--visually\" id=\"56721d0a-6f08-4a30-867f-701e6b59e225\" type=\"checkbox\" ><label for=\"56721d0a-6f08-4a30-867f-701e6b59e225\" class=\"sk-toggleable__label sk-toggleable__label-arrow\">StandardScaler</label><div class=\"sk-toggleable__content\"><pre>StandardScaler()</pre></div></div></div></div></div></div></div></div><div class=\"sk-parallel-item\"><div class=\"sk-item\"><div class=\"sk-label-container\"><div class=\"sk-label sk-toggleable\"><input class=\"sk-toggleable__control sk-hidden--visually\" id=\"5225a2a8-17bf-4d3a-a2bb-740f1131c10a\" type=\"checkbox\" ><label for=\"5225a2a8-17bf-4d3a-a2bb-740f1131c10a\" class=\"sk-toggleable__label sk-toggleable__label-arrow\">lp_solved</label><div class=\"sk-toggleable__content\"><pre>[&#x27;lp_solved_AL&#x27;]</pre></div></div></div><div class=\"sk-serial\"><div class=\"sk-item\"><div class=\"sk-serial\"><div class=\"sk-item\"><div class=\"sk-estimator sk-toggleable\"><input class=\"sk-toggleable__control sk-hidden--visually\" id=\"d4d417ee-88c4-4d86-9de4-4fe1e41520fa\" type=\"checkbox\" ><label for=\"d4d417ee-88c4-4d86-9de4-4fe1e41520fa\" class=\"sk-toggleable__label sk-toggleable__label-arrow\">StandardScaler</label><div class=\"sk-toggleable__content\"><pre>StandardScaler()</pre></div></div></div></div></div></div></div></div><div class=\"sk-parallel-item\"><div class=\"sk-item\"><div class=\"sk-label-container\"><div class=\"sk-label sk-toggleable\"><input class=\"sk-toggleable__control sk-hidden--visually\" id=\"cf30ea76-c73e-441b-b3e5-3d4f1c9a2950\" type=\"checkbox\" ><label for=\"cf30ea76-c73e-441b-b3e5-3d4f1c9a2950\" class=\"sk-toggleable__label sk-toggleable__label-arrow\">category</label><div class=\"sk-toggleable__content\"><pre>[&#x27;IPclass&#x27;]</pre></div></div></div><div class=\"sk-serial\"><div class=\"sk-item\"><div class=\"sk-serial\"><div class=\"sk-item\"><div class=\"sk-estimator sk-toggleable\"><input class=\"sk-toggleable__control sk-hidden--visually\" id=\"51733efc-5800-47af-86e8-b756b969505f\" type=\"checkbox\" ><label for=\"51733efc-5800-47af-86e8-b756b969505f\" class=\"sk-toggleable__label sk-toggleable__label-arrow\">OneHotEncoder</label><div class=\"sk-toggleable__content\"><pre>OneHotEncoder()</pre></div></div></div></div></div></div></div></div><div class=\"sk-parallel-item\"><div class=\"sk-item\"><div class=\"sk-label-container\"><div class=\"sk-label sk-toggleable\"><input class=\"sk-toggleable__control sk-hidden--visually\" id=\"65fcc6a6-d8eb-4d46-a19e-3e601a3d103e\" type=\"checkbox\" ><label for=\"65fcc6a6-d8eb-4d46-a19e-3e601a3d103e\" class=\"sk-toggleable__label sk-toggleable__label-arrow\">remainder</label><div class=\"sk-toggleable__content\"><pre>[&#x27;fitness_AL&#x27;]</pre></div></div></div><div class=\"sk-serial\"><div class=\"sk-item\"><div class=\"sk-estimator sk-toggleable\"><input class=\"sk-toggleable__control sk-hidden--visually\" id=\"537a69cf-f840-4c50-9653-56b9c7046796\" type=\"checkbox\" ><label for=\"537a69cf-f840-4c50-9653-56b9c7046796\" class=\"sk-toggleable__label sk-toggleable__label-arrow\">passthrough</label><div class=\"sk-toggleable__content\"><pre>passthrough</pre></div></div></div></div></div></div></div></div></div></div>"
      ],
      "text/plain": [
       "ColumnTransformer(remainder='passthrough',\n",
       "                  transformers=[('trace_fitness',\n",
       "                                 Pipeline(steps=[('scaler', StandardScaler())]),\n",
       "                                 ['trace_fitness_TR']),\n",
       "                                ('missing_tokens',\n",
       "                                 Pipeline(steps=[('scaler', StandardScaler())]),\n",
       "                                 ['missing_tokens_TR']),\n",
       "                                ('consumed_tokens',\n",
       "                                 Pipeline(steps=[('scaler', StandardScaler())]),\n",
       "                                 ['consumed_tokens_TR']),\n",
       "                                ('cost_AL',\n",
       "                                 Pipeline(steps=[('scal...\n",
       "                                 Pipeline(steps=[('scaler', StandardScaler())]),\n",
       "                                 ['visited_states_AL']),\n",
       "                                ('queued_states',\n",
       "                                 Pipeline(steps=[('scaler', StandardScaler())]),\n",
       "                                 ['queued_states_AL']),\n",
       "                                ('traversed_arcs',\n",
       "                                 Pipeline(steps=[('scaler', StandardScaler())]),\n",
       "                                 ['traversed_arcs_AL']),\n",
       "                                ('lp_solved',\n",
       "                                 Pipeline(steps=[('scaler', StandardScaler())]),\n",
       "                                 ['lp_solved_AL']),\n",
       "                                ('category',\n",
       "                                 Pipeline(steps=[('ordinal', OneHotEncoder())]),\n",
       "                                 ['IPclass'])])"
      ]
     },
     "execution_count": 13,
     "metadata": {},
     "output_type": "execute_result"
    }
   ],
   "source": [
    "data_preprocessing"
   ]
  },
  {
   "cell_type": "markdown",
   "metadata": {},
   "source": [
    "### Split based on class"
   ]
  },
  {
   "cell_type": "code",
   "execution_count": 26,
   "metadata": {},
   "outputs": [],
   "source": [
    "OPCUA_dataset = pd.read_csv('OPCUA_dataset_ML.csv')\n",
    "OPCUA_dataset_label = OPCUA_dataset['label']\n",
    "normal_or_DoS = (OPCUA_dataset_label == 'Normal') | (OPCUA_dataset_label == 'DoS')\n",
    "X_norm_dos = OPCUA_dataset[normal_or_DoS]\n",
    "y_norm_dos = OPCUA_dataset_label[normal_or_DoS]"
   ]
  },
  {
   "cell_type": "code",
   "execution_count": 27,
   "metadata": {},
   "outputs": [
    {
     "data": {
      "text/plain": [
       "0        Normal\n",
       "1        Normal\n",
       "2        Normal\n",
       "5        Normal\n",
       "9        Normal\n",
       "          ...  \n",
       "74081       DoS\n",
       "74082       DoS\n",
       "74083       DoS\n",
       "74084       DoS\n",
       "74085       DoS\n",
       "Name: label, Length: 74031, dtype: object"
      ]
     },
     "execution_count": 27,
     "metadata": {},
     "output_type": "execute_result"
    }
   ],
   "source": [
    "y_norm_dos"
   ]
  },
  {
   "cell_type": "code",
   "execution_count": 30,
   "metadata": {},
   "outputs": [
    {
     "data": {
      "text/plain": [
       "Index(['cost_AL', 'lp_solved_AL'], dtype='object')"
      ]
     },
     "execution_count": 30,
     "metadata": {},
     "output_type": "execute_result"
    }
   ],
   "source": [
    "X_norm_dos.columns"
   ]
  },
  {
   "cell_type": "code",
   "execution_count": 29,
   "metadata": {},
   "outputs": [
    {
     "name": "stderr",
     "output_type": "stream",
     "text": [
      "/var/folders/v6/jrh7dpmj4rn6h4bw6xqfx5n40000gn/T/ipykernel_3401/3325755143.py:1: SettingWithCopyWarning: \n",
      "A value is trying to be set on a copy of a slice from a DataFrame\n",
      "\n",
      "See the caveats in the documentation: https://pandas.pydata.org/pandas-docs/stable/user_guide/indexing.html#returning-a-view-versus-a-copy\n",
      "  X_norm_dos.drop(columns=['Unnamed: 0','IPclass', 'case_id','trace_fitness_TR','missing_tokens_TR','consumed_tokens_TR',\n"
     ]
    }
   ],
   "source": [
    "X_norm_dos.drop(columns=['Unnamed: 0','IPclass', 'case_id','trace_fitness_TR','missing_tokens_TR','consumed_tokens_TR',\n",
    "                            'trace_is_fit_TR','visited_states_AL','queued_states_AL','traversed_arcs_AL','fitness_AL',\n",
    "                            'remaining_tokens_TR',\n",
    "                            'produced_tokens_TR',\n",
    "                            'label'],\n",
    "                      inplace=True)"
   ]
  },
  {
   "cell_type": "markdown",
   "metadata": {},
   "source": [
    "# Classification"
   ]
  },
  {
   "cell_type": "markdown",
   "metadata": {},
   "source": [
    "## Perceptron"
   ]
  },
  {
   "cell_type": "code",
   "execution_count": 18,
   "metadata": {},
   "outputs": [],
   "source": [
    "# Supervised Learning\n",
    "from sklearn.model_selection import train_test_split, cross_val_score, cross_val_predict, KFold, StratifiedKFold, RepeatedKFold, ShuffleSplit, StratifiedShuffleSplit, learning_curve, validation_curve\n",
    "from sklearn.linear_model import Perceptron, LogisticRegression\n",
    "from sklearn.base import BaseEstimator\n",
    "from sklearn.metrics import confusion_matrix, precision_score, recall_score, f1_score, precision_recall_curve, roc_curve, multilabel_confusion_matrix\n",
    "from sklearn.dummy import DummyClassifier\n",
    "from sklearn.multiclass import OneVsOneClassifier, OneVsRestClassifier\n",
    "\n",
    "# Unsupervised Learning\n",
    "\n",
    "# Visualization\n",
    "import matplotlib.pyplot as plt\n",
    "import matplotlib as mpl\n",
    "%matplotlib inline"
   ]
  },
  {
   "cell_type": "code",
   "execution_count": 88,
   "metadata": {},
   "outputs": [
    {
     "data": {
      "text/html": [
       "<style>#sk-e62105ac-fcb1-4263-9ddd-eb4e633981eb {color: black;background-color: white;}#sk-e62105ac-fcb1-4263-9ddd-eb4e633981eb pre{padding: 0;}#sk-e62105ac-fcb1-4263-9ddd-eb4e633981eb div.sk-toggleable {background-color: white;}#sk-e62105ac-fcb1-4263-9ddd-eb4e633981eb label.sk-toggleable__label {cursor: pointer;display: block;width: 100%;margin-bottom: 0;padding: 0.3em;box-sizing: border-box;text-align: center;}#sk-e62105ac-fcb1-4263-9ddd-eb4e633981eb label.sk-toggleable__label-arrow:before {content: \"▸\";float: left;margin-right: 0.25em;color: #696969;}#sk-e62105ac-fcb1-4263-9ddd-eb4e633981eb label.sk-toggleable__label-arrow:hover:before {color: black;}#sk-e62105ac-fcb1-4263-9ddd-eb4e633981eb div.sk-estimator:hover label.sk-toggleable__label-arrow:before {color: black;}#sk-e62105ac-fcb1-4263-9ddd-eb4e633981eb div.sk-toggleable__content {max-height: 0;max-width: 0;overflow: hidden;text-align: left;background-color: #f0f8ff;}#sk-e62105ac-fcb1-4263-9ddd-eb4e633981eb div.sk-toggleable__content pre {margin: 0.2em;color: black;border-radius: 0.25em;background-color: #f0f8ff;}#sk-e62105ac-fcb1-4263-9ddd-eb4e633981eb input.sk-toggleable__control:checked~div.sk-toggleable__content {max-height: 200px;max-width: 100%;overflow: auto;}#sk-e62105ac-fcb1-4263-9ddd-eb4e633981eb input.sk-toggleable__control:checked~label.sk-toggleable__label-arrow:before {content: \"▾\";}#sk-e62105ac-fcb1-4263-9ddd-eb4e633981eb div.sk-estimator input.sk-toggleable__control:checked~label.sk-toggleable__label {background-color: #d4ebff;}#sk-e62105ac-fcb1-4263-9ddd-eb4e633981eb div.sk-label input.sk-toggleable__control:checked~label.sk-toggleable__label {background-color: #d4ebff;}#sk-e62105ac-fcb1-4263-9ddd-eb4e633981eb input.sk-hidden--visually {border: 0;clip: rect(1px 1px 1px 1px);clip: rect(1px, 1px, 1px, 1px);height: 1px;margin: -1px;overflow: hidden;padding: 0;position: absolute;width: 1px;}#sk-e62105ac-fcb1-4263-9ddd-eb4e633981eb div.sk-estimator {font-family: monospace;background-color: #f0f8ff;border: 1px dotted black;border-radius: 0.25em;box-sizing: border-box;margin-bottom: 0.5em;}#sk-e62105ac-fcb1-4263-9ddd-eb4e633981eb div.sk-estimator:hover {background-color: #d4ebff;}#sk-e62105ac-fcb1-4263-9ddd-eb4e633981eb div.sk-parallel-item::after {content: \"\";width: 100%;border-bottom: 1px solid gray;flex-grow: 1;}#sk-e62105ac-fcb1-4263-9ddd-eb4e633981eb div.sk-label:hover label.sk-toggleable__label {background-color: #d4ebff;}#sk-e62105ac-fcb1-4263-9ddd-eb4e633981eb div.sk-serial::before {content: \"\";position: absolute;border-left: 1px solid gray;box-sizing: border-box;top: 2em;bottom: 0;left: 50%;}#sk-e62105ac-fcb1-4263-9ddd-eb4e633981eb div.sk-serial {display: flex;flex-direction: column;align-items: center;background-color: white;padding-right: 0.2em;padding-left: 0.2em;}#sk-e62105ac-fcb1-4263-9ddd-eb4e633981eb div.sk-item {z-index: 1;}#sk-e62105ac-fcb1-4263-9ddd-eb4e633981eb div.sk-parallel {display: flex;align-items: stretch;justify-content: center;background-color: white;}#sk-e62105ac-fcb1-4263-9ddd-eb4e633981eb div.sk-parallel::before {content: \"\";position: absolute;border-left: 1px solid gray;box-sizing: border-box;top: 2em;bottom: 0;left: 50%;}#sk-e62105ac-fcb1-4263-9ddd-eb4e633981eb div.sk-parallel-item {display: flex;flex-direction: column;position: relative;background-color: white;}#sk-e62105ac-fcb1-4263-9ddd-eb4e633981eb div.sk-parallel-item:first-child::after {align-self: flex-end;width: 50%;}#sk-e62105ac-fcb1-4263-9ddd-eb4e633981eb div.sk-parallel-item:last-child::after {align-self: flex-start;width: 50%;}#sk-e62105ac-fcb1-4263-9ddd-eb4e633981eb div.sk-parallel-item:only-child::after {width: 0;}#sk-e62105ac-fcb1-4263-9ddd-eb4e633981eb div.sk-dashed-wrapped {border: 1px dashed gray;margin: 0 0.4em 0.5em 0.4em;box-sizing: border-box;padding-bottom: 0.4em;background-color: white;position: relative;}#sk-e62105ac-fcb1-4263-9ddd-eb4e633981eb div.sk-label label {font-family: monospace;font-weight: bold;background-color: white;display: inline-block;line-height: 1.2em;}#sk-e62105ac-fcb1-4263-9ddd-eb4e633981eb div.sk-label-container {position: relative;z-index: 2;text-align: center;}#sk-e62105ac-fcb1-4263-9ddd-eb4e633981eb div.sk-container {/* jupyter's `normalize.less` sets `[hidden] { display: none; }` but bootstrap.min.css set `[hidden] { display: none !important; }` so we also need the `!important` here to be able to override the default hidden behavior on the sphinx rendered scikit-learn.org. See: https://github.com/scikit-learn/scikit-learn/issues/21755 */display: inline-block !important;position: relative;}#sk-e62105ac-fcb1-4263-9ddd-eb4e633981eb div.sk-text-repr-fallback {display: none;}</style><div id=\"sk-e62105ac-fcb1-4263-9ddd-eb4e633981eb\" class=\"sk-top-container\"><div class=\"sk-text-repr-fallback\"><pre>Perceptron()</pre><b>Please rerun this cell to show the HTML repr or trust the notebook.</b></div><div class=\"sk-container\" hidden><div class=\"sk-item\"><div class=\"sk-estimator sk-toggleable\"><input class=\"sk-toggleable__control sk-hidden--visually\" id=\"bc4b8264-de3c-4ac6-abd7-35a01d380b67\" type=\"checkbox\" checked><label for=\"bc4b8264-de3c-4ac6-abd7-35a01d380b67\" class=\"sk-toggleable__label sk-toggleable__label-arrow\">Perceptron</label><div class=\"sk-toggleable__content\"><pre>Perceptron()</pre></div></div></div></div></div>"
      ],
      "text/plain": [
       "Perceptron()"
      ]
     },
     "execution_count": 88,
     "metadata": {},
     "output_type": "execute_result"
    }
   ],
   "source": [
    "perceptron = Perceptron()\n",
    "perceptron.fit(feature_matrix, OPCUA_dataset_label)"
   ]
  },
  {
   "cell_type": "code",
   "execution_count": 89,
   "metadata": {},
   "outputs": [
    {
     "name": "stdout",
     "output_type": "stream",
     "text": [
      "0 True label : Normal, Predicted Label: Normal\n",
      "1 True label : Normal, Predicted Label: Normal\n",
      "2 True label : Normal, Predicted Label: Normal\n",
      "3 True label : MITM, Predicted Label: MITM\n",
      "4 True label : MITM, Predicted Label: MITM\n",
      "5 True label : Normal, Predicted Label: Normal\n",
      "6 True label : MITM, Predicted Label: MITM\n",
      "7 True label : MITM, Predicted Label: MITM\n",
      "8 True label : MITM, Predicted Label: MITM\n",
      "9 True label : Normal, Predicted Label: Normal\n",
      "10 True label : Normal, Predicted Label: Normal\n",
      "11 True label : Normal, Predicted Label: Normal\n",
      "12 True label : Normal, Predicted Label: Normal\n",
      "13 True label : Normal, Predicted Label: Normal\n",
      "14 True label : Normal, Predicted Label: Normal\n",
      "15 True label : MITM, Predicted Label: MITM\n",
      "16 True label : Normal, Predicted Label: DoS\n",
      "17 True label : Normal, Predicted Label: DoS\n",
      "18 True label : Normal, Predicted Label: DoS\n",
      "19 True label : Normal, Predicted Label: DoS\n",
      "20 True label : Normal, Predicted Label: DoS\n",
      "21 True label : Normal, Predicted Label: DoS\n",
      "22 True label : Normal, Predicted Label: DoS\n",
      "23 True label : Normal, Predicted Label: DoS\n",
      "24 True label : DoS, Predicted Label: DoS\n",
      "25 True label : DoS, Predicted Label: DoS\n",
      "26 True label : DoS, Predicted Label: DoS\n",
      "27 True label : DoS, Predicted Label: DoS\n",
      "28 True label : DoS, Predicted Label: DoS\n",
      "29 True label : DoS, Predicted Label: DoS\n",
      "30 True label : DoS, Predicted Label: DoS\n",
      "31 True label : DoS, Predicted Label: DoS\n",
      "32 True label : DoS, Predicted Label: DoS\n",
      "33 True label : DoS, Predicted Label: DoS\n",
      "34 True label : DoS, Predicted Label: DoS\n",
      "35 True label : DoS, Predicted Label: DoS\n",
      "36 True label : DoS, Predicted Label: DoS\n",
      "37 True label : DoS, Predicted Label: DoS\n",
      "38 True label : DoS, Predicted Label: DoS\n",
      "39 True label : DoS, Predicted Label: DoS\n",
      "40 True label : DoS, Predicted Label: DoS\n",
      "41 True label : DoS, Predicted Label: DoS\n",
      "42 True label : DoS, Predicted Label: DoS\n",
      "43 True label : DoS, Predicted Label: DoS\n",
      "44 True label : DoS, Predicted Label: DoS\n",
      "45 True label : DoS, Predicted Label: DoS\n",
      "46 True label : DoS, Predicted Label: DoS\n",
      "47 True label : DoS, Predicted Label: DoS\n",
      "48 True label : DoS, Predicted Label: DoS\n",
      "49 True label : DoS, Predicted Label: DoS\n",
      "50 True label : DoS, Predicted Label: DoS\n",
      "51 True label : DoS, Predicted Label: DoS\n",
      "52 True label : DoS, Predicted Label: DoS\n",
      "53 True label : DoS, Predicted Label: DoS\n",
      "54 True label : DoS, Predicted Label: DoS\n",
      "55 True label : DoS, Predicted Label: DoS\n",
      "56 True label : DoS, Predicted Label: DoS\n",
      "57 True label : DoS, Predicted Label: DoS\n",
      "58 True label : DoS, Predicted Label: DoS\n",
      "59 True label : DoS, Predicted Label: DoS\n",
      "60 True label : DoS, Predicted Label: DoS\n",
      "61 True label : DoS, Predicted Label: DoS\n",
      "62 True label : DoS, Predicted Label: DoS\n",
      "63 True label : DoS, Predicted Label: DoS\n",
      "64 True label : DoS, Predicted Label: DoS\n",
      "65 True label : DoS, Predicted Label: DoS\n",
      "66 True label : DoS, Predicted Label: DoS\n",
      "67 True label : DoS, Predicted Label: DoS\n",
      "68 True label : DoS, Predicted Label: DoS\n",
      "69 True label : DoS, Predicted Label: DoS\n",
      "70 True label : DoS, Predicted Label: DoS\n",
      "71 True label : DoS, Predicted Label: DoS\n",
      "72 True label : DoS, Predicted Label: DoS\n",
      "73 True label : DoS, Predicted Label: DoS\n",
      "74 True label : DoS, Predicted Label: DoS\n",
      "75 True label : DoS, Predicted Label: DoS\n",
      "76 True label : DoS, Predicted Label: DoS\n",
      "77 True label : DoS, Predicted Label: DoS\n",
      "78 True label : DoS, Predicted Label: DoS\n",
      "79 True label : DoS, Predicted Label: DoS\n",
      "80 True label : DoS, Predicted Label: DoS\n",
      "81 True label : DoS, Predicted Label: DoS\n",
      "82 True label : DoS, Predicted Label: DoS\n",
      "83 True label : DoS, Predicted Label: DoS\n",
      "84 True label : DoS, Predicted Label: DoS\n",
      "85 True label : DoS, Predicted Label: DoS\n",
      "86 True label : DoS, Predicted Label: DoS\n",
      "87 True label : DoS, Predicted Label: DoS\n",
      "88 True label : DoS, Predicted Label: DoS\n",
      "89 True label : DoS, Predicted Label: DoS\n",
      "90 True label : DoS, Predicted Label: DoS\n",
      "91 True label : DoS, Predicted Label: DoS\n",
      "92 True label : DoS, Predicted Label: DoS\n",
      "93 True label : DoS, Predicted Label: DoS\n",
      "94 True label : DoS, Predicted Label: DoS\n",
      "95 True label : DoS, Predicted Label: DoS\n",
      "96 True label : DoS, Predicted Label: DoS\n",
      "97 True label : DoS, Predicted Label: DoS\n",
      "98 True label : DoS, Predicted Label: DoS\n",
      "99 True label : DoS, Predicted Label: DoS\n",
      "100 True label : DoS, Predicted Label: DoS\n",
      "101 True label : DoS, Predicted Label: DoS\n",
      "102 True label : DoS, Predicted Label: DoS\n",
      "103 True label : DoS, Predicted Label: DoS\n",
      "104 True label : DoS, Predicted Label: DoS\n",
      "105 True label : DoS, Predicted Label: DoS\n",
      "106 True label : DoS, Predicted Label: DoS\n",
      "107 True label : DoS, Predicted Label: DoS\n",
      "108 True label : DoS, Predicted Label: DoS\n",
      "109 True label : DoS, Predicted Label: DoS\n",
      "110 True label : DoS, Predicted Label: DoS\n",
      "111 True label : DoS, Predicted Label: DoS\n",
      "112 True label : DoS, Predicted Label: DoS\n",
      "113 True label : DoS, Predicted Label: DoS\n",
      "114 True label : DoS, Predicted Label: DoS\n",
      "115 True label : DoS, Predicted Label: DoS\n",
      "116 True label : DoS, Predicted Label: DoS\n",
      "117 True label : DoS, Predicted Label: DoS\n",
      "118 True label : DoS, Predicted Label: DoS\n",
      "119 True label : DoS, Predicted Label: DoS\n",
      "120 True label : DoS, Predicted Label: DoS\n",
      "121 True label : DoS, Predicted Label: DoS\n",
      "122 True label : DoS, Predicted Label: DoS\n",
      "123 True label : DoS, Predicted Label: DoS\n",
      "124 True label : DoS, Predicted Label: DoS\n",
      "125 True label : DoS, Predicted Label: DoS\n",
      "126 True label : DoS, Predicted Label: DoS\n",
      "127 True label : DoS, Predicted Label: DoS\n",
      "128 True label : DoS, Predicted Label: DoS\n",
      "129 True label : DoS, Predicted Label: DoS\n",
      "130 True label : DoS, Predicted Label: DoS\n",
      "131 True label : DoS, Predicted Label: DoS\n",
      "132 True label : DoS, Predicted Label: DoS\n",
      "133 True label : DoS, Predicted Label: DoS\n",
      "134 True label : DoS, Predicted Label: DoS\n",
      "135 True label : DoS, Predicted Label: DoS\n",
      "136 True label : DoS, Predicted Label: DoS\n",
      "137 True label : DoS, Predicted Label: DoS\n",
      "138 True label : DoS, Predicted Label: DoS\n",
      "139 True label : DoS, Predicted Label: DoS\n",
      "140 True label : DoS, Predicted Label: DoS\n",
      "141 True label : DoS, Predicted Label: DoS\n",
      "142 True label : DoS, Predicted Label: DoS\n",
      "143 True label : DoS, Predicted Label: DoS\n",
      "144 True label : DoS, Predicted Label: DoS\n",
      "145 True label : DoS, Predicted Label: DoS\n",
      "146 True label : DoS, Predicted Label: DoS\n",
      "147 True label : DoS, Predicted Label: DoS\n",
      "148 True label : DoS, Predicted Label: DoS\n",
      "149 True label : DoS, Predicted Label: DoS\n",
      "150 True label : DoS, Predicted Label: DoS\n",
      "151 True label : DoS, Predicted Label: DoS\n",
      "152 True label : DoS, Predicted Label: DoS\n",
      "153 True label : DoS, Predicted Label: DoS\n",
      "154 True label : DoS, Predicted Label: DoS\n",
      "155 True label : DoS, Predicted Label: DoS\n",
      "156 True label : DoS, Predicted Label: DoS\n",
      "157 True label : DoS, Predicted Label: DoS\n",
      "158 True label : DoS, Predicted Label: DoS\n",
      "159 True label : DoS, Predicted Label: DoS\n",
      "160 True label : DoS, Predicted Label: DoS\n",
      "161 True label : DoS, Predicted Label: DoS\n",
      "162 True label : DoS, Predicted Label: DoS\n",
      "163 True label : DoS, Predicted Label: DoS\n",
      "164 True label : DoS, Predicted Label: DoS\n",
      "165 True label : DoS, Predicted Label: DoS\n",
      "166 True label : DoS, Predicted Label: DoS\n",
      "167 True label : DoS, Predicted Label: DoS\n",
      "168 True label : DoS, Predicted Label: DoS\n",
      "169 True label : DoS, Predicted Label: DoS\n",
      "170 True label : DoS, Predicted Label: DoS\n",
      "171 True label : DoS, Predicted Label: DoS\n",
      "172 True label : DoS, Predicted Label: DoS\n",
      "173 True label : DoS, Predicted Label: DoS\n",
      "174 True label : DoS, Predicted Label: DoS\n",
      "175 True label : DoS, Predicted Label: DoS\n",
      "176 True label : DoS, Predicted Label: DoS\n",
      "177 True label : DoS, Predicted Label: DoS\n",
      "178 True label : DoS, Predicted Label: DoS\n",
      "179 True label : DoS, Predicted Label: DoS\n",
      "180 True label : DoS, Predicted Label: DoS\n",
      "181 True label : DoS, Predicted Label: DoS\n",
      "182 True label : DoS, Predicted Label: DoS\n",
      "183 True label : DoS, Predicted Label: DoS\n",
      "184 True label : DoS, Predicted Label: DoS\n",
      "185 True label : DoS, Predicted Label: DoS\n",
      "186 True label : DoS, Predicted Label: DoS\n",
      "187 True label : DoS, Predicted Label: DoS\n",
      "188 True label : DoS, Predicted Label: DoS\n",
      "189 True label : DoS, Predicted Label: DoS\n",
      "190 True label : DoS, Predicted Label: DoS\n",
      "191 True label : DoS, Predicted Label: DoS\n",
      "192 True label : DoS, Predicted Label: DoS\n",
      "193 True label : DoS, Predicted Label: DoS\n",
      "194 True label : DoS, Predicted Label: DoS\n",
      "195 True label : DoS, Predicted Label: DoS\n",
      "196 True label : DoS, Predicted Label: DoS\n",
      "197 True label : DoS, Predicted Label: DoS\n",
      "198 True label : DoS, Predicted Label: DoS\n",
      "199 True label : DoS, Predicted Label: DoS\n",
      "200 True label : DoS, Predicted Label: DoS\n",
      "201 True label : DoS, Predicted Label: DoS\n",
      "202 True label : DoS, Predicted Label: DoS\n",
      "203 True label : DoS, Predicted Label: DoS\n",
      "204 True label : DoS, Predicted Label: DoS\n",
      "205 True label : DoS, Predicted Label: DoS\n",
      "206 True label : DoS, Predicted Label: DoS\n",
      "207 True label : DoS, Predicted Label: DoS\n",
      "208 True label : DoS, Predicted Label: DoS\n",
      "209 True label : DoS, Predicted Label: DoS\n",
      "210 True label : DoS, Predicted Label: DoS\n",
      "211 True label : DoS, Predicted Label: DoS\n",
      "212 True label : DoS, Predicted Label: DoS\n",
      "213 True label : DoS, Predicted Label: DoS\n",
      "214 True label : DoS, Predicted Label: DoS\n",
      "215 True label : DoS, Predicted Label: DoS\n",
      "216 True label : DoS, Predicted Label: DoS\n",
      "217 True label : DoS, Predicted Label: DoS\n",
      "218 True label : DoS, Predicted Label: DoS\n",
      "219 True label : DoS, Predicted Label: DoS\n",
      "220 True label : DoS, Predicted Label: DoS\n",
      "221 True label : DoS, Predicted Label: DoS\n",
      "222 True label : DoS, Predicted Label: DoS\n",
      "223 True label : DoS, Predicted Label: DoS\n",
      "224 True label : DoS, Predicted Label: DoS\n",
      "225 True label : DoS, Predicted Label: DoS\n",
      "226 True label : DoS, Predicted Label: DoS\n",
      "227 True label : DoS, Predicted Label: DoS\n",
      "228 True label : DoS, Predicted Label: DoS\n",
      "229 True label : DoS, Predicted Label: DoS\n",
      "230 True label : DoS, Predicted Label: DoS\n",
      "231 True label : DoS, Predicted Label: DoS\n",
      "232 True label : DoS, Predicted Label: DoS\n",
      "233 True label : DoS, Predicted Label: DoS\n",
      "234 True label : DoS, Predicted Label: DoS\n",
      "235 True label : DoS, Predicted Label: DoS\n",
      "236 True label : DoS, Predicted Label: DoS\n",
      "237 True label : DoS, Predicted Label: DoS\n",
      "238 True label : DoS, Predicted Label: DoS\n",
      "239 True label : DoS, Predicted Label: DoS\n",
      "240 True label : DoS, Predicted Label: DoS\n",
      "241 True label : DoS, Predicted Label: DoS\n",
      "242 True label : DoS, Predicted Label: DoS\n",
      "243 True label : DoS, Predicted Label: DoS\n",
      "244 True label : DoS, Predicted Label: DoS\n",
      "245 True label : DoS, Predicted Label: DoS\n",
      "246 True label : DoS, Predicted Label: DoS\n",
      "247 True label : DoS, Predicted Label: DoS\n",
      "248 True label : DoS, Predicted Label: DoS\n",
      "249 True label : DoS, Predicted Label: DoS\n",
      "250 True label : DoS, Predicted Label: DoS\n",
      "251 True label : DoS, Predicted Label: DoS\n",
      "252 True label : DoS, Predicted Label: DoS\n",
      "253 True label : DoS, Predicted Label: DoS\n",
      "254 True label : DoS, Predicted Label: DoS\n",
      "255 True label : DoS, Predicted Label: DoS\n",
      "256 True label : DoS, Predicted Label: DoS\n",
      "257 True label : DoS, Predicted Label: DoS\n",
      "258 True label : DoS, Predicted Label: DoS\n",
      "259 True label : DoS, Predicted Label: DoS\n",
      "260 True label : DoS, Predicted Label: DoS\n",
      "261 True label : DoS, Predicted Label: DoS\n",
      "262 True label : DoS, Predicted Label: DoS\n",
      "263 True label : DoS, Predicted Label: DoS\n",
      "264 True label : DoS, Predicted Label: DoS\n",
      "265 True label : DoS, Predicted Label: DoS\n",
      "266 True label : DoS, Predicted Label: DoS\n",
      "267 True label : DoS, Predicted Label: DoS\n",
      "268 True label : DoS, Predicted Label: DoS\n",
      "269 True label : DoS, Predicted Label: DoS\n",
      "270 True label : DoS, Predicted Label: DoS\n",
      "271 True label : DoS, Predicted Label: DoS\n",
      "272 True label : DoS, Predicted Label: DoS\n",
      "273 True label : DoS, Predicted Label: DoS\n",
      "274 True label : DoS, Predicted Label: DoS\n",
      "275 True label : DoS, Predicted Label: DoS\n",
      "276 True label : DoS, Predicted Label: DoS\n",
      "277 True label : DoS, Predicted Label: DoS\n",
      "278 True label : DoS, Predicted Label: DoS\n",
      "279 True label : DoS, Predicted Label: DoS\n",
      "280 True label : DoS, Predicted Label: DoS\n",
      "281 True label : DoS, Predicted Label: DoS\n",
      "282 True label : DoS, Predicted Label: DoS\n",
      "283 True label : DoS, Predicted Label: DoS\n",
      "284 True label : DoS, Predicted Label: DoS\n",
      "285 True label : DoS, Predicted Label: DoS\n",
      "286 True label : DoS, Predicted Label: DoS\n",
      "287 True label : DoS, Predicted Label: DoS\n",
      "288 True label : DoS, Predicted Label: DoS\n",
      "289 True label : DoS, Predicted Label: DoS\n",
      "290 True label : DoS, Predicted Label: DoS\n",
      "291 True label : DoS, Predicted Label: DoS\n",
      "292 True label : DoS, Predicted Label: DoS\n",
      "293 True label : DoS, Predicted Label: DoS\n",
      "294 True label : DoS, Predicted Label: DoS\n",
      "295 True label : DoS, Predicted Label: DoS\n",
      "296 True label : DoS, Predicted Label: DoS\n",
      "297 True label : DoS, Predicted Label: DoS\n",
      "298 True label : DoS, Predicted Label: DoS\n",
      "299 True label : DoS, Predicted Label: DoS\n",
      "300 True label : DoS, Predicted Label: DoS\n",
      "301 True label : DoS, Predicted Label: DoS\n",
      "302 True label : DoS, Predicted Label: DoS\n",
      "303 True label : DoS, Predicted Label: DoS\n",
      "304 True label : DoS, Predicted Label: DoS\n",
      "305 True label : DoS, Predicted Label: DoS\n",
      "306 True label : DoS, Predicted Label: DoS\n",
      "307 True label : DoS, Predicted Label: DoS\n",
      "308 True label : DoS, Predicted Label: DoS\n",
      "309 True label : DoS, Predicted Label: DoS\n",
      "310 True label : DoS, Predicted Label: DoS\n",
      "311 True label : DoS, Predicted Label: DoS\n",
      "312 True label : DoS, Predicted Label: DoS\n",
      "313 True label : DoS, Predicted Label: DoS\n",
      "314 True label : DoS, Predicted Label: DoS\n",
      "315 True label : DoS, Predicted Label: DoS\n",
      "316 True label : DoS, Predicted Label: DoS\n",
      "317 True label : DoS, Predicted Label: DoS\n",
      "318 True label : DoS, Predicted Label: DoS\n",
      "319 True label : DoS, Predicted Label: DoS\n",
      "320 True label : DoS, Predicted Label: DoS\n",
      "321 True label : DoS, Predicted Label: DoS\n",
      "322 True label : DoS, Predicted Label: DoS\n",
      "323 True label : DoS, Predicted Label: DoS\n",
      "324 True label : DoS, Predicted Label: DoS\n",
      "325 True label : DoS, Predicted Label: DoS\n",
      "326 True label : DoS, Predicted Label: DoS\n",
      "327 True label : DoS, Predicted Label: DoS\n",
      "328 True label : DoS, Predicted Label: DoS\n",
      "329 True label : DoS, Predicted Label: DoS\n",
      "330 True label : DoS, Predicted Label: DoS\n",
      "331 True label : DoS, Predicted Label: DoS\n",
      "332 True label : DoS, Predicted Label: DoS\n",
      "333 True label : DoS, Predicted Label: DoS\n",
      "334 True label : DoS, Predicted Label: DoS\n",
      "335 True label : DoS, Predicted Label: DoS\n",
      "336 True label : DoS, Predicted Label: DoS\n",
      "337 True label : DoS, Predicted Label: DoS\n",
      "338 True label : DoS, Predicted Label: DoS\n",
      "339 True label : DoS, Predicted Label: DoS\n",
      "340 True label : DoS, Predicted Label: DoS\n",
      "341 True label : DoS, Predicted Label: DoS\n",
      "342 True label : DoS, Predicted Label: DoS\n",
      "343 True label : DoS, Predicted Label: DoS\n",
      "344 True label : DoS, Predicted Label: DoS\n",
      "345 True label : DoS, Predicted Label: DoS\n",
      "346 True label : DoS, Predicted Label: DoS\n",
      "347 True label : DoS, Predicted Label: DoS\n",
      "348 True label : DoS, Predicted Label: DoS\n",
      "349 True label : DoS, Predicted Label: DoS\n",
      "350 True label : DoS, Predicted Label: DoS\n",
      "351 True label : DoS, Predicted Label: DoS\n",
      "352 True label : DoS, Predicted Label: DoS\n",
      "353 True label : DoS, Predicted Label: DoS\n",
      "354 True label : DoS, Predicted Label: DoS\n",
      "355 True label : DoS, Predicted Label: DoS\n",
      "356 True label : DoS, Predicted Label: DoS\n",
      "357 True label : DoS, Predicted Label: DoS\n",
      "358 True label : DoS, Predicted Label: DoS\n",
      "359 True label : DoS, Predicted Label: DoS\n",
      "360 True label : DoS, Predicted Label: DoS\n",
      "361 True label : DoS, Predicted Label: DoS\n",
      "362 True label : DoS, Predicted Label: DoS\n",
      "363 True label : DoS, Predicted Label: DoS\n",
      "364 True label : DoS, Predicted Label: DoS\n",
      "365 True label : DoS, Predicted Label: DoS\n",
      "366 True label : DoS, Predicted Label: DoS\n",
      "367 True label : DoS, Predicted Label: DoS\n",
      "368 True label : DoS, Predicted Label: DoS\n",
      "369 True label : DoS, Predicted Label: DoS\n",
      "370 True label : DoS, Predicted Label: DoS\n",
      "371 True label : DoS, Predicted Label: DoS\n",
      "372 True label : DoS, Predicted Label: DoS\n",
      "373 True label : DoS, Predicted Label: DoS\n",
      "374 True label : DoS, Predicted Label: DoS\n",
      "375 True label : DoS, Predicted Label: DoS\n",
      "376 True label : DoS, Predicted Label: DoS\n",
      "377 True label : DoS, Predicted Label: DoS\n",
      "378 True label : DoS, Predicted Label: DoS\n",
      "379 True label : DoS, Predicted Label: DoS\n",
      "380 True label : DoS, Predicted Label: DoS\n",
      "381 True label : DoS, Predicted Label: DoS\n",
      "382 True label : DoS, Predicted Label: DoS\n",
      "383 True label : DoS, Predicted Label: DoS\n",
      "384 True label : DoS, Predicted Label: DoS\n",
      "385 True label : DoS, Predicted Label: DoS\n",
      "386 True label : DoS, Predicted Label: DoS\n",
      "387 True label : DoS, Predicted Label: DoS\n",
      "388 True label : DoS, Predicted Label: DoS\n",
      "389 True label : DoS, Predicted Label: DoS\n",
      "390 True label : DoS, Predicted Label: DoS\n",
      "391 True label : DoS, Predicted Label: DoS\n",
      "392 True label : DoS, Predicted Label: DoS\n",
      "393 True label : DoS, Predicted Label: DoS\n",
      "394 True label : DoS, Predicted Label: DoS\n",
      "395 True label : DoS, Predicted Label: DoS\n",
      "396 True label : DoS, Predicted Label: DoS\n",
      "397 True label : DoS, Predicted Label: DoS\n",
      "398 True label : DoS, Predicted Label: DoS\n",
      "399 True label : DoS, Predicted Label: DoS\n",
      "400 True label : DoS, Predicted Label: DoS\n",
      "401 True label : DoS, Predicted Label: DoS\n",
      "402 True label : DoS, Predicted Label: DoS\n",
      "403 True label : DoS, Predicted Label: DoS\n",
      "404 True label : DoS, Predicted Label: DoS\n",
      "405 True label : DoS, Predicted Label: DoS\n",
      "406 True label : DoS, Predicted Label: DoS\n",
      "407 True label : DoS, Predicted Label: DoS\n",
      "408 True label : DoS, Predicted Label: DoS\n",
      "409 True label : DoS, Predicted Label: DoS\n",
      "410 True label : DoS, Predicted Label: DoS\n",
      "411 True label : DoS, Predicted Label: DoS\n",
      "412 True label : DoS, Predicted Label: DoS\n",
      "413 True label : DoS, Predicted Label: DoS\n",
      "414 True label : DoS, Predicted Label: DoS\n",
      "415 True label : DoS, Predicted Label: DoS\n",
      "416 True label : DoS, Predicted Label: DoS\n",
      "417 True label : DoS, Predicted Label: DoS\n",
      "418 True label : DoS, Predicted Label: DoS\n",
      "419 True label : DoS, Predicted Label: DoS\n",
      "420 True label : DoS, Predicted Label: DoS\n",
      "421 True label : DoS, Predicted Label: DoS\n",
      "422 True label : DoS, Predicted Label: DoS\n",
      "423 True label : DoS, Predicted Label: DoS\n",
      "424 True label : DoS, Predicted Label: DoS\n",
      "425 True label : DoS, Predicted Label: DoS\n",
      "426 True label : DoS, Predicted Label: DoS\n",
      "427 True label : DoS, Predicted Label: DoS\n",
      "428 True label : DoS, Predicted Label: DoS\n",
      "429 True label : DoS, Predicted Label: DoS\n",
      "430 True label : DoS, Predicted Label: DoS\n",
      "431 True label : DoS, Predicted Label: DoS\n",
      "432 True label : DoS, Predicted Label: DoS\n",
      "433 True label : DoS, Predicted Label: DoS\n",
      "434 True label : DoS, Predicted Label: DoS\n",
      "435 True label : DoS, Predicted Label: DoS\n",
      "436 True label : DoS, Predicted Label: DoS\n",
      "437 True label : DoS, Predicted Label: DoS\n",
      "438 True label : DoS, Predicted Label: DoS\n",
      "439 True label : DoS, Predicted Label: DoS\n",
      "440 True label : DoS, Predicted Label: DoS\n",
      "441 True label : DoS, Predicted Label: DoS\n",
      "442 True label : DoS, Predicted Label: DoS\n",
      "443 True label : DoS, Predicted Label: DoS\n",
      "444 True label : DoS, Predicted Label: DoS\n",
      "445 True label : DoS, Predicted Label: DoS\n",
      "446 True label : DoS, Predicted Label: DoS\n",
      "447 True label : DoS, Predicted Label: DoS\n",
      "448 True label : DoS, Predicted Label: DoS\n",
      "449 True label : DoS, Predicted Label: DoS\n",
      "450 True label : DoS, Predicted Label: DoS\n",
      "451 True label : DoS, Predicted Label: DoS\n",
      "452 True label : DoS, Predicted Label: DoS\n",
      "453 True label : DoS, Predicted Label: DoS\n",
      "454 True label : DoS, Predicted Label: DoS\n",
      "455 True label : DoS, Predicted Label: DoS\n",
      "456 True label : DoS, Predicted Label: DoS\n",
      "457 True label : DoS, Predicted Label: DoS\n",
      "458 True label : DoS, Predicted Label: DoS\n",
      "459 True label : DoS, Predicted Label: DoS\n",
      "460 True label : DoS, Predicted Label: DoS\n",
      "461 True label : DoS, Predicted Label: DoS\n",
      "462 True label : DoS, Predicted Label: DoS\n",
      "463 True label : DoS, Predicted Label: DoS\n",
      "464 True label : DoS, Predicted Label: DoS\n",
      "465 True label : DoS, Predicted Label: DoS\n",
      "466 True label : DoS, Predicted Label: DoS\n",
      "467 True label : DoS, Predicted Label: DoS\n",
      "468 True label : DoS, Predicted Label: DoS\n",
      "469 True label : DoS, Predicted Label: DoS\n",
      "470 True label : DoS, Predicted Label: DoS\n",
      "471 True label : DoS, Predicted Label: DoS\n",
      "472 True label : DoS, Predicted Label: DoS\n",
      "473 True label : DoS, Predicted Label: DoS\n",
      "474 True label : DoS, Predicted Label: DoS\n",
      "475 True label : DoS, Predicted Label: DoS\n",
      "476 True label : DoS, Predicted Label: DoS\n",
      "477 True label : DoS, Predicted Label: DoS\n",
      "478 True label : DoS, Predicted Label: DoS\n",
      "479 True label : DoS, Predicted Label: DoS\n",
      "480 True label : DoS, Predicted Label: DoS\n",
      "481 True label : DoS, Predicted Label: DoS\n",
      "482 True label : DoS, Predicted Label: DoS\n",
      "483 True label : DoS, Predicted Label: DoS\n",
      "484 True label : DoS, Predicted Label: DoS\n",
      "485 True label : DoS, Predicted Label: DoS\n",
      "486 True label : DoS, Predicted Label: DoS\n",
      "487 True label : DoS, Predicted Label: DoS\n",
      "488 True label : DoS, Predicted Label: DoS\n",
      "489 True label : DoS, Predicted Label: DoS\n",
      "490 True label : DoS, Predicted Label: DoS\n",
      "491 True label : DoS, Predicted Label: DoS\n",
      "492 True label : DoS, Predicted Label: DoS\n",
      "493 True label : DoS, Predicted Label: DoS\n",
      "494 True label : DoS, Predicted Label: DoS\n",
      "495 True label : DoS, Predicted Label: DoS\n",
      "496 True label : DoS, Predicted Label: DoS\n",
      "497 True label : DoS, Predicted Label: DoS\n",
      "498 True label : DoS, Predicted Label: DoS\n",
      "499 True label : DoS, Predicted Label: DoS\n"
     ]
    }
   ],
   "source": [
    "sample_training = feature_matrix[:500,:]\n",
    "sample_labels = OPCUA_dataset_label[:500]\n",
    "prediction_sample = perceptron.predict(sample_training)\n",
    "for i in range(len(sample_labels)):\n",
    "    print(i, 'True label : {}, Predicted Label: {}'.format(sample_labels[i],prediction_sample[i]))"
   ]
  },
  {
   "cell_type": "code",
   "execution_count": 52,
   "metadata": {},
   "outputs": [],
   "source": [
    "all_predicted = perceptron.predict(feature_matrix)"
   ]
  },
  {
   "cell_type": "code",
   "execution_count": 53,
   "metadata": {},
   "outputs": [
    {
     "data": {
      "text/plain": [
       "0.9992171260427071"
      ]
     },
     "execution_count": 53,
     "metadata": {},
     "output_type": "execute_result"
    }
   ],
   "source": [
    "np.sum(all_predicted == OPCUA_dataset_label)/len(OPCUA_dataset_label)"
   ]
  },
  {
   "cell_type": "code",
   "execution_count": 56,
   "metadata": {},
   "outputs": [],
   "source": [
    "X_train, X_test, y_train, y_test = train_test_split(feature_matrix, OPCUA_dataset_label, test_size = 0.3, random_state = 42)"
   ]
  },
  {
   "cell_type": "code",
   "execution_count": 57,
   "metadata": {},
   "outputs": [
    {
     "data": {
      "text/plain": [
       "((51860, 12), (22226, 12))"
      ]
     },
     "execution_count": 57,
     "metadata": {},
     "output_type": "execute_result"
    }
   ],
   "source": [
    "X_train.shape, X_test.shape"
   ]
  },
  {
   "cell_type": "code",
   "execution_count": 58,
   "metadata": {},
   "outputs": [
    {
     "data": {
      "text/plain": [
       "0.9991901376765949"
      ]
     },
     "execution_count": 58,
     "metadata": {},
     "output_type": "execute_result"
    }
   ],
   "source": [
    "perceptron = Perceptron()\n",
    "perceptron.fit(X_train, y_train) # apprendo su training\n",
    "predicted_test = perceptron.predict(X_test) # predico sul test\n",
    "np.sum(predicted_test == y_test)/len(y_test)"
   ]
  },
  {
   "cell_type": "code",
   "execution_count": 59,
   "metadata": {},
   "outputs": [
    {
     "name": "stdout",
     "output_type": "stream",
     "text": [
      "0.9990551606226942\n",
      "0.9986052371096914\n",
      "0.9991901376765949\n",
      "0.9993701070817961\n",
      "0.9992351300278952\n",
      "0.9989201835687933\n",
      "0.9990551606226942\n",
      "0.9994600917843967\n",
      "0.9989201835687933\n",
      "0.9992801223791955\n"
     ]
    }
   ],
   "source": [
    "for _ in range(10):\n",
    "    X_train, X_test, y_train, y_test = train_test_split(feature_matrix, OPCUA_dataset_label, test_size = 0.3)\n",
    "    perceptron = Perceptron()\n",
    "    perceptron.fit(X_train, y_train) # apprendo su training\n",
    "    predicted_test = perceptron.predict(X_test) # predico sul test\n",
    "    print(np.sum(predicted_test == y_test)/len(y_test))"
   ]
  },
  {
   "cell_type": "code",
   "execution_count": 60,
   "metadata": {},
   "outputs": [
    {
     "name": "stderr",
     "output_type": "stream",
     "text": [
      "/Users/pmarincola/opt/anaconda3/envs/dse_ml_project/lib/python3.9/site-packages/sklearn/model_selection/_split.py:676: UserWarning: The least populated class in y has only 3 members, which is less than n_splits=5.\n",
      "  warnings.warn(\n"
     ]
    },
    {
     "data": {
      "text/plain": [
       "array([0.99913228, 0.99922869, 0.99922869, 0.99922869, 0.99913228])"
      ]
     },
     "execution_count": 60,
     "metadata": {},
     "output_type": "execute_result"
    }
   ],
   "source": [
    "perceptron = Perceptron()\n",
    "perceptron_score = cross_val_score(perceptron, X_train, y_train, cv = 5)\n",
    "perceptron_score"
   ]
  },
  {
   "cell_type": "code",
   "execution_count": 61,
   "metadata": {},
   "outputs": [
    {
     "data": {
      "text/plain": [
       "array([0.99865021, 0.99922869, 0.99884304, 0.99922869, 0.99922869,\n",
       "       0.99903587, 0.99922869, 0.99961435, 0.99942152, 0.99942152,\n",
       "       0.99922869, 0.99922869, 0.99884304, 0.99884304, 0.99903587,\n",
       "       0.99845739, 0.99980717, 0.99980717, 0.99942152, 0.99922869,\n",
       "       0.99961435, 0.99942152, 0.99884304, 0.99884304, 0.99922869,\n",
       "       0.99942152, 0.99903587, 0.99942152, 0.99922869, 0.99884304])"
      ]
     },
     "execution_count": 61,
     "metadata": {},
     "output_type": "execute_result"
    }
   ],
   "source": [
    "rkf = RepeatedKFold(n_splits=10, n_repeats=3)\n",
    "cross_val_score(perceptron, X_train, y_train, cv = rkf)"
   ]
  },
  {
   "cell_type": "code",
   "execution_count": 62,
   "metadata": {},
   "outputs": [
    {
     "data": {
      "text/plain": [
       "{'whiskers': [<matplotlib.lines.Line2D at 0x7fa5b9ced460>,\n",
       "  <matplotlib.lines.Line2D at 0x7fa5b9ced760>,\n",
       "  <matplotlib.lines.Line2D at 0x7fa5b9ce4c40>,\n",
       "  <matplotlib.lines.Line2D at 0x7fa5b9ce4910>,\n",
       "  <matplotlib.lines.Line2D at 0x7fa5b9cea610>,\n",
       "  <matplotlib.lines.Line2D at 0x7fa5b9ceaf10>,\n",
       "  <matplotlib.lines.Line2D at 0x7fa5ba532850>,\n",
       "  <matplotlib.lines.Line2D at 0x7fa5ba5324c0>,\n",
       "  <matplotlib.lines.Line2D at 0x7fa5882fbbb0>,\n",
       "  <matplotlib.lines.Line2D at 0x7fa5882ef7f0>,\n",
       "  <matplotlib.lines.Line2D at 0x7fa58831d130>,\n",
       "  <matplotlib.lines.Line2D at 0x7fa58831d640>,\n",
       "  <matplotlib.lines.Line2D at 0x7fa5caedec10>,\n",
       "  <matplotlib.lines.Line2D at 0x7fa5caedeee0>,\n",
       "  <matplotlib.lines.Line2D at 0x7fa5caeef310>,\n",
       "  <matplotlib.lines.Line2D at 0x7fa5caeef5e0>,\n",
       "  <matplotlib.lines.Line2D at 0x7fa5caefc9d0>,\n",
       "  <matplotlib.lines.Line2D at 0x7fa5caefcca0>,\n",
       "  <matplotlib.lines.Line2D at 0x7fa5ba51e9d0>,\n",
       "  <matplotlib.lines.Line2D at 0x7fa5882fe7c0>,\n",
       "  <matplotlib.lines.Line2D at 0x7fa5cb8b2580>,\n",
       "  <matplotlib.lines.Line2D at 0x7fa5cb8b2850>,\n",
       "  <matplotlib.lines.Line2D at 0x7fa5cb8bfc40>,\n",
       "  <matplotlib.lines.Line2D at 0x7fa5cb8bff10>,\n",
       "  <matplotlib.lines.Line2D at 0x7fa5cb8d9340>,\n",
       "  <matplotlib.lines.Line2D at 0x7fa5cb8d9610>,\n",
       "  <matplotlib.lines.Line2D at 0x7fa5ce09da00>,\n",
       "  <matplotlib.lines.Line2D at 0x7fa5ce09dcd0>,\n",
       "  <matplotlib.lines.Line2D at 0x7fa5ce0b8100>,\n",
       "  <matplotlib.lines.Line2D at 0x7fa5ce0b83d0>],\n",
       " 'caps': [<matplotlib.lines.Line2D at 0x7fa5b9ce88b0>,\n",
       "  <matplotlib.lines.Line2D at 0x7fa5b9ce81f0>,\n",
       "  <matplotlib.lines.Line2D at 0x7fa5b9ce4730>,\n",
       "  <matplotlib.lines.Line2D at 0x7fa5b961f0a0>,\n",
       "  <matplotlib.lines.Line2D at 0x7fa5b96187c0>,\n",
       "  <matplotlib.lines.Line2D at 0x7fa5b96186d0>,\n",
       "  <matplotlib.lines.Line2D at 0x7fa5ba5323a0>,\n",
       "  <matplotlib.lines.Line2D at 0x7fa5ba532af0>,\n",
       "  <matplotlib.lines.Line2D at 0x7fa5882efca0>,\n",
       "  <matplotlib.lines.Line2D at 0x7fa5882ef1c0>,\n",
       "  <matplotlib.lines.Line2D at 0x7fa58831daf0>,\n",
       "  <matplotlib.lines.Line2D at 0x7fa58831ddc0>,\n",
       "  <matplotlib.lines.Line2D at 0x7fa5caee51f0>,\n",
       "  <matplotlib.lines.Line2D at 0x7fa5caee54c0>,\n",
       "  <matplotlib.lines.Line2D at 0x7fa5caeef8b0>,\n",
       "  <matplotlib.lines.Line2D at 0x7fa5caeefb80>,\n",
       "  <matplotlib.lines.Line2D at 0x7fa5caefcf70>,\n",
       "  <matplotlib.lines.Line2D at 0x7fa5cb8a1280>,\n",
       "  <matplotlib.lines.Line2D at 0x7fa588312490>,\n",
       "  <matplotlib.lines.Line2D at 0x7fa588312760>,\n",
       "  <matplotlib.lines.Line2D at 0x7fa5cb8b2b20>,\n",
       "  <matplotlib.lines.Line2D at 0x7fa5cb8b2df0>,\n",
       "  <matplotlib.lines.Line2D at 0x7fa5cb8cb220>,\n",
       "  <matplotlib.lines.Line2D at 0x7fa5cb8cb4f0>,\n",
       "  <matplotlib.lines.Line2D at 0x7fa5cb8d98e0>,\n",
       "  <matplotlib.lines.Line2D at 0x7fa5cb8d9bb0>,\n",
       "  <matplotlib.lines.Line2D at 0x7fa5ce09dfa0>,\n",
       "  <matplotlib.lines.Line2D at 0x7fa5ce0a92b0>,\n",
       "  <matplotlib.lines.Line2D at 0x7fa5ce0b86a0>,\n",
       "  <matplotlib.lines.Line2D at 0x7fa5ce0b8970>],\n",
       " 'boxes': [<matplotlib.lines.Line2D at 0x7fa5b9cedeb0>,\n",
       "  <matplotlib.lines.Line2D at 0x7fa5b95fa250>,\n",
       "  <matplotlib.lines.Line2D at 0x7fa5b9cea670>,\n",
       "  <matplotlib.lines.Line2D at 0x7fa5ba52ca60>,\n",
       "  <matplotlib.lines.Line2D at 0x7fa5882fb9d0>,\n",
       "  <matplotlib.lines.Line2D at 0x7fa5d99b6cd0>,\n",
       "  <matplotlib.lines.Line2D at 0x7fa5caede940>,\n",
       "  <matplotlib.lines.Line2D at 0x7fa5caeef040>,\n",
       "  <matplotlib.lines.Line2D at 0x7fa5caefc700>,\n",
       "  <matplotlib.lines.Line2D at 0x7fa5cb8a1dc0>,\n",
       "  <matplotlib.lines.Line2D at 0x7fa5cb8b22b0>,\n",
       "  <matplotlib.lines.Line2D at 0x7fa5cb8bf970>,\n",
       "  <matplotlib.lines.Line2D at 0x7fa5cb8d9070>,\n",
       "  <matplotlib.lines.Line2D at 0x7fa5ce09d730>,\n",
       "  <matplotlib.lines.Line2D at 0x7fa5ce0a9df0>],\n",
       " 'medians': [<matplotlib.lines.Line2D at 0x7fa5b9ce8b80>,\n",
       "  <matplotlib.lines.Line2D at 0x7fa5b961f5e0>,\n",
       "  <matplotlib.lines.Line2D at 0x7fa5b9618970>,\n",
       "  <matplotlib.lines.Line2D at 0x7fa5882fb8b0>,\n",
       "  <matplotlib.lines.Line2D at 0x7fa5d99d13d0>,\n",
       "  <matplotlib.lines.Line2D at 0x7fa5caede0d0>,\n",
       "  <matplotlib.lines.Line2D at 0x7fa5caee5790>,\n",
       "  <matplotlib.lines.Line2D at 0x7fa5caeefe50>,\n",
       "  <matplotlib.lines.Line2D at 0x7fa5cb8a1550>,\n",
       "  <matplotlib.lines.Line2D at 0x7fa588309b50>,\n",
       "  <matplotlib.lines.Line2D at 0x7fa5cb8bf100>,\n",
       "  <matplotlib.lines.Line2D at 0x7fa5cb8cb7c0>,\n",
       "  <matplotlib.lines.Line2D at 0x7fa5cb8d9e80>,\n",
       "  <matplotlib.lines.Line2D at 0x7fa5ce0a9580>,\n",
       "  <matplotlib.lines.Line2D at 0x7fa5ce0b8c40>],\n",
       " 'fliers': [<matplotlib.lines.Line2D at 0x7fa5d99c3f10>,\n",
       "  <matplotlib.lines.Line2D at 0x7fa5b961f2b0>,\n",
       "  <matplotlib.lines.Line2D at 0x7fa5ba52cee0>,\n",
       "  <matplotlib.lines.Line2D at 0x7fa5882fb2b0>,\n",
       "  <matplotlib.lines.Line2D at 0x7fa5d99b6730>,\n",
       "  <matplotlib.lines.Line2D at 0x7fa5caede670>,\n",
       "  <matplotlib.lines.Line2D at 0x7fa5caee5d30>,\n",
       "  <matplotlib.lines.Line2D at 0x7fa5caefc430>,\n",
       "  <matplotlib.lines.Line2D at 0x7fa5cb8a1af0>,\n",
       "  <matplotlib.lines.Line2D at 0x7fa5cb8a1fa0>,\n",
       "  <matplotlib.lines.Line2D at 0x7fa5cb8bf6a0>,\n",
       "  <matplotlib.lines.Line2D at 0x7fa5cb8cbd60>,\n",
       "  <matplotlib.lines.Line2D at 0x7fa5ce09d460>,\n",
       "  <matplotlib.lines.Line2D at 0x7fa5ce0a9b20>,\n",
       "  <matplotlib.lines.Line2D at 0x7fa5ce0c3220>],\n",
       " 'means': [<matplotlib.lines.Line2D at 0x7fa5b9ce8e20>,\n",
       "  <matplotlib.lines.Line2D at 0x7fa5b961f070>,\n",
       "  <matplotlib.lines.Line2D at 0x7fa5ba52c2e0>,\n",
       "  <matplotlib.lines.Line2D at 0x7fa5882fbb50>,\n",
       "  <matplotlib.lines.Line2D at 0x7fa5d99d1af0>,\n",
       "  <matplotlib.lines.Line2D at 0x7fa5caede3a0>,\n",
       "  <matplotlib.lines.Line2D at 0x7fa5caee5a60>,\n",
       "  <matplotlib.lines.Line2D at 0x7fa5caefc160>,\n",
       "  <matplotlib.lines.Line2D at 0x7fa5cb8a1820>,\n",
       "  <matplotlib.lines.Line2D at 0x7fa5ba513190>,\n",
       "  <matplotlib.lines.Line2D at 0x7fa5cb8bf3d0>,\n",
       "  <matplotlib.lines.Line2D at 0x7fa5cb8cba90>,\n",
       "  <matplotlib.lines.Line2D at 0x7fa5ce09d190>,\n",
       "  <matplotlib.lines.Line2D at 0x7fa5ce0a9850>,\n",
       "  <matplotlib.lines.Line2D at 0x7fa5ce0b8f10>]}"
      ]
     },
     "execution_count": 62,
     "metadata": {},
     "output_type": "execute_result"
    },
    {
     "data": {
      "image/png": "[encoded data removed]",
      "text/plain": [
       "<Figure size 432x288 with 1 Axes>"
      ]
     },
     "metadata": {
      "needs_background": "light"
     },
     "output_type": "display_data"
    }
   ],
   "source": [
    "def valuta_modello_ripetizione(X, y, repeats):\n",
    "    cv = RepeatedKFold(n_splits=10, n_repeats=repeats, random_state=1)\n",
    "    model = Perceptron()\n",
    "    scores = cross_val_score(model, X, y, cv=cv, n_jobs=-1)\n",
    "    return scores\n",
    "\n",
    "repeats = range(1,16)\n",
    "results = list()\n",
    "for i in repeats:\n",
    "    scores = valuta_modello_ripetizione(feature_matrix, OPCUA_dataset_label, i)\n",
    "    results.append(scores)\n",
    "plt.boxplot(results, labels = [str(i) for i in repeats], showmeans=True)"
   ]
  },
  {
   "cell_type": "code",
   "execution_count": 64,
   "metadata": {},
   "outputs": [
    {
     "name": "stdout",
     "output_type": "stream",
     "text": [
      "----K-fold CV----------\n",
      "Train: 0.00 vs Test: 0.00\n",
      "Train: 0.00 vs Test: 0.00\n",
      "Train: 0.00 vs Test: 0.00\n",
      "Train: 0.00 vs Test: 0.00\n",
      "Train: 0.00 vs Test: 0.00\n",
      "Train: 0.00 vs Test: 0.00\n",
      "Train: 0.00 vs Test: 0.00\n",
      "Train: 0.00 vs Test: 0.00\n",
      "Train: 0.00 vs Test: 0.00\n",
      "Train: 0.00 vs Test: 0.00\n",
      "----Stratified K-fold CV-------\n",
      "Train: 0.00 vs Test: 0.00\n",
      "Train: 0.00 vs Test: 0.00\n",
      "Train: 0.00 vs Test: 0.00\n",
      "Train: 0.00 vs Test: 0.00\n",
      "Train: 0.00 vs Test: 0.00\n",
      "Train: 0.00 vs Test: 0.00\n",
      "Train: 0.00 vs Test: 0.00\n",
      "Train: 0.00 vs Test: 0.00\n",
      "Train: 0.00 vs Test: 0.00\n",
      "Train: 0.00 vs Test: 0.00\n"
     ]
    },
    {
     "name": "stderr",
     "output_type": "stream",
     "text": [
      "/Users/pmarincola/opt/anaconda3/envs/dse_ml_project/lib/python3.9/site-packages/sklearn/model_selection/_split.py:676: UserWarning: The least populated class in y has only 6 members, which is less than n_splits=10.\n",
      "  warnings.warn(\n"
     ]
    }
   ],
   "source": [
    "kf = KFold(n_splits=10)\n",
    "skf = StratifiedKFold(n_splits=10)\n",
    "print('----K-fold CV----------')\n",
    "for train, test in kf.split(feature_matrix, OPCUA_dataset_label):\n",
    "    y_train, y_test = OPCUA_dataset_label[train], OPCUA_dataset_label[test]\n",
    "    print('Train: {:.2f} vs Test: {:.2f}'.format(sum(y_train == 1)/len(y_train), sum(y_test == 1)/len(y_test)))\n",
    "print('----Stratified K-fold CV-------')\n",
    "for train, test in skf.split(feature_matrix, OPCUA_dataset_label):\n",
    "    y_train, y_test = OPCUA_dataset_label[train], OPCUA_dataset_label[test]\n",
    "    print('Train: {:.2f} vs Test: {:.2f}'.format(sum(y_train == 1)/len(y_train), sum(y_test == 1)/len(y_test)))"
   ]
  },
  {
   "cell_type": "code",
   "execution_count": 90,
   "metadata": {},
   "outputs": [],
   "source": [
    "X_train, X_test, y_train, y_test = train_test_split(feature_matrix, OPCUA_dataset_label, test_size=0.3, random_state=45)"
   ]
  },
  {
   "cell_type": "code",
   "execution_count": 91,
   "metadata": {},
   "outputs": [
    {
     "name": "stderr",
     "output_type": "stream",
     "text": [
      "/Users/pmarincola/opt/anaconda3/envs/dse_ml_project/lib/python3.9/site-packages/sklearn/model_selection/_split.py:676: UserWarning: The least populated class in y has only 4 members, which is less than n_splits=10.\n",
      "  warnings.warn(\n"
     ]
    }
   ],
   "source": [
    "y_train_predicted = cross_val_predict(perceptron, X_train, y_train, cv = 10)"
   ]
  },
  {
   "cell_type": "code",
   "execution_count": 92,
   "metadata": {},
   "outputs": [
    {
     "data": {
      "text/plain": [
       "array([[    0,     0,     0,    40],\n",
       "       [    0,     7,     0,     5],\n",
       "       [    0,     0,     4,     0],\n",
       "       [    0,     0,     0, 51804]])"
      ]
     },
     "execution_count": 92,
     "metadata": {},
     "output_type": "execute_result"
    }
   ],
   "source": [
    "confusion_matrix(y_train, y_train_predicted,labels=['Impersonation',\"Normal\", \"MITM\", \"DoS\"])"
   ]
  },
  {
   "cell_type": "code",
   "execution_count": 17,
   "metadata": {},
   "outputs": [],
   "source": [
    "def plot_confusion_matrix(cm, classes,\n",
    "                          normalize=False,\n",
    "                          title='Confusion matrix',\n",
    "                          cmap=plt.cm.Blues):\n",
    "    \"\"\"\n",
    "    This function prints and plots the confusion matrix.\n",
    "    Normalization can be applied by setting `normalize=True`.\n",
    "    \"\"\"\n",
    "    import itertools\n",
    "    if normalize:\n",
    "        cm = cm.astype('float') / cm.sum(axis=1)[:, np.newaxis]\n",
    "        print(\"Normalized confusion matrix\")\n",
    "    else:\n",
    "        print('Confusion matrix, without normalization')\n",
    "\n",
    "    print(cm)\n",
    "\n",
    "    plt.imshow(cm, interpolation='nearest', cmap=cmap)\n",
    "    plt.title(title)\n",
    "    plt.colorbar()\n",
    "    tick_marks = np.arange(len(classes))\n",
    "    plt.xticks(tick_marks, classes, rotation=45)\n",
    "    plt.yticks(tick_marks, classes)\n",
    "\n",
    "    fmt = '.2f' if normalize else 'd'\n",
    "    thresh = cm.max() / 2.\n",
    "    for i, j in itertools.product(range(cm.shape[0]), range(cm.shape[1])):\n",
    "        plt.text(j, i, format(cm[i, j], fmt),\n",
    "                 horizontalalignment=\"center\",\n",
    "                 color=\"white\" if cm[i, j] > thresh else \"black\")\n",
    "\n",
    "    plt.ylabel('True label')\n",
    "    plt.xlabel('Predicted label')\n",
    "    plt.tight_layout()"
   ]
  },
  {
   "cell_type": "code",
   "execution_count": 94,
   "metadata": {},
   "outputs": [
    {
     "name": "stdout",
     "output_type": "stream",
     "text": [
      "Confusion matrix, without normalization\n",
      "[[    0     0     0    40]\n",
      " [    0     7     0     5]\n",
      " [    0     0     4     0]\n",
      " [    0     0     0 51804]]\n"
     ]
    },
    {
     "data": {
      "image/png": "[encoded data removed]",
      "text/plain": [
       "<Figure size 432x288 with 2 Axes>"
      ]
     },
     "metadata": {
      "needs_background": "light"
     },
     "output_type": "display_data"
    }
   ],
   "source": [
    "cnf_matrix = confusion_matrix(y_train, y_train_predicted,labels=['Impersonation',\"Normal\", \"MITM\", \"DoS\"])\n",
    "np.set_printoptions(precision=2)\n",
    "\n",
    "# Plot non-normalized confusion matrix\n",
    "plt.figure()\n",
    "plot_confusion_matrix(cnf_matrix, classes=['Impersonation',\"Normal\", \"MITM\", \"DoS\"],\n",
    "                      title='Confusion matrix, without normalization')"
   ]
  },
  {
   "cell_type": "code",
   "execution_count": 95,
   "metadata": {},
   "outputs": [
    {
     "data": {
      "text/plain": [
       "0.9994150994330964"
      ]
     },
     "execution_count": 95,
     "metadata": {},
     "output_type": "execute_result"
    }
   ],
   "source": [
    "perceptron = Perceptron()\n",
    "perceptron.fit(X_train, y_train) # apprendo su training\n",
    "predicted_test = perceptron.predict(X_test) # predico sul test\n",
    "np.sum(predicted_test == y_test)/len(y_test)"
   ]
  },
  {
   "cell_type": "code",
   "execution_count": 96,
   "metadata": {},
   "outputs": [
    {
     "name": "stdout",
     "output_type": "stream",
     "text": [
      "Confusion matrix, without normalization\n",
      "[[    0     0     0     9]\n",
      " [    0     3     0     4]\n",
      " [    0     0     2     0]\n",
      " [    0     0     0 22208]]\n"
     ]
    },
    {
     "data": {
      "image/png": "[encoded data removed]",
      "text/plain": [
       "<Figure size 432x288 with 2 Axes>"
      ]
     },
     "metadata": {
      "needs_background": "light"
     },
     "output_type": "display_data"
    }
   ],
   "source": [
    "cnf_matrix = confusion_matrix(y_test, predicted_test,labels=['Impersonation',\"Normal\", \"MITM\", \"DoS\"])\n",
    "np.set_printoptions(precision=2)\n",
    "\n",
    "# Plot non-normalized confusion matrix\n",
    "plt.figure()\n",
    "plot_confusion_matrix(cnf_matrix, classes=['Impersonation',\"Normal\", \"MITM\", \"DoS\"],\n",
    "                      title='Confusion matrix, without normalization')"
   ]
  },
  {
   "cell_type": "markdown",
   "metadata": {},
   "source": [
    "## Linear Classifier"
   ]
  },
  {
   "cell_type": "markdown",
   "metadata": {},
   "source": [
    "### Verify if we can split classes with linear classification"
   ]
  },
  {
   "cell_type": "code",
   "execution_count": 94,
   "metadata": {},
   "outputs": [],
   "source": [
    "OPCUA_dataset = pd.read_csv('OPCUA_dataset_ML.csv')\n",
    "OPCUA_dataset_label = OPCUA_dataset['label']\n",
    "normal_or_DoS = (OPCUA_dataset_label == 'Normal') | (OPCUA_dataset_label == 'DoS')\n",
    "X_norm_dos = OPCUA_dataset[normal_or_DoS]\n",
    "y_norm_dos = OPCUA_dataset_label[normal_or_DoS]"
   ]
  },
  {
   "cell_type": "code",
   "execution_count": 95,
   "metadata": {},
   "outputs": [
    {
     "data": {
      "text/html": [
       "<div>\n",
       "<style scoped>\n",
       "    .dataframe tbody tr th:only-of-type {\n",
       "        vertical-align: middle;\n",
       "    }\n",
       "\n",
       "    .dataframe tbody tr th {\n",
       "        vertical-align: top;\n",
       "    }\n",
       "\n",
       "    .dataframe thead th {\n",
       "        text-align: right;\n",
       "    }\n",
       "</style>\n",
       "<table border=\"1\" class=\"dataframe\">\n",
       "  <thead>\n",
       "    <tr style=\"text-align: right;\">\n",
       "      <th></th>\n",
       "      <th>Unnamed: 0</th>\n",
       "      <th>case_id</th>\n",
       "      <th>IPclass</th>\n",
       "      <th>trace_is_fit_TR</th>\n",
       "      <th>trace_fitness_TR</th>\n",
       "      <th>missing_tokens_TR</th>\n",
       "      <th>consumed_tokens_TR</th>\n",
       "      <th>remaining_tokens_TR</th>\n",
       "      <th>produced_tokens_TR</th>\n",
       "      <th>cost_AL</th>\n",
       "      <th>visited_states_AL</th>\n",
       "      <th>queued_states_AL</th>\n",
       "      <th>traversed_arcs_AL</th>\n",
       "      <th>lp_solved_AL</th>\n",
       "      <th>fitness_AL</th>\n",
       "      <th>label</th>\n",
       "    </tr>\n",
       "  </thead>\n",
       "  <tbody>\n",
       "    <tr>\n",
       "      <th>0</th>\n",
       "      <td>0</td>\n",
       "      <td>192.168.1.16_40656_192.168.1.17_4840</td>\n",
       "      <td>C</td>\n",
       "      <td>1</td>\n",
       "      <td>1.0</td>\n",
       "      <td>0</td>\n",
       "      <td>7125</td>\n",
       "      <td>0</td>\n",
       "      <td>7125</td>\n",
       "      <td>3561</td>\n",
       "      <td>14234</td>\n",
       "      <td>32032</td>\n",
       "      <td>35588</td>\n",
       "      <td>1</td>\n",
       "      <td>1.0</td>\n",
       "      <td>Normal</td>\n",
       "    </tr>\n",
       "    <tr>\n",
       "      <th>1</th>\n",
       "      <td>1</td>\n",
       "      <td>192.168.1.16_44854_192.168.1.18_4840</td>\n",
       "      <td>C</td>\n",
       "      <td>1</td>\n",
       "      <td>1.0</td>\n",
       "      <td>0</td>\n",
       "      <td>7123</td>\n",
       "      <td>0</td>\n",
       "      <td>7123</td>\n",
       "      <td>3560</td>\n",
       "      <td>14230</td>\n",
       "      <td>32023</td>\n",
       "      <td>35578</td>\n",
       "      <td>2</td>\n",
       "      <td>1.0</td>\n",
       "      <td>Normal</td>\n",
       "    </tr>\n",
       "    <tr>\n",
       "      <th>2</th>\n",
       "      <td>2</td>\n",
       "      <td>192.168.1.18_45388_192.168.1.16_4840</td>\n",
       "      <td>C</td>\n",
       "      <td>1</td>\n",
       "      <td>1.0</td>\n",
       "      <td>0</td>\n",
       "      <td>7219</td>\n",
       "      <td>0</td>\n",
       "      <td>7219</td>\n",
       "      <td>3608</td>\n",
       "      <td>14422</td>\n",
       "      <td>32455</td>\n",
       "      <td>36058</td>\n",
       "      <td>2</td>\n",
       "      <td>1.0</td>\n",
       "      <td>Normal</td>\n",
       "    </tr>\n",
       "    <tr>\n",
       "      <th>5</th>\n",
       "      <td>5</td>\n",
       "      <td>192.168.1.18_35708_192.168.1.17_4840</td>\n",
       "      <td>C</td>\n",
       "      <td>1</td>\n",
       "      <td>1.0</td>\n",
       "      <td>0</td>\n",
       "      <td>7219</td>\n",
       "      <td>0</td>\n",
       "      <td>7219</td>\n",
       "      <td>3608</td>\n",
       "      <td>14422</td>\n",
       "      <td>32455</td>\n",
       "      <td>36058</td>\n",
       "      <td>2</td>\n",
       "      <td>1.0</td>\n",
       "      <td>Normal</td>\n",
       "    </tr>\n",
       "    <tr>\n",
       "      <th>9</th>\n",
       "      <td>9</td>\n",
       "      <td>192.168.1.20_46374_192.168.1.21_4840</td>\n",
       "      <td>C</td>\n",
       "      <td>1</td>\n",
       "      <td>1.0</td>\n",
       "      <td>0</td>\n",
       "      <td>3675</td>\n",
       "      <td>0</td>\n",
       "      <td>3675</td>\n",
       "      <td>1836</td>\n",
       "      <td>7334</td>\n",
       "      <td>16507</td>\n",
       "      <td>18338</td>\n",
       "      <td>2</td>\n",
       "      <td>1.0</td>\n",
       "      <td>Normal</td>\n",
       "    </tr>\n",
       "  </tbody>\n",
       "</table>\n",
       "</div>"
      ],
      "text/plain": [
       "   Unnamed: 0                               case_id IPclass  trace_is_fit_TR  \\\n",
       "0           0  192.168.1.16_40656_192.168.1.17_4840       C                1   \n",
       "1           1  192.168.1.16_44854_192.168.1.18_4840       C                1   \n",
       "2           2  192.168.1.18_45388_192.168.1.16_4840       C                1   \n",
       "5           5  192.168.1.18_35708_192.168.1.17_4840       C                1   \n",
       "9           9  192.168.1.20_46374_192.168.1.21_4840       C                1   \n",
       "\n",
       "   trace_fitness_TR  missing_tokens_TR  consumed_tokens_TR  \\\n",
       "0               1.0                  0                7125   \n",
       "1               1.0                  0                7123   \n",
       "2               1.0                  0                7219   \n",
       "5               1.0                  0                7219   \n",
       "9               1.0                  0                3675   \n",
       "\n",
       "   remaining_tokens_TR  produced_tokens_TR  cost_AL  visited_states_AL  \\\n",
       "0                    0                7125     3561              14234   \n",
       "1                    0                7123     3560              14230   \n",
       "2                    0                7219     3608              14422   \n",
       "5                    0                7219     3608              14422   \n",
       "9                    0                3675     1836               7334   \n",
       "\n",
       "   queued_states_AL  traversed_arcs_AL  lp_solved_AL  fitness_AL   label  \n",
       "0             32032              35588             1         1.0  Normal  \n",
       "1             32023              35578             2         1.0  Normal  \n",
       "2             32455              36058             2         1.0  Normal  \n",
       "5             32455              36058             2         1.0  Normal  \n",
       "9             16507              18338             2         1.0  Normal  "
      ]
     },
     "execution_count": 95,
     "metadata": {},
     "output_type": "execute_result"
    }
   ],
   "source": [
    "X_norm_dos.head(5)"
   ]
  },
  {
   "cell_type": "code",
   "execution_count": 129,
   "metadata": {},
   "outputs": [
    {
     "name": "stdout",
     "output_type": "stream",
     "text": [
      "==================================================\n",
      "Plotting the OPCUA data Normal vs DoS\n",
      "--------------------------------------------------\n"
     ]
    },
    {
     "data": {
      "image/png": "[encoded data removed]",
      "text/plain": [
       "<Figure size 432x288 with 1 Axes>"
      ]
     },
     "metadata": {
      "needs_background": "light"
     },
     "output_type": "display_data"
    }
   ],
   "source": [
    "print(50 * '=')\n",
    "print('Plotting the OPCUA data Normal vs DoS')\n",
    "print(50 * '-')\n",
    "\n",
    "# select setosa and versicolor\n",
    "y = OPCUA_dataset.iloc[0:36, 15].values\n",
    "y = np.where(y == 'Normal', -1, 1)\n",
    "\n",
    "# extract sepal length and petal length\n",
    "X = X_norm_dos.iloc[0:36, [9, 10]].values\n",
    "\n",
    "# plot data\n",
    "plt.scatter(X[:10, 0], X[:10, 1],\n",
    "            color='blue', marker='o',s=100, label='Normal')\n",
    "plt.scatter(X[18:36, 0], X[18:36, 1],\n",
    "            color='red', marker='o',s=100, label='DoS')\n",
    "\n",
    "plt.xlabel('ALcost')\n",
    "plt.ylabel('visited_states_AL')\n",
    "plt.legend(loc='upper right')\n",
    "\n",
    "# plt.tight_layout()\n",
    "# plt.savefig('./images/02_06.png', dpi=300)\n",
    "plt.show()"
   ]
  },
  {
   "cell_type": "code",
   "execution_count": 106,
   "metadata": {},
   "outputs": [],
   "source": [
    "normal_or_MITM = (OPCUA_dataset_label == 'Normal') | (OPCUA_dataset_label == 'MITM')\n",
    "X_norm_MITM = OPCUA_dataset[normal_or_MITM]\n",
    "y_norm_MITM = OPCUA_dataset_label[normal_or_MITM]"
   ]
  },
  {
   "cell_type": "code",
   "execution_count": 107,
   "metadata": {},
   "outputs": [],
   "source": [
    "sorted_X_norm_MITM = X_norm_MITM.sort_values(by=['label','cost_AL'])"
   ]
  },
  {
   "cell_type": "code",
   "execution_count": 130,
   "metadata": {},
   "outputs": [
    {
     "name": "stdout",
     "output_type": "stream",
     "text": [
      "==================================================\n",
      "Plotting the OPCUA data - Normal vs MITM\n",
      "--------------------------------------------------\n"
     ]
    },
    {
     "data": {
      "image/png": "[encoded data removed]",
      "text/plain": [
       "<Figure size 432x288 with 1 Axes>"
      ]
     },
     "metadata": {
      "needs_background": "light"
     },
     "output_type": "display_data"
    }
   ],
   "source": [
    "print(50 * '=')\n",
    "print('Plotting the OPCUA data - Normal vs MITM')\n",
    "print(50 * '-')\n",
    "\n",
    "# select setosa and versicolor\n",
    "y = sorted_X_norm_MITM.iloc[0:12, 15].values\n",
    "y = np.where(y == 'Normal', -1, 1)\n",
    "\n",
    "# extract sepal length and petal length\n",
    "X = sorted_X_norm_MITM.iloc[0:12, [9, 13]].values\n",
    "\n",
    "# plot data\n",
    "plt.scatter(X[:6, 0], X[:6, 1],\n",
    "            color='red', marker='o',s=100, label='MITM')\n",
    "plt.scatter(X[6:12, 0], X[6:12, 1],\n",
    "            color='blue', marker='o',s=100, label='Normal')\n",
    "\n",
    "plt.xlabel('ALcost')\n",
    "plt.ylabel('lp_solved_AL')\n",
    "plt.legend(loc='upper left')\n",
    "\n",
    "# plt.tight_layout()\n",
    "# plt.savefig('./images/02_06.png', dpi=300)\n",
    "plt.show()"
   ]
  },
  {
   "cell_type": "code",
   "execution_count": 112,
   "metadata": {},
   "outputs": [],
   "source": [
    "normal_or_Imp = (OPCUA_dataset_label == 'Normal') | (OPCUA_dataset_label == 'Impersonation')\n",
    "X_norm_Imp = OPCUA_dataset[normal_or_Imp]\n",
    "y_norm_Imp = OPCUA_dataset_label[normal_or_Imp]"
   ]
  },
  {
   "cell_type": "code",
   "execution_count": 113,
   "metadata": {},
   "outputs": [],
   "source": [
    "sorted_X_norm_Imp = X_norm_Imp.sort_values(by=['label','cost_AL'])"
   ]
  },
  {
   "cell_type": "code",
   "execution_count": 116,
   "metadata": {},
   "outputs": [
    {
     "data": {
      "text/html": [
       "<div>\n",
       "<style scoped>\n",
       "    .dataframe tbody tr th:only-of-type {\n",
       "        vertical-align: middle;\n",
       "    }\n",
       "\n",
       "    .dataframe tbody tr th {\n",
       "        vertical-align: top;\n",
       "    }\n",
       "\n",
       "    .dataframe thead th {\n",
       "        text-align: right;\n",
       "    }\n",
       "</style>\n",
       "<table border=\"1\" class=\"dataframe\">\n",
       "  <thead>\n",
       "    <tr style=\"text-align: right;\">\n",
       "      <th></th>\n",
       "      <th>Unnamed: 0</th>\n",
       "      <th>case_id</th>\n",
       "      <th>IPclass</th>\n",
       "      <th>trace_is_fit_TR</th>\n",
       "      <th>trace_fitness_TR</th>\n",
       "      <th>missing_tokens_TR</th>\n",
       "      <th>consumed_tokens_TR</th>\n",
       "      <th>remaining_tokens_TR</th>\n",
       "      <th>produced_tokens_TR</th>\n",
       "      <th>cost_AL</th>\n",
       "      <th>visited_states_AL</th>\n",
       "      <th>queued_states_AL</th>\n",
       "      <th>traversed_arcs_AL</th>\n",
       "      <th>lp_solved_AL</th>\n",
       "      <th>fitness_AL</th>\n",
       "      <th>label</th>\n",
       "    </tr>\n",
       "  </thead>\n",
       "  <tbody>\n",
       "    <tr>\n",
       "      <th>65559</th>\n",
       "      <td>65559</td>\n",
       "      <td>192.168.1.21_4048_192.168.1.17_4840</td>\n",
       "      <td>C</td>\n",
       "      <td>0</td>\n",
       "      <td>0.0</td>\n",
       "      <td>1</td>\n",
       "      <td>1</td>\n",
       "      <td>1</td>\n",
       "      <td>1</td>\n",
       "      <td>60003</td>\n",
       "      <td>9</td>\n",
       "      <td>10</td>\n",
       "      <td>13</td>\n",
       "      <td>1</td>\n",
       "      <td>0.0</td>\n",
       "      <td>Impersonation</td>\n",
       "    </tr>\n",
       "    <tr>\n",
       "      <th>65560</th>\n",
       "      <td>65560</td>\n",
       "      <td>192.168.1.22_4048_192.168.1.16_4840</td>\n",
       "      <td>C</td>\n",
       "      <td>0</td>\n",
       "      <td>0.0</td>\n",
       "      <td>1</td>\n",
       "      <td>1</td>\n",
       "      <td>1</td>\n",
       "      <td>1</td>\n",
       "      <td>60003</td>\n",
       "      <td>9</td>\n",
       "      <td>10</td>\n",
       "      <td>13</td>\n",
       "      <td>1</td>\n",
       "      <td>0.0</td>\n",
       "      <td>Impersonation</td>\n",
       "    </tr>\n",
       "    <tr>\n",
       "      <th>65561</th>\n",
       "      <td>65561</td>\n",
       "      <td>192.168.1.20_4048_192.168.1.19_4840</td>\n",
       "      <td>C</td>\n",
       "      <td>0</td>\n",
       "      <td>0.0</td>\n",
       "      <td>1</td>\n",
       "      <td>1</td>\n",
       "      <td>1</td>\n",
       "      <td>1</td>\n",
       "      <td>60003</td>\n",
       "      <td>9</td>\n",
       "      <td>10</td>\n",
       "      <td>13</td>\n",
       "      <td>1</td>\n",
       "      <td>0.0</td>\n",
       "      <td>Impersonation</td>\n",
       "    </tr>\n",
       "    <tr>\n",
       "      <th>65562</th>\n",
       "      <td>65562</td>\n",
       "      <td>192.168.1.16_4048_192.168.1.22_4840</td>\n",
       "      <td>C</td>\n",
       "      <td>0</td>\n",
       "      <td>0.0</td>\n",
       "      <td>1</td>\n",
       "      <td>1</td>\n",
       "      <td>1</td>\n",
       "      <td>1</td>\n",
       "      <td>60003</td>\n",
       "      <td>9</td>\n",
       "      <td>10</td>\n",
       "      <td>13</td>\n",
       "      <td>1</td>\n",
       "      <td>0.0</td>\n",
       "      <td>Impersonation</td>\n",
       "    </tr>\n",
       "    <tr>\n",
       "      <th>65563</th>\n",
       "      <td>65563</td>\n",
       "      <td>192.168.1.19_4048_192.168.1.19_4840</td>\n",
       "      <td>C</td>\n",
       "      <td>0</td>\n",
       "      <td>0.0</td>\n",
       "      <td>1</td>\n",
       "      <td>1</td>\n",
       "      <td>1</td>\n",
       "      <td>1</td>\n",
       "      <td>60003</td>\n",
       "      <td>9</td>\n",
       "      <td>10</td>\n",
       "      <td>13</td>\n",
       "      <td>1</td>\n",
       "      <td>0.0</td>\n",
       "      <td>Impersonation</td>\n",
       "    </tr>\n",
       "    <tr>\n",
       "      <th>...</th>\n",
       "      <td>...</td>\n",
       "      <td>...</td>\n",
       "      <td>...</td>\n",
       "      <td>...</td>\n",
       "      <td>...</td>\n",
       "      <td>...</td>\n",
       "      <td>...</td>\n",
       "      <td>...</td>\n",
       "      <td>...</td>\n",
       "      <td>...</td>\n",
       "      <td>...</td>\n",
       "      <td>...</td>\n",
       "      <td>...</td>\n",
       "      <td>...</td>\n",
       "      <td>...</td>\n",
       "      <td>...</td>\n",
       "    </tr>\n",
       "    <tr>\n",
       "      <th>20</th>\n",
       "      <td>20</td>\n",
       "      <td>192.168.1.21_34238_192.168.1.22_4840</td>\n",
       "      <td>C</td>\n",
       "      <td>0</td>\n",
       "      <td>0.0</td>\n",
       "      <td>1</td>\n",
       "      <td>1</td>\n",
       "      <td>1</td>\n",
       "      <td>1</td>\n",
       "      <td>60003</td>\n",
       "      <td>9</td>\n",
       "      <td>10</td>\n",
       "      <td>13</td>\n",
       "      <td>1</td>\n",
       "      <td>0.0</td>\n",
       "      <td>Normal</td>\n",
       "    </tr>\n",
       "    <tr>\n",
       "      <th>21</th>\n",
       "      <td>21</td>\n",
       "      <td>192.168.1.19_54874_192.168.1.21_4840</td>\n",
       "      <td>C</td>\n",
       "      <td>0</td>\n",
       "      <td>0.0</td>\n",
       "      <td>1</td>\n",
       "      <td>1</td>\n",
       "      <td>1</td>\n",
       "      <td>1</td>\n",
       "      <td>60003</td>\n",
       "      <td>9</td>\n",
       "      <td>10</td>\n",
       "      <td>13</td>\n",
       "      <td>1</td>\n",
       "      <td>0.0</td>\n",
       "      <td>Normal</td>\n",
       "    </tr>\n",
       "    <tr>\n",
       "      <th>22</th>\n",
       "      <td>22</td>\n",
       "      <td>192.168.1.19_60822_192.168.1.20_4840</td>\n",
       "      <td>C</td>\n",
       "      <td>0</td>\n",
       "      <td>0.0</td>\n",
       "      <td>1</td>\n",
       "      <td>1</td>\n",
       "      <td>1</td>\n",
       "      <td>1</td>\n",
       "      <td>60003</td>\n",
       "      <td>9</td>\n",
       "      <td>10</td>\n",
       "      <td>13</td>\n",
       "      <td>1</td>\n",
       "      <td>0.0</td>\n",
       "      <td>Normal</td>\n",
       "    </tr>\n",
       "    <tr>\n",
       "      <th>23</th>\n",
       "      <td>23</td>\n",
       "      <td>192.168.1.19_40766_192.168.1.22_4840</td>\n",
       "      <td>C</td>\n",
       "      <td>0</td>\n",
       "      <td>0.0</td>\n",
       "      <td>1</td>\n",
       "      <td>1</td>\n",
       "      <td>1</td>\n",
       "      <td>1</td>\n",
       "      <td>60003</td>\n",
       "      <td>9</td>\n",
       "      <td>10</td>\n",
       "      <td>13</td>\n",
       "      <td>1</td>\n",
       "      <td>0.0</td>\n",
       "      <td>Normal</td>\n",
       "    </tr>\n",
       "    <tr>\n",
       "      <th>65558</th>\n",
       "      <td>65558</td>\n",
       "      <td>192.168.1.21_4840_192.168.1.19_54924</td>\n",
       "      <td>C</td>\n",
       "      <td>0</td>\n",
       "      <td>0.0</td>\n",
       "      <td>1</td>\n",
       "      <td>1</td>\n",
       "      <td>1</td>\n",
       "      <td>1</td>\n",
       "      <td>60003</td>\n",
       "      <td>9</td>\n",
       "      <td>10</td>\n",
       "      <td>13</td>\n",
       "      <td>1</td>\n",
       "      <td>0.0</td>\n",
       "      <td>Normal</td>\n",
       "    </tr>\n",
       "  </tbody>\n",
       "</table>\n",
       "<p>68 rows × 16 columns</p>\n",
       "</div>"
      ],
      "text/plain": [
       "       Unnamed: 0                               case_id IPclass  \\\n",
       "65559       65559   192.168.1.21_4048_192.168.1.17_4840       C   \n",
       "65560       65560   192.168.1.22_4048_192.168.1.16_4840       C   \n",
       "65561       65561   192.168.1.20_4048_192.168.1.19_4840       C   \n",
       "65562       65562   192.168.1.16_4048_192.168.1.22_4840       C   \n",
       "65563       65563   192.168.1.19_4048_192.168.1.19_4840       C   \n",
       "...           ...                                   ...     ...   \n",
       "20             20  192.168.1.21_34238_192.168.1.22_4840       C   \n",
       "21             21  192.168.1.19_54874_192.168.1.21_4840       C   \n",
       "22             22  192.168.1.19_60822_192.168.1.20_4840       C   \n",
       "23             23  192.168.1.19_40766_192.168.1.22_4840       C   \n",
       "65558       65558  192.168.1.21_4840_192.168.1.19_54924       C   \n",
       "\n",
       "       trace_is_fit_TR  trace_fitness_TR  missing_tokens_TR  \\\n",
       "65559                0               0.0                  1   \n",
       "65560                0               0.0                  1   \n",
       "65561                0               0.0                  1   \n",
       "65562                0               0.0                  1   \n",
       "65563                0               0.0                  1   \n",
       "...                ...               ...                ...   \n",
       "20                   0               0.0                  1   \n",
       "21                   0               0.0                  1   \n",
       "22                   0               0.0                  1   \n",
       "23                   0               0.0                  1   \n",
       "65558                0               0.0                  1   \n",
       "\n",
       "       consumed_tokens_TR  remaining_tokens_TR  produced_tokens_TR  cost_AL  \\\n",
       "65559                   1                    1                   1    60003   \n",
       "65560                   1                    1                   1    60003   \n",
       "65561                   1                    1                   1    60003   \n",
       "65562                   1                    1                   1    60003   \n",
       "65563                   1                    1                   1    60003   \n",
       "...                   ...                  ...                 ...      ...   \n",
       "20                      1                    1                   1    60003   \n",
       "21                      1                    1                   1    60003   \n",
       "22                      1                    1                   1    60003   \n",
       "23                      1                    1                   1    60003   \n",
       "65558                   1                    1                   1    60003   \n",
       "\n",
       "       visited_states_AL  queued_states_AL  traversed_arcs_AL  lp_solved_AL  \\\n",
       "65559                  9                10                 13             1   \n",
       "65560                  9                10                 13             1   \n",
       "65561                  9                10                 13             1   \n",
       "65562                  9                10                 13             1   \n",
       "65563                  9                10                 13             1   \n",
       "...                  ...               ...                ...           ...   \n",
       "20                     9                10                 13             1   \n",
       "21                     9                10                 13             1   \n",
       "22                     9                10                 13             1   \n",
       "23                     9                10                 13             1   \n",
       "65558                  9                10                 13             1   \n",
       "\n",
       "       fitness_AL          label  \n",
       "65559         0.0  Impersonation  \n",
       "65560         0.0  Impersonation  \n",
       "65561         0.0  Impersonation  \n",
       "65562         0.0  Impersonation  \n",
       "65563         0.0  Impersonation  \n",
       "...           ...            ...  \n",
       "20            0.0         Normal  \n",
       "21            0.0         Normal  \n",
       "22            0.0         Normal  \n",
       "23            0.0         Normal  \n",
       "65558         0.0         Normal  \n",
       "\n",
       "[68 rows x 16 columns]"
      ]
     },
     "execution_count": 116,
     "metadata": {},
     "output_type": "execute_result"
    }
   ],
   "source": [
    "sorted_X_norm_Imp.head(68)"
   ]
  },
  {
   "cell_type": "code",
   "execution_count": 119,
   "metadata": {},
   "outputs": [],
   "source": [
    "sorted_X_norm_Imp.to_csv(\"Impersonation.csv\")"
   ]
  },
  {
   "cell_type": "code",
   "execution_count": 131,
   "metadata": {},
   "outputs": [
    {
     "name": "stdout",
     "output_type": "stream",
     "text": [
      "==================================================\n",
      "Plotting the OPCUA data - Normal vs Impersonation\n",
      "--------------------------------------------------\n"
     ]
    },
    {
     "data": {
      "image/png": "[encoded data removed]",
      "text/plain": [
       "<Figure size 432x288 with 1 Axes>"
      ]
     },
     "metadata": {
      "needs_background": "light"
     },
     "output_type": "display_data"
    }
   ],
   "source": [
    "print(50 * '=')\n",
    "print('Plotting the OPCUA data - Normal vs Impersonation')\n",
    "print(50 * '-')\n",
    "\n",
    "# select setosa and versicolor\n",
    "y = sorted_X_norm_Imp.iloc[0:59, 15].values\n",
    "y = np.where(y == 'Normal', -1, 1)\n",
    "\n",
    "# extract sepal length and petal length\n",
    "X = sorted_X_norm_Imp.iloc[0:59, [9, 10]].values\n",
    "\n",
    "# plot data\n",
    "plt.scatter(X[:49, 0], X[:49, 1],\n",
    "            color='red', marker='o',s=100, label='Impersonation')\n",
    "plt.scatter(X[49:59, 0], X[49:59, 1],\n",
    "            color='blue', marker='o',s=100, label='Normal')\n",
    "\n",
    "plt.xlabel('ALcost')\n",
    "plt.ylabel('visited_states_AL')\n",
    "plt.legend(loc='upper right')\n",
    "\n",
    "# plt.tight_layout()\n",
    "# plt.savefig('./images/02_06.png', dpi=300)\n",
    "plt.show()"
   ]
  },
  {
   "cell_type": "markdown",
   "metadata": {},
   "source": [
    "### Logistic Regression\n",
    "original dataset changed with labels class as integers instead string"
   ]
  },
  {
   "cell_type": "code",
   "execution_count": 138,
   "metadata": {},
   "outputs": [
    {
     "name": "stdout",
     "output_type": "stream",
     "text": [
      "Class labels (Legend: 1=Normal 2=Impersonation 3=DoS 4=MITM\") : [1 2 3 4]\n"
     ]
    }
   ],
   "source": [
    "#Import dataset\n",
    "OPCUA_dataset = pd.read_csv('OPCUA_dataset_ML.csv')\n",
    "OPCUA_dataset_label = OPCUA_dataset['label']\n",
    "print('Class labels (Legend: 1=Normal 2=Impersonation 3=DoS 4=MITM\") :', np.unique(OPCUA_dataset_label))"
   ]
  },
  {
   "cell_type": "code",
   "execution_count": 141,
   "metadata": {},
   "outputs": [],
   "source": [
    "X = OPCUA_dataset.iloc[:,[9,13]]\n",
    "y = OPCUA_dataset['label']"
   ]
  },
  {
   "cell_type": "code",
   "execution_count": 144,
   "metadata": {},
   "outputs": [],
   "source": [
    "X_train, X_test, y_train, y_test = train_test_split(X, y, test_size = 0.3, random_state = 1, stratify=y)"
   ]
  },
  {
   "cell_type": "code",
   "execution_count": 145,
   "metadata": {},
   "outputs": [
    {
     "name": "stdout",
     "output_type": "stream",
     "text": [
      "Class labels y : [    0    19    49 74012     6]\n"
     ]
    }
   ],
   "source": [
    "print('Class labels y :', np.bincount(y))"
   ]
  },
  {
   "cell_type": "code",
   "execution_count": 146,
   "metadata": {},
   "outputs": [
    {
     "name": "stdout",
     "output_type": "stream",
     "text": [
      "Class labels y : [    0    14    34 51808     4]\n"
     ]
    }
   ],
   "source": [
    "print('Class labels y :', np.bincount(y_train))\n"
   ]
  },
  {
   "cell_type": "code",
   "execution_count": 147,
   "metadata": {},
   "outputs": [
    {
     "name": "stdout",
     "output_type": "stream",
     "text": [
      "Class labels y : [    0     5    15 22204     2]\n"
     ]
    }
   ],
   "source": [
    "print('Class labels y :', np.bincount(y_test))"
   ]
  },
  {
   "cell_type": "code",
   "execution_count": 148,
   "metadata": {},
   "outputs": [],
   "source": [
    "sc = StandardScaler()\n",
    "sc.fit(X_train)\n",
    "X_train_std = sc.transform(X_train)\n",
    "X_test_std = sc.transform(X_test)"
   ]
  },
  {
   "cell_type": "code",
   "execution_count": 150,
   "metadata": {},
   "outputs": [
    {
     "data": {
      "text/html": [
       "<style>#sk-733c33e3-5526-4d31-a325-73b51b30b455 {color: black;background-color: white;}#sk-733c33e3-5526-4d31-a325-73b51b30b455 pre{padding: 0;}#sk-733c33e3-5526-4d31-a325-73b51b30b455 div.sk-toggleable {background-color: white;}#sk-733c33e3-5526-4d31-a325-73b51b30b455 label.sk-toggleable__label {cursor: pointer;display: block;width: 100%;margin-bottom: 0;padding: 0.3em;box-sizing: border-box;text-align: center;}#sk-733c33e3-5526-4d31-a325-73b51b30b455 label.sk-toggleable__label-arrow:before {content: \"▸\";float: left;margin-right: 0.25em;color: #696969;}#sk-733c33e3-5526-4d31-a325-73b51b30b455 label.sk-toggleable__label-arrow:hover:before {color: black;}#sk-733c33e3-5526-4d31-a325-73b51b30b455 div.sk-estimator:hover label.sk-toggleable__label-arrow:before {color: black;}#sk-733c33e3-5526-4d31-a325-73b51b30b455 div.sk-toggleable__content {max-height: 0;max-width: 0;overflow: hidden;text-align: left;background-color: #f0f8ff;}#sk-733c33e3-5526-4d31-a325-73b51b30b455 div.sk-toggleable__content pre {margin: 0.2em;color: black;border-radius: 0.25em;background-color: #f0f8ff;}#sk-733c33e3-5526-4d31-a325-73b51b30b455 input.sk-toggleable__control:checked~div.sk-toggleable__content {max-height: 200px;max-width: 100%;overflow: auto;}#sk-733c33e3-5526-4d31-a325-73b51b30b455 input.sk-toggleable__control:checked~label.sk-toggleable__label-arrow:before {content: \"▾\";}#sk-733c33e3-5526-4d31-a325-73b51b30b455 div.sk-estimator input.sk-toggleable__control:checked~label.sk-toggleable__label {background-color: #d4ebff;}#sk-733c33e3-5526-4d31-a325-73b51b30b455 div.sk-label input.sk-toggleable__control:checked~label.sk-toggleable__label {background-color: #d4ebff;}#sk-733c33e3-5526-4d31-a325-73b51b30b455 input.sk-hidden--visually {border: 0;clip: rect(1px 1px 1px 1px);clip: rect(1px, 1px, 1px, 1px);height: 1px;margin: -1px;overflow: hidden;padding: 0;position: absolute;width: 1px;}#sk-733c33e3-5526-4d31-a325-73b51b30b455 div.sk-estimator {font-family: monospace;background-color: #f0f8ff;border: 1px dotted black;border-radius: 0.25em;box-sizing: border-box;margin-bottom: 0.5em;}#sk-733c33e3-5526-4d31-a325-73b51b30b455 div.sk-estimator:hover {background-color: #d4ebff;}#sk-733c33e3-5526-4d31-a325-73b51b30b455 div.sk-parallel-item::after {content: \"\";width: 100%;border-bottom: 1px solid gray;flex-grow: 1;}#sk-733c33e3-5526-4d31-a325-73b51b30b455 div.sk-label:hover label.sk-toggleable__label {background-color: #d4ebff;}#sk-733c33e3-5526-4d31-a325-73b51b30b455 div.sk-serial::before {content: \"\";position: absolute;border-left: 1px solid gray;box-sizing: border-box;top: 2em;bottom: 0;left: 50%;}#sk-733c33e3-5526-4d31-a325-73b51b30b455 div.sk-serial {display: flex;flex-direction: column;align-items: center;background-color: white;padding-right: 0.2em;padding-left: 0.2em;}#sk-733c33e3-5526-4d31-a325-73b51b30b455 div.sk-item {z-index: 1;}#sk-733c33e3-5526-4d31-a325-73b51b30b455 div.sk-parallel {display: flex;align-items: stretch;justify-content: center;background-color: white;}#sk-733c33e3-5526-4d31-a325-73b51b30b455 div.sk-parallel::before {content: \"\";position: absolute;border-left: 1px solid gray;box-sizing: border-box;top: 2em;bottom: 0;left: 50%;}#sk-733c33e3-5526-4d31-a325-73b51b30b455 div.sk-parallel-item {display: flex;flex-direction: column;position: relative;background-color: white;}#sk-733c33e3-5526-4d31-a325-73b51b30b455 div.sk-parallel-item:first-child::after {align-self: flex-end;width: 50%;}#sk-733c33e3-5526-4d31-a325-73b51b30b455 div.sk-parallel-item:last-child::after {align-self: flex-start;width: 50%;}#sk-733c33e3-5526-4d31-a325-73b51b30b455 div.sk-parallel-item:only-child::after {width: 0;}#sk-733c33e3-5526-4d31-a325-73b51b30b455 div.sk-dashed-wrapped {border: 1px dashed gray;margin: 0 0.4em 0.5em 0.4em;box-sizing: border-box;padding-bottom: 0.4em;background-color: white;position: relative;}#sk-733c33e3-5526-4d31-a325-73b51b30b455 div.sk-label label {font-family: monospace;font-weight: bold;background-color: white;display: inline-block;line-height: 1.2em;}#sk-733c33e3-5526-4d31-a325-73b51b30b455 div.sk-label-container {position: relative;z-index: 2;text-align: center;}#sk-733c33e3-5526-4d31-a325-73b51b30b455 div.sk-container {/* jupyter's `normalize.less` sets `[hidden] { display: none; }` but bootstrap.min.css set `[hidden] { display: none !important; }` so we also need the `!important` here to be able to override the default hidden behavior on the sphinx rendered scikit-learn.org. See: https://github.com/scikit-learn/scikit-learn/issues/21755 */display: inline-block !important;position: relative;}#sk-733c33e3-5526-4d31-a325-73b51b30b455 div.sk-text-repr-fallback {display: none;}</style><div id=\"sk-733c33e3-5526-4d31-a325-73b51b30b455\" class=\"sk-top-container\"><div class=\"sk-text-repr-fallback\"><pre>Perceptron(eta0=0.1, random_state=1)</pre><b>Please rerun this cell to show the HTML repr or trust the notebook.</b></div><div class=\"sk-container\" hidden><div class=\"sk-item\"><div class=\"sk-estimator sk-toggleable\"><input class=\"sk-toggleable__control sk-hidden--visually\" id=\"e6f5a9db-3619-4b30-bf38-282e254e42f9\" type=\"checkbox\" checked><label for=\"e6f5a9db-3619-4b30-bf38-282e254e42f9\" class=\"sk-toggleable__label sk-toggleable__label-arrow\">Perceptron</label><div class=\"sk-toggleable__content\"><pre>Perceptron(eta0=0.1, random_state=1)</pre></div></div></div></div></div>"
      ],
      "text/plain": [
       "Perceptron(eta0=0.1, random_state=1)"
      ]
     },
     "execution_count": 150,
     "metadata": {},
     "output_type": "execute_result"
    }
   ],
   "source": [
    "ppn = Perceptron(eta0=0.1, random_state=1)\n",
    "ppn.fit(X_train_std,y_train)"
   ]
  },
  {
   "cell_type": "code",
   "execution_count": 151,
   "metadata": {},
   "outputs": [],
   "source": [
    "y_pred = ppn.predict(X_test_std)"
   ]
  },
  {
   "cell_type": "code",
   "execution_count": 152,
   "metadata": {},
   "outputs": [
    {
     "name": "stdout",
     "output_type": "stream",
     "text": [
      "Accuracy: 0.999\n"
     ]
    }
   ],
   "source": [
    "from sklearn.metrics import accuracy_score\n",
    "print('Accuracy: %.3f' % accuracy_score(y_test,y_pred))"
   ]
  },
  {
   "cell_type": "code",
   "execution_count": 172,
   "metadata": {},
   "outputs": [],
   "source": [
    "import warnings\n",
    "from matplotlib.colors import ListedColormap\n",
    "\n",
    "def versiontuple(v):\n",
    "    return tuple(map(int, (v.split(\".\"))))\n",
    "\n",
    "def plot_decision_regions(X, y, classifier, test_idx=None, resolution=0.02):\n",
    "\n",
    "    # setup marker generator and color map\n",
    "    markers = ('s', 'x', 'o', '^', 'v')\n",
    "    colors = ('red', 'blue', 'lightgreen', 'gray', 'cyan')\n",
    "    cmap = ListedColormap(colors[:len(np.unique(y))])\n",
    "\n",
    "    # plot the decision surface\n",
    "    x1_min, x1_max = X[:, 0].min() - 1, X[:, 0].max() + 1\n",
    "    x2_min, x2_max = X[:, 1].min() - 1, X[:, 1].max() + 1\n",
    "    xx1, xx2 = np.meshgrid(np.arange(x1_min, x1_max, resolution),\n",
    "                           np.arange(x2_min, x2_max, resolution))\n",
    "    Z = classifier.predict(np.array([xx1.ravel(), xx2.ravel()]).T)\n",
    "    Z = Z.reshape(xx1.shape)\n",
    "    plt.contourf(xx1, xx2, Z, alpha=0.4, cmap=cmap)\n",
    "    plt.xlim(xx1.min(), xx1.max())\n",
    "    plt.ylim(xx2.min(), xx2.max())\n",
    "      \n",
    "    X_test, y_test = X[test_idx, :], y[test_idx]\n",
    "    for idx, cl in enumerate(np.unique(y)):\n",
    "        plt.scatter(x=X[y == cl, 0],\n",
    "                    y=X[y == cl, 1], \n",
    "                    s=100,\n",
    "                    alpha=0.9, \n",
    "                    color=cmap(idx), \n",
    "                    marker=markers[idx], \n",
    "                    label=cl)\n"
   ]
  },
  {
   "cell_type": "code",
   "execution_count": 173,
   "metadata": {},
   "outputs": [
    {
     "data": {
      "image/png": "[encoded data removed]",
      "text/plain": [
       "<Figure size 432x288 with 1 Axes>"
      ]
     },
     "metadata": {
      "needs_background": "light"
     },
     "output_type": "display_data"
    }
   ],
   "source": [
    "X_combined_std = np.vstack((X_train_std, X_test_std))\n",
    "y_combined = np.hstack((y_train, y_test))\n",
    "\n",
    "plot_decision_regions(X=X_combined_std, y=y_combined,\n",
    "                      classifier=ppn, test_idx=range(51860, 74086))\n",
    "plt.xlabel('petal length [standardized]')\n",
    "plt.ylabel('petal width [standardized]')\n",
    "plt.legend(loc='upper left')\n",
    "\n",
    "# plt.tight_layout()\n",
    "# plt.savefig('./figures/iris_perceptron_scikit.png', dpi=300)\n",
    "plt.show()"
   ]
  },
  {
   "cell_type": "code",
   "execution_count": 159,
   "metadata": {},
   "outputs": [
    {
     "data": {
      "text/html": [
       "<style>#sk-19b0e3cd-38ad-44c3-95ac-b3ea55a3a0da {color: black;background-color: white;}#sk-19b0e3cd-38ad-44c3-95ac-b3ea55a3a0da pre{padding: 0;}#sk-19b0e3cd-38ad-44c3-95ac-b3ea55a3a0da div.sk-toggleable {background-color: white;}#sk-19b0e3cd-38ad-44c3-95ac-b3ea55a3a0da label.sk-toggleable__label {cursor: pointer;display: block;width: 100%;margin-bottom: 0;padding: 0.3em;box-sizing: border-box;text-align: center;}#sk-19b0e3cd-38ad-44c3-95ac-b3ea55a3a0da label.sk-toggleable__label-arrow:before {content: \"▸\";float: left;margin-right: 0.25em;color: #696969;}#sk-19b0e3cd-38ad-44c3-95ac-b3ea55a3a0da label.sk-toggleable__label-arrow:hover:before {color: black;}#sk-19b0e3cd-38ad-44c3-95ac-b3ea55a3a0da div.sk-estimator:hover label.sk-toggleable__label-arrow:before {color: black;}#sk-19b0e3cd-38ad-44c3-95ac-b3ea55a3a0da div.sk-toggleable__content {max-height: 0;max-width: 0;overflow: hidden;text-align: left;background-color: #f0f8ff;}#sk-19b0e3cd-38ad-44c3-95ac-b3ea55a3a0da div.sk-toggleable__content pre {margin: 0.2em;color: black;border-radius: 0.25em;background-color: #f0f8ff;}#sk-19b0e3cd-38ad-44c3-95ac-b3ea55a3a0da input.sk-toggleable__control:checked~div.sk-toggleable__content {max-height: 200px;max-width: 100%;overflow: auto;}#sk-19b0e3cd-38ad-44c3-95ac-b3ea55a3a0da input.sk-toggleable__control:checked~label.sk-toggleable__label-arrow:before {content: \"▾\";}#sk-19b0e3cd-38ad-44c3-95ac-b3ea55a3a0da div.sk-estimator input.sk-toggleable__control:checked~label.sk-toggleable__label {background-color: #d4ebff;}#sk-19b0e3cd-38ad-44c3-95ac-b3ea55a3a0da div.sk-label input.sk-toggleable__control:checked~label.sk-toggleable__label {background-color: #d4ebff;}#sk-19b0e3cd-38ad-44c3-95ac-b3ea55a3a0da input.sk-hidden--visually {border: 0;clip: rect(1px 1px 1px 1px);clip: rect(1px, 1px, 1px, 1px);height: 1px;margin: -1px;overflow: hidden;padding: 0;position: absolute;width: 1px;}#sk-19b0e3cd-38ad-44c3-95ac-b3ea55a3a0da div.sk-estimator {font-family: monospace;background-color: #f0f8ff;border: 1px dotted black;border-radius: 0.25em;box-sizing: border-box;margin-bottom: 0.5em;}#sk-19b0e3cd-38ad-44c3-95ac-b3ea55a3a0da div.sk-estimator:hover {background-color: #d4ebff;}#sk-19b0e3cd-38ad-44c3-95ac-b3ea55a3a0da div.sk-parallel-item::after {content: \"\";width: 100%;border-bottom: 1px solid gray;flex-grow: 1;}#sk-19b0e3cd-38ad-44c3-95ac-b3ea55a3a0da div.sk-label:hover label.sk-toggleable__label {background-color: #d4ebff;}#sk-19b0e3cd-38ad-44c3-95ac-b3ea55a3a0da div.sk-serial::before {content: \"\";position: absolute;border-left: 1px solid gray;box-sizing: border-box;top: 2em;bottom: 0;left: 50%;}#sk-19b0e3cd-38ad-44c3-95ac-b3ea55a3a0da div.sk-serial {display: flex;flex-direction: column;align-items: center;background-color: white;padding-right: 0.2em;padding-left: 0.2em;}#sk-19b0e3cd-38ad-44c3-95ac-b3ea55a3a0da div.sk-item {z-index: 1;}#sk-19b0e3cd-38ad-44c3-95ac-b3ea55a3a0da div.sk-parallel {display: flex;align-items: stretch;justify-content: center;background-color: white;}#sk-19b0e3cd-38ad-44c3-95ac-b3ea55a3a0da div.sk-parallel::before {content: \"\";position: absolute;border-left: 1px solid gray;box-sizing: border-box;top: 2em;bottom: 0;left: 50%;}#sk-19b0e3cd-38ad-44c3-95ac-b3ea55a3a0da div.sk-parallel-item {display: flex;flex-direction: column;position: relative;background-color: white;}#sk-19b0e3cd-38ad-44c3-95ac-b3ea55a3a0da div.sk-parallel-item:first-child::after {align-self: flex-end;width: 50%;}#sk-19b0e3cd-38ad-44c3-95ac-b3ea55a3a0da div.sk-parallel-item:last-child::after {align-self: flex-start;width: 50%;}#sk-19b0e3cd-38ad-44c3-95ac-b3ea55a3a0da div.sk-parallel-item:only-child::after {width: 0;}#sk-19b0e3cd-38ad-44c3-95ac-b3ea55a3a0da div.sk-dashed-wrapped {border: 1px dashed gray;margin: 0 0.4em 0.5em 0.4em;box-sizing: border-box;padding-bottom: 0.4em;background-color: white;position: relative;}#sk-19b0e3cd-38ad-44c3-95ac-b3ea55a3a0da div.sk-label label {font-family: monospace;font-weight: bold;background-color: white;display: inline-block;line-height: 1.2em;}#sk-19b0e3cd-38ad-44c3-95ac-b3ea55a3a0da div.sk-label-container {position: relative;z-index: 2;text-align: center;}#sk-19b0e3cd-38ad-44c3-95ac-b3ea55a3a0da div.sk-container {/* jupyter's `normalize.less` sets `[hidden] { display: none; }` but bootstrap.min.css set `[hidden] { display: none !important; }` so we also need the `!important` here to be able to override the default hidden behavior on the sphinx rendered scikit-learn.org. See: https://github.com/scikit-learn/scikit-learn/issues/21755 */display: inline-block !important;position: relative;}#sk-19b0e3cd-38ad-44c3-95ac-b3ea55a3a0da div.sk-text-repr-fallback {display: none;}</style><div id=\"sk-19b0e3cd-38ad-44c3-95ac-b3ea55a3a0da\" class=\"sk-top-container\"><div class=\"sk-text-repr-fallback\"><pre>LogisticRegression(C=1000.0, random_state=0)</pre><b>Please rerun this cell to show the HTML repr or trust the notebook.</b></div><div class=\"sk-container\" hidden><div class=\"sk-item\"><div class=\"sk-estimator sk-toggleable\"><input class=\"sk-toggleable__control sk-hidden--visually\" id=\"9d4d9b91-f415-4144-b1ba-1023767e946f\" type=\"checkbox\" checked><label for=\"9d4d9b91-f415-4144-b1ba-1023767e946f\" class=\"sk-toggleable__label sk-toggleable__label-arrow\">LogisticRegression</label><div class=\"sk-toggleable__content\"><pre>LogisticRegression(C=1000.0, random_state=0)</pre></div></div></div></div></div>"
      ],
      "text/plain": [
       "LogisticRegression(C=1000.0, random_state=0)"
      ]
     },
     "execution_count": 159,
     "metadata": {},
     "output_type": "execute_result"
    }
   ],
   "source": [
    "lr = LogisticRegression(C=1000.0, random_state=0)\n",
    "lr.fit(X_train_std, y_train)"
   ]
  },
  {
   "cell_type": "code",
   "execution_count": 174,
   "metadata": {},
   "outputs": [
    {
     "data": {
      "image/png": "[encoded data removed]",
      "text/plain": [
       "<Figure size 432x288 with 1 Axes>"
      ]
     },
     "metadata": {
      "needs_background": "light"
     },
     "output_type": "display_data"
    }
   ],
   "source": [
    "plot_decision_regions(X_combined_std, y_combined,\n",
    "                      classifier=lr, test_idx=range(51860, 74086))\n",
    "plt.xlabel('AL_cost [standardized]')\n",
    "plt.ylabel('lp_solved_AL [standardized]')\n",
    "plt.legend(loc='upper right')\n",
    "# plt.tight_layout()\n",
    "# plt.savefig('./figures/logistic_regression.png', dpi=300)\n",
    "plt.show()"
   ]
  },
  {
   "cell_type": "code",
   "execution_count": null,
   "metadata": {},
   "outputs": [],
   "source": [
    "from sklearn.metrics import classification_report\n",
    "print(classification_report(y_test, y_pred, target_names=labels))\n",
    "\n",
    "\n",
    "stat_msg_size_mean stat_flags_mean traversed_arcs_AL\n"
   ]
  }
 ],
 "metadata": {
  "interpreter": {
   "hash": "66e36499309382ea5ef5e94aa6f5b9b918dcd63b5157b8b253095a3d50349180"
  },
  "kernelspec": {
   "display_name": "Python 3.9.7 ('dse_ml_project')",
   "language": "python",
   "name": "python3"
  },
  "language_info": {
   "codemirror_mode": {
    "name": "ipython",
    "version": 3
   },
   "file_extension": ".py",
   "mimetype": "text/x-python",
   "name": "python",
   "nbconvert_exporter": "python",
   "pygments_lexer": "ipython3",
   "version": "3.9.7"
  },
  "orig_nbformat": 4
 },
 "nbformat": 4,
 "nbformat_minor": 2
}
