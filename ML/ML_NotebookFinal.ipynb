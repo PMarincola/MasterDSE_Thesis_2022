{
 "cells": [
  {
   "cell_type": "markdown",
   "metadata": {},
   "source": [
    "# MACHINE LEARNING - CLASSIFICATION"
   ]
  },
  {
   "cell_type": "code",
   "execution_count": 1,
   "metadata": {},
   "outputs": [],
   "source": [
    "import os\n",
    "# Data management\n",
    "import pandas as pd\n",
    "# Math and Stat modules\n",
    "import numpy as np\n",
    "from scipy.special import logit, expit\n",
    "from scipy import stats\n",
    "\n",
    "# Data preprocessing and trasformation (ETL)\n",
    "from sklearn.experimental import enable_iterative_imputer\n",
    "from sklearn.impute import SimpleImputer, IterativeImputer\n",
    "from sklearn.base import BaseEstimator, TransformerMixin\n",
    "from sklearn.preprocessing import StandardScaler, MinMaxScaler, RobustScaler, MaxAbsScaler, FunctionTransformer, Binarizer, OneHotEncoder, OrdinalEncoder,LabelEncoder\n",
    "from sklearn.pipeline import Pipeline\n",
    "from sklearn.compose import ColumnTransformer\n",
    "from sklearn.model_selection import train_test_split\n",
    "from sklearn.metrics import confusion_matrix, plot_confusion_matrix,precision_score, recall_score, f1_score,classification_report\n",
    "\n",
    "#Supervised Learning\n",
    "from sklearn.linear_model import LogisticRegression\n",
    "\n",
    "\n",
    "# Unsupervised Learning\n",
    "\n",
    "# Visualization\n",
    "import matplotlib.pyplot as plt\n",
    "from pandas.plotting import scatter_matrix"
   ]
  },
  {
   "cell_type": "markdown",
   "metadata": {},
   "source": [
    "## Prepare dataset"
   ]
  },
  {
   "cell_type": "code",
   "execution_count": 23,
   "metadata": {},
   "outputs": [
    {
     "name": "stdout",
     "output_type": "stream",
     "text": [
      "<class 'pandas.core.frame.DataFrame'>\n",
      "RangeIndex: 23450 entries, 0 to 23449\n",
      "Data columns (total 19 columns):\n",
      " #   Column                 Non-Null Count  Dtype  \n",
      "---  ------                 --------------  -----  \n",
      " 0   Unnamed: 0             23450 non-null  int64  \n",
      " 1   case_id                23450 non-null  object \n",
      " 2   IPclass                23450 non-null  object \n",
      " 3   stat_flags_mean        23450 non-null  float64\n",
      " 4   stat_msg_size_mean     23450 non-null  float64\n",
      " 5   stat_flowDuration_tot  23450 non-null  float64\n",
      " 6   trace_is_fit_TR        23450 non-null  int64  \n",
      " 7   trace_fitness_TR       23450 non-null  float64\n",
      " 8   missing_tokens_TR      23450 non-null  int64  \n",
      " 9   consumed_tokens_TR     23450 non-null  int64  \n",
      " 10  remaining_tokens_TR    23450 non-null  int64  \n",
      " 11  produced_tokens_TR     23450 non-null  int64  \n",
      " 12  cost_AL                23450 non-null  int64  \n",
      " 13  visited_states_AL      23450 non-null  int64  \n",
      " 14  queued_states_AL       23450 non-null  int64  \n",
      " 15  traversed_arcs_AL      23450 non-null  int64  \n",
      " 16  lp_solved_AL           23450 non-null  int64  \n",
      " 17  fitness_AL             23450 non-null  float64\n",
      " 18  label                  23450 non-null  int64  \n",
      "dtypes: float64(5), int64(12), object(2)\n",
      "memory usage: 3.4+ MB\n"
     ]
    }
   ],
   "source": [
    "OPCUA_dataset = pd.read_csv('OPCUA_dataset_ML.csv')\n",
    "OPCUA_dataset.info()"
   ]
  },
  {
   "cell_type": "code",
   "execution_count": 24,
   "metadata": {},
   "outputs": [
    {
     "data": {
      "text/plain": [
       "3    23376\n",
       "2       49\n",
       "1       19\n",
       "4        6\n",
       "Name: label, dtype: int64"
      ]
     },
     "execution_count": 24,
     "metadata": {},
     "output_type": "execute_result"
    }
   ],
   "source": [
    "OPCUA_dataset['label'].value_counts()"
   ]
  },
  {
   "cell_type": "code",
   "execution_count": 25,
   "metadata": {},
   "outputs": [],
   "source": [
    "OPCUA_dataset.drop(OPCUA_dataset.loc[24:14921].index, inplace=True) \n",
    "OPCUA_dataset.drop(OPCUA_dataset.loc[14972:23379].index, inplace=True) "
   ]
  },
  {
   "cell_type": "code",
   "execution_count": 26,
   "metadata": {},
   "outputs": [
    {
     "data": {
      "text/plain": [
       "3    70\n",
       "2    49\n",
       "1    19\n",
       "4     6\n",
       "Name: label, dtype: int64"
      ]
     },
     "execution_count": 26,
     "metadata": {},
     "output_type": "execute_result"
    }
   ],
   "source": [
    "#LABEL 1 = Normal\n",
    "OPCUA_dataset['label'].value_counts()"
   ]
  },
  {
   "cell_type": "code",
   "execution_count": 27,
   "metadata": {},
   "outputs": [
    {
     "data": {
      "text/plain": [
       "(144, 19)"
      ]
     },
     "execution_count": 27,
     "metadata": {},
     "output_type": "execute_result"
    }
   ],
   "source": [
    "OPCUA_dataset.shape"
   ]
  },
  {
   "cell_type": "code",
   "execution_count": 28,
   "metadata": {},
   "outputs": [
    {
     "data": {
      "text/plain": [
       "<matplotlib.legend.Legend at 0x17d9d8040>"
      ]
     },
     "execution_count": 28,
     "metadata": {},
     "output_type": "execute_result"
    },
    {
     "data": {
      "image/png": "[encoded data removed]",
      "text/plain": [
       "<Figure size 432x288 with 1 Axes>"
      ]
     },
     "metadata": {
      "needs_background": "light"
     },
     "output_type": "display_data"
    }
   ],
   "source": [
    "from matplotlib.patches import Rectangle\n",
    "data = OPCUA_dataset['label']\n",
    "vc = OPCUA_dataset.label.value_counts().sort_index()\n",
    "# plot\n",
    "colors = ['blue', 'purple', 'gold', 'red']\n",
    "vc.plot(kind='bar', color=colors, width=1, rot=0, ec='k')    \n",
    "plt.xlabel('Type of OPCUA process')\n",
    "plt.ylabel('Number of attack')\n",
    "\n",
    "\n",
    "handles = [Rectangle((0, 0), 1, 1, color=c, ec=\"k\") for c in colors]\n",
    "labels = [\"Normal\", \"Impersonation\", \"DoS\",'MITM']\n",
    "plt.legend(handles, labels)   \n"
   ]
  },
  {
   "cell_type": "code",
   "execution_count": 29,
   "metadata": {},
   "outputs": [],
   "source": [
    "OPCUA_dataset_label = OPCUA_dataset['label']\n",
    "\n",
    "OPCUA_dataset.drop(columns=['Unnamed: 0',\n",
    "                            'IPclass',\n",
    "                            'trace_fitness_TR',\n",
    "                            'case_id',\n",
    "                            'trace_is_fit_TR',\n",
    "                            'remaining_tokens_TR',\n",
    "                            'produced_tokens_TR',\n",
    "                            'label'],\n",
    "                      inplace=True)"
   ]
  },
  {
   "cell_type": "markdown",
   "metadata": {},
   "source": [
    "### Train Test split"
   ]
  },
  {
   "cell_type": "code",
   "execution_count": 30,
   "metadata": {},
   "outputs": [],
   "source": [
    "X_train, X_test, y_train, y_test = train_test_split(OPCUA_dataset, OPCUA_dataset_label,\n",
    "                                                    test_size = 0.3,\n",
    "                                                    random_state = 0,\n",
    "                                                    stratify=OPCUA_dataset_label)"
   ]
  },
  {
   "cell_type": "markdown",
   "metadata": {},
   "source": [
    "### bringing features onto the same scale"
   ]
  },
  {
   "cell_type": "code",
   "execution_count": 31,
   "metadata": {},
   "outputs": [],
   "source": [
    "PMAlgo_outputs_pipeline = Pipeline([\n",
    "    ('scaler', StandardScaler())\n",
    "])\n",
    "stats_pipeline = Pipeline([\n",
    "    ('scaler', StandardScaler())\n",
    "])\n",
    "category_pipeline = Pipeline([\n",
    "    ('ordinal', OneHotEncoder())\n",
    "])"
   ]
  },
  {
   "cell_type": "code",
   "execution_count": 11,
   "metadata": {},
   "outputs": [
    {
     "data": {
      "text/plain": [
       "Index(['IPclass', 'stat_flags_mean', 'stat_msg_size_mean',\n",
       "       'stat_flowDuration_tot', 'missing_tokens_TR', 'consumed_tokens_TR',\n",
       "       'cost_AL', 'visited_states_AL', 'queued_states_AL', 'traversed_arcs_AL',\n",
       "       'lp_solved_AL', 'fitness_AL'],\n",
       "      dtype='object')"
      ]
     },
     "execution_count": 11,
     "metadata": {},
     "output_type": "execute_result"
    }
   ],
   "source": [
    "OPCUA_dataset.columns"
   ]
  },
  {
   "cell_type": "code",
   "execution_count": 32,
   "metadata": {},
   "outputs": [],
   "source": [
    "data_preprocessing = ColumnTransformer([\n",
    "    ('stat_flags_mean', stats_pipeline, ['stat_flags_mean']),\n",
    "    ('stat_msg_size_mean', stats_pipeline, ['stat_msg_size_mean']),\n",
    "    ('stat_flowDuration_tot', stats_pipeline, ['stat_flowDuration_tot']),\n",
    "    ('missing_tokens', PMAlgo_outputs_pipeline, ['missing_tokens_TR']),\n",
    "    ('consumed_tokens', PMAlgo_outputs_pipeline, ['consumed_tokens_TR']),\n",
    "    ('cost_AL', PMAlgo_outputs_pipeline, ['cost_AL']),\n",
    "    ('visited_states', PMAlgo_outputs_pipeline, ['visited_states_AL']),\n",
    "    ('queued_states', PMAlgo_outputs_pipeline, ['queued_states_AL']),\n",
    "    ('traversed_arcs', PMAlgo_outputs_pipeline, ['traversed_arcs_AL']),\n",
    "    ('lp_solved', PMAlgo_outputs_pipeline, ['lp_solved_AL']),\n",
    "    ('fitness_AL', PMAlgo_outputs_pipeline, ['fitness_AL'])\n",
    "],\n",
    "    remainder = 'passthrough'\n",
    ")"
   ]
  },
  {
   "cell_type": "code",
   "execution_count": 33,
   "metadata": {},
   "outputs": [],
   "source": [
    "X_train_std = data_preprocessing.fit_transform(X_train)\n",
    "X_test_std = data_preprocessing.transform(X_test)"
   ]
  },
  {
   "cell_type": "code",
   "execution_count": 34,
   "metadata": {},
   "outputs": [
    {
     "data": {
      "text/plain": [
       "(100, 11)"
      ]
     },
     "execution_count": 34,
     "metadata": {},
     "output_type": "execute_result"
    }
   ],
   "source": [
    "X_train_std.shape"
   ]
  },
  {
   "cell_type": "code",
   "execution_count": 35,
   "metadata": {},
   "outputs": [
    {
     "data": {
      "text/plain": [
       "(44, 11)"
      ]
     },
     "execution_count": 35,
     "metadata": {},
     "output_type": "execute_result"
    }
   ],
   "source": [
    "X_test_std.shape"
   ]
  },
  {
   "cell_type": "markdown",
   "metadata": {},
   "source": [
    "## CHECK FEATURES IMPORTANCE (with ML Classifiers)"
   ]
  },
  {
   "cell_type": "markdown",
   "metadata": {},
   "source": [
    "### check with LOGISTIC REGRESSION"
   ]
  },
  {
   "cell_type": "code",
   "execution_count": 36,
   "metadata": {},
   "outputs": [
    {
     "name": "stdout",
     "output_type": "stream",
     "text": [
      "Training accuracy: 1.0\n",
      "Test accuracy: 1.0\n"
     ]
    }
   ],
   "source": [
    "lr = LogisticRegression(penalty='l1', C=1.0, solver='liblinear', multi_class='ovr')\n",
    "# Note that C=1.0 is the default. You can increase\n",
    "# or decrease it to make the regulariztion effect\n",
    "# stronger or weaker, respectively.\n",
    "lr.fit(X_train_std, y_train)\n",
    "print('Training accuracy:', lr.score(X_train_std, y_train))\n",
    "print('Test accuracy:', lr.score(X_test_std, y_test))"
   ]
  },
  {
   "cell_type": "code",
   "execution_count": 37,
   "metadata": {},
   "outputs": [
    {
     "data": {
      "text/plain": [
       "array([-3.17719491, -1.09674057,  0.        , -4.09773779])"
      ]
     },
     "execution_count": 37,
     "metadata": {},
     "output_type": "execute_result"
    }
   ],
   "source": [
    "lr.intercept_"
   ]
  },
  {
   "cell_type": "code",
   "execution_count": 38,
   "metadata": {},
   "outputs": [],
   "source": [
    "from sklearn.base import clone\n",
    "from itertools import combinations\n",
    "import numpy as np\n",
    "from sklearn.metrics import accuracy_score\n",
    "from sklearn.model_selection import train_test_split\n",
    "\n",
    "\n",
    "class SBS():\n",
    "    def __init__(self, estimator, k_features, scoring=accuracy_score,\n",
    "                 test_size=0.25, random_state=1):\n",
    "        self.scoring = scoring\n",
    "        self.estimator = clone(estimator)\n",
    "        self.k_features = k_features\n",
    "        self.test_size = test_size\n",
    "        self.random_state = random_state\n",
    "\n",
    "    def fit(self, X, y):\n",
    "        X_train, X_test, y_train, y_test = \\\n",
    "            train_test_split(X, y, test_size=self.test_size,\n",
    "                             random_state=self.random_state)\n",
    "\n",
    "        dim = X_train.shape[1]\n",
    "        self.indices_ = tuple(range(dim))\n",
    "        self.subsets_ = [self.indices_]\n",
    "        score = self._calc_score(X_train, y_train, \n",
    "                                 X_test, y_test, self.indices_)\n",
    "        self.scores_ = [score]\n",
    "\n",
    "        while dim > self.k_features:\n",
    "            scores = []\n",
    "            subsets = []\n",
    "\n",
    "            for p in combinations(self.indices_, r=dim - 1):\n",
    "                score = self._calc_score(X_train, y_train, \n",
    "                                         X_test, y_test, p)\n",
    "                scores.append(score)\n",
    "                subsets.append(p)\n",
    "\n",
    "            best = np.argmax(scores)\n",
    "            self.indices_ = subsets[best]\n",
    "            self.subsets_.append(self.indices_)\n",
    "            dim -= 1\n",
    "\n",
    "            self.scores_.append(scores[best])\n",
    "        self.k_score_ = self.scores_[-1]\n",
    "\n",
    "        return self\n",
    "\n",
    "    def transform(self, X):\n",
    "        return X[:, self.indices_]\n",
    "\n",
    "    def _calc_score(self, X_train, y_train, X_test, y_test, indices):\n",
    "        self.estimator.fit(X_train[:, indices], y_train)\n",
    "        y_pred = self.estimator.predict(X_test[:, indices])\n",
    "        score = self.scoring(y_test, y_pred)\n",
    "        return score"
   ]
  },
  {
   "cell_type": "code",
   "execution_count": 39,
   "metadata": {},
   "outputs": [
    {
     "data": {
      "image/png": "[encoded data removed]",
      "text/plain": [
       "<Figure size 432x288 with 1 Axes>"
      ]
     },
     "metadata": {
      "needs_background": "light"
     },
     "output_type": "display_data"
    }
   ],
   "source": [
    "import matplotlib.pyplot as plt\n",
    "from sklearn.neighbors import KNeighborsClassifier\n",
    "\n",
    "knn = KNeighborsClassifier(n_neighbors=5)\n",
    "\n",
    "# selecting features\n",
    "sbs = SBS(knn, k_features=1)\n",
    "sbs.fit(X_train_std, y_train)\n",
    "\n",
    "# plotting performance of feature subsets\n",
    "k_feat = [len(k) for k in sbs.subsets_]\n",
    "\n",
    "plt.plot(k_feat, sbs.scores_, marker='o')\n",
    "plt.ylim([0.7, 1.02])\n",
    "plt.ylabel('Accuracy')\n",
    "plt.xlabel('Number of features')\n",
    "plt.grid()\n",
    "plt.tight_layout()\n",
    "# plt.savefig('images/04_08.png', dpi=300)\n",
    "plt.show()"
   ]
  },
  {
   "cell_type": "code",
   "execution_count": 46,
   "metadata": {},
   "outputs": [
    {
     "name": "stdout",
     "output_type": "stream",
     "text": [
      "Index(['stat_flags_mean', 'stat_msg_size_mean', 'stat_flowDuration_tot',\n",
      "       'missing_tokens_TR'],\n",
      "      dtype='object')\n"
     ]
    }
   ],
   "source": [
    "k3 = list(sbs.subsets_[7])\n",
    "print(OPCUA_dataset.columns[0:][k3])"
   ]
  },
  {
   "cell_type": "code",
   "execution_count": 47,
   "metadata": {},
   "outputs": [
    {
     "name": "stdout",
     "output_type": "stream",
     "text": [
      "Training accuracy: 1.0\n",
      "Test accuracy: 0.9772727272727273\n"
     ]
    }
   ],
   "source": [
    "knn.fit(X_train_std, y_train)\n",
    "print('Training accuracy:', knn.score(X_train_std, y_train))\n",
    "print('Test accuracy:', knn.score(X_test_std, y_test))"
   ]
  },
  {
   "cell_type": "code",
   "execution_count": 48,
   "metadata": {},
   "outputs": [
    {
     "name": "stdout",
     "output_type": "stream",
     "text": [
      "Training accuracy: 0.99\n",
      "Test accuracy: 0.9545454545454546\n"
     ]
    }
   ],
   "source": [
    "knn.fit(X_train_std[:, k3], y_train)\n",
    "print('Training accuracy:', knn.score(X_train_std[:, k3], y_train))\n",
    "print('Test accuracy:', knn.score(X_test_std[:, k3], y_test))"
   ]
  },
  {
   "cell_type": "markdown",
   "metadata": {},
   "source": [
    "### check with RANDOM FOREST"
   ]
  },
  {
   "cell_type": "code",
   "execution_count": 49,
   "metadata": {},
   "outputs": [],
   "source": [
    "X_train_RF, X_test_RF, y_train_RF, y_test_RF = train_test_split(OPCUA_dataset, OPCUA_dataset_label,\n",
    "                                                    test_size = 0.3,\n",
    "                                                    random_state = 1,\n",
    "                                                    stratify=OPCUA_dataset_label)"
   ]
  },
  {
   "cell_type": "code",
   "execution_count": 50,
   "metadata": {},
   "outputs": [],
   "source": [
    "X_train_RF = data_preprocessing.fit_transform(X_train_RF)\n",
    "X_test_RF= data_preprocessing.transform(X_test_RF)"
   ]
  },
  {
   "cell_type": "code",
   "execution_count": 51,
   "metadata": {},
   "outputs": [
    {
     "data": {
      "text/plain": [
       "(100, 11)"
      ]
     },
     "execution_count": 51,
     "metadata": {},
     "output_type": "execute_result"
    }
   ],
   "source": [
    "X_train_RF.shape"
   ]
  },
  {
   "cell_type": "code",
   "execution_count": 52,
   "metadata": {},
   "outputs": [
    {
     "data": {
      "text/plain": [
       "array([-0.45256964,  0.85286645, -0.31256391,  0.29488391, -0.3119203 ,\n",
       "        0.34681046, -0.31178576, -0.31182553, -0.31182709, -0.2036872 ,\n",
       "       -0.35156139])"
      ]
     },
     "execution_count": 52,
     "metadata": {},
     "output_type": "execute_result"
    }
   ],
   "source": [
    "X_train_RF[1,:]"
   ]
  },
  {
   "cell_type": "code",
   "execution_count": 54,
   "metadata": {},
   "outputs": [
    {
     "data": {
      "text/plain": [
       "Index(['stat_flags_mean', 'stat_msg_size_mean', 'stat_flowDuration_tot',\n",
       "       'missing_tokens_TR', 'consumed_tokens_TR', 'cost_AL',\n",
       "       'visited_states_AL', 'queued_states_AL', 'traversed_arcs_AL',\n",
       "       'lp_solved_AL', 'fitness_AL'],\n",
       "      dtype='object')"
      ]
     },
     "execution_count": 54,
     "metadata": {},
     "output_type": "execute_result"
    }
   ],
   "source": [
    "feat_labels = OPCUA_dataset.columns[0:16]\n",
    "feat_labels"
   ]
  },
  {
   "cell_type": "code",
   "execution_count": 56,
   "metadata": {},
   "outputs": [
    {
     "name": "stdout",
     "output_type": "stream",
     "text": [
      " 1) stat_msg_size_mean             0.681780\n",
      " 2) stat_flags_mean                0.144910\n",
      " 3) traversed_arcs_AL              0.024663\n",
      " 4) queued_states_AL               0.024392\n",
      " 5) visited_states_AL              0.022919\n",
      " 6) stat_flowDuration_tot          0.022517\n",
      " 7) fitness_AL                     0.022199\n",
      " 8) cost_AL                        0.022119\n",
      " 9) consumed_tokens_TR             0.017108\n",
      "10) lp_solved_AL                   0.014626\n",
      "11) missing_tokens_TR              0.002767\n"
     ]
    },
    {
     "data": {
      "image/png": "[encoded data removed]",
      "text/plain": [
       "<Figure size 432x288 with 1 Axes>"
      ]
     },
     "metadata": {
      "needs_background": "light"
     },
     "output_type": "display_data"
    }
   ],
   "source": [
    "from sklearn.ensemble import RandomForestClassifier\n",
    "\n",
    "feat_labels = OPCUA_dataset.columns[0:]\n",
    "\n",
    "forest = RandomForestClassifier(n_estimators=500,\n",
    "                                random_state=1)\n",
    "\n",
    "forest.fit(X_train_RF, y_train_RF)\n",
    "importances = forest.feature_importances_\n",
    "\n",
    "indices = np.argsort(importances)[::-1]\n",
    "\n",
    "for f in range(X_train_RF.shape[1]):\n",
    "    print(\"%2d) %-*s %f\" % (f + 1, 30, \n",
    "                            feat_labels[indices[f]], \n",
    "                            importances[indices[f]]))\n",
    "\n",
    "plt.title('Feature Importance')\n",
    "plt.bar(range(X_train_RF.shape[1]), \n",
    "        importances[indices],\n",
    "        align='center')\n",
    "\n",
    "plt.xticks(range(X_train_RF.shape[1]), \n",
    "           feat_labels[indices], rotation=90)\n",
    "plt.xlim([-1, X_train_RF.shape[1]])\n",
    "plt.tight_layout()\n",
    "#plt.savefig('images/04_09.png', dpi=300)\n",
    "plt.show()"
   ]
  },
  {
   "cell_type": "markdown",
   "metadata": {},
   "source": [
    "### VERIFY LINEAR CLASSIFICATION"
   ]
  },
  {
   "cell_type": "code",
   "execution_count": 61,
   "metadata": {},
   "outputs": [
    {
     "name": "stderr",
     "output_type": "stream",
     "text": [
      "/Users/pmarincola/opt/anaconda3/envs/pm4pyEnv1/lib/python3.9/site-packages/pandas/core/frame.py:4901: SettingWithCopyWarning: \n",
      "A value is trying to be set on a copy of a slice from a DataFrame\n",
      "\n",
      "See the caveats in the documentation: https://pandas.pydata.org/pandas-docs/stable/user_guide/indexing.html#returning-a-view-versus-a-copy\n",
      "  return super().drop(\n"
     ]
    }
   ],
   "source": [
    "OPCUA_dataset = pd.read_csv('OPCUA_dataset_ML.csv')\n",
    "OPCUA_dataset_label = OPCUA_dataset['label']\n",
    "normal_or_DoS = (OPCUA_dataset_label == 1) | (OPCUA_dataset_label == 3)\n",
    "X_norm_dos = OPCUA_dataset[normal_or_DoS]\n",
    "y_norm_dos = OPCUA_dataset_label[normal_or_DoS]\n",
    "X_norm_dos.drop(columns=['Unnamed: 0',\n",
    "                            'IPclass',\n",
    "                            'trace_fitness_TR',\n",
    "                            'case_id',\n",
    "                            'trace_is_fit_TR',\n",
    "                            'remaining_tokens_TR',\n",
    "                            'produced_tokens_TR'],\n",
    "                      inplace=True)"
   ]
  },
  {
   "cell_type": "code",
   "execution_count": 64,
   "metadata": {},
   "outputs": [
    {
     "data": {
      "text/html": [
       "<div>\n",
       "<style scoped>\n",
       "    .dataframe tbody tr th:only-of-type {\n",
       "        vertical-align: middle;\n",
       "    }\n",
       "\n",
       "    .dataframe tbody tr th {\n",
       "        vertical-align: top;\n",
       "    }\n",
       "\n",
       "    .dataframe thead th {\n",
       "        text-align: right;\n",
       "    }\n",
       "</style>\n",
       "<table border=\"1\" class=\"dataframe\">\n",
       "  <thead>\n",
       "    <tr style=\"text-align: right;\">\n",
       "      <th></th>\n",
       "      <th>stat_flags_mean</th>\n",
       "      <th>stat_msg_size_mean</th>\n",
       "      <th>stat_flowDuration_tot</th>\n",
       "      <th>missing_tokens_TR</th>\n",
       "      <th>consumed_tokens_TR</th>\n",
       "      <th>cost_AL</th>\n",
       "      <th>visited_states_AL</th>\n",
       "      <th>queued_states_AL</th>\n",
       "      <th>traversed_arcs_AL</th>\n",
       "      <th>lp_solved_AL</th>\n",
       "      <th>fitness_AL</th>\n",
       "      <th>label</th>\n",
       "    </tr>\n",
       "  </thead>\n",
       "  <tbody>\n",
       "    <tr>\n",
       "      <th>0</th>\n",
       "      <td>1.0</td>\n",
       "      <td>226.746978</td>\n",
       "      <td>29.542159</td>\n",
       "      <td>0</td>\n",
       "      <td>6947</td>\n",
       "      <td>3472</td>\n",
       "      <td>13878</td>\n",
       "      <td>31231</td>\n",
       "      <td>34698</td>\n",
       "      <td>1</td>\n",
       "      <td>1.0</td>\n",
       "      <td>1</td>\n",
       "    </tr>\n",
       "    <tr>\n",
       "      <th>1</th>\n",
       "      <td>1.0</td>\n",
       "      <td>226.688742</td>\n",
       "      <td>29.563349</td>\n",
       "      <td>0</td>\n",
       "      <td>6945</td>\n",
       "      <td>3471</td>\n",
       "      <td>13874</td>\n",
       "      <td>31222</td>\n",
       "      <td>34688</td>\n",
       "      <td>1</td>\n",
       "      <td>1.0</td>\n",
       "      <td>1</td>\n",
       "    </tr>\n",
       "    <tr>\n",
       "      <th>2</th>\n",
       "      <td>1.0</td>\n",
       "      <td>226.682193</td>\n",
       "      <td>30.341139</td>\n",
       "      <td>0</td>\n",
       "      <td>7041</td>\n",
       "      <td>3519</td>\n",
       "      <td>14066</td>\n",
       "      <td>31654</td>\n",
       "      <td>35168</td>\n",
       "      <td>2</td>\n",
       "      <td>1.0</td>\n",
       "      <td>1</td>\n",
       "    </tr>\n",
       "    <tr>\n",
       "      <th>5</th>\n",
       "      <td>1.0</td>\n",
       "      <td>226.742119</td>\n",
       "      <td>30.290408</td>\n",
       "      <td>0</td>\n",
       "      <td>7041</td>\n",
       "      <td>3519</td>\n",
       "      <td>14066</td>\n",
       "      <td>31654</td>\n",
       "      <td>35168</td>\n",
       "      <td>2</td>\n",
       "      <td>1.0</td>\n",
       "      <td>1</td>\n",
       "    </tr>\n",
       "    <tr>\n",
       "      <th>9</th>\n",
       "      <td>1.0</td>\n",
       "      <td>226.865031</td>\n",
       "      <td>15.694721</td>\n",
       "      <td>0</td>\n",
       "      <td>3585</td>\n",
       "      <td>1791</td>\n",
       "      <td>7154</td>\n",
       "      <td>16102</td>\n",
       "      <td>17888</td>\n",
       "      <td>1</td>\n",
       "      <td>1.0</td>\n",
       "      <td>1</td>\n",
       "    </tr>\n",
       "    <tr>\n",
       "      <th>10</th>\n",
       "      <td>1.0</td>\n",
       "      <td>226.894590</td>\n",
       "      <td>15.325677</td>\n",
       "      <td>0</td>\n",
       "      <td>3585</td>\n",
       "      <td>1791</td>\n",
       "      <td>7154</td>\n",
       "      <td>16102</td>\n",
       "      <td>17888</td>\n",
       "      <td>2</td>\n",
       "      <td>1.0</td>\n",
       "      <td>1</td>\n",
       "    </tr>\n",
       "    <tr>\n",
       "      <th>11</th>\n",
       "      <td>1.0</td>\n",
       "      <td>226.883695</td>\n",
       "      <td>15.829652</td>\n",
       "      <td>0</td>\n",
       "      <td>3593</td>\n",
       "      <td>1795</td>\n",
       "      <td>7170</td>\n",
       "      <td>16138</td>\n",
       "      <td>17928</td>\n",
       "      <td>2</td>\n",
       "      <td>1.0</td>\n",
       "      <td>1</td>\n",
       "    </tr>\n",
       "    <tr>\n",
       "      <th>12</th>\n",
       "      <td>1.0</td>\n",
       "      <td>226.894268</td>\n",
       "      <td>15.524030</td>\n",
       "      <td>0</td>\n",
       "      <td>3593</td>\n",
       "      <td>1795</td>\n",
       "      <td>7170</td>\n",
       "      <td>16138</td>\n",
       "      <td>17928</td>\n",
       "      <td>2</td>\n",
       "      <td>1.0</td>\n",
       "      <td>1</td>\n",
       "    </tr>\n",
       "    <tr>\n",
       "      <th>13</th>\n",
       "      <td>1.0</td>\n",
       "      <td>226.880622</td>\n",
       "      <td>15.436899</td>\n",
       "      <td>0</td>\n",
       "      <td>3601</td>\n",
       "      <td>1799</td>\n",
       "      <td>7186</td>\n",
       "      <td>16174</td>\n",
       "      <td>17968</td>\n",
       "      <td>1</td>\n",
       "      <td>1.0</td>\n",
       "      <td>1</td>\n",
       "    </tr>\n",
       "    <tr>\n",
       "      <th>14</th>\n",
       "      <td>1.0</td>\n",
       "      <td>226.847307</td>\n",
       "      <td>15.594003</td>\n",
       "      <td>0</td>\n",
       "      <td>3601</td>\n",
       "      <td>1799</td>\n",
       "      <td>7186</td>\n",
       "      <td>16174</td>\n",
       "      <td>17968</td>\n",
       "      <td>1</td>\n",
       "      <td>1.0</td>\n",
       "      <td>1</td>\n",
       "    </tr>\n",
       "    <tr>\n",
       "      <th>16</th>\n",
       "      <td>1.0</td>\n",
       "      <td>137.000000</td>\n",
       "      <td>0.000000</td>\n",
       "      <td>1</td>\n",
       "      <td>1</td>\n",
       "      <td>60003</td>\n",
       "      <td>9</td>\n",
       "      <td>10</td>\n",
       "      <td>13</td>\n",
       "      <td>1</td>\n",
       "      <td>0.0</td>\n",
       "      <td>1</td>\n",
       "    </tr>\n",
       "    <tr>\n",
       "      <th>17</th>\n",
       "      <td>1.0</td>\n",
       "      <td>137.000000</td>\n",
       "      <td>0.000000</td>\n",
       "      <td>1</td>\n",
       "      <td>1</td>\n",
       "      <td>60003</td>\n",
       "      <td>9</td>\n",
       "      <td>10</td>\n",
       "      <td>13</td>\n",
       "      <td>1</td>\n",
       "      <td>0.0</td>\n",
       "      <td>1</td>\n",
       "    </tr>\n",
       "    <tr>\n",
       "      <th>18</th>\n",
       "      <td>1.0</td>\n",
       "      <td>137.000000</td>\n",
       "      <td>0.000000</td>\n",
       "      <td>1</td>\n",
       "      <td>1</td>\n",
       "      <td>60003</td>\n",
       "      <td>9</td>\n",
       "      <td>10</td>\n",
       "      <td>13</td>\n",
       "      <td>1</td>\n",
       "      <td>0.0</td>\n",
       "      <td>1</td>\n",
       "    </tr>\n",
       "    <tr>\n",
       "      <th>19</th>\n",
       "      <td>1.0</td>\n",
       "      <td>137.000000</td>\n",
       "      <td>0.000000</td>\n",
       "      <td>1</td>\n",
       "      <td>1</td>\n",
       "      <td>60003</td>\n",
       "      <td>9</td>\n",
       "      <td>10</td>\n",
       "      <td>13</td>\n",
       "      <td>1</td>\n",
       "      <td>0.0</td>\n",
       "      <td>1</td>\n",
       "    </tr>\n",
       "    <tr>\n",
       "      <th>20</th>\n",
       "      <td>1.0</td>\n",
       "      <td>137.000000</td>\n",
       "      <td>0.000000</td>\n",
       "      <td>1</td>\n",
       "      <td>1</td>\n",
       "      <td>60003</td>\n",
       "      <td>9</td>\n",
       "      <td>10</td>\n",
       "      <td>13</td>\n",
       "      <td>1</td>\n",
       "      <td>0.0</td>\n",
       "      <td>1</td>\n",
       "    </tr>\n",
       "    <tr>\n",
       "      <th>21</th>\n",
       "      <td>1.0</td>\n",
       "      <td>137.000000</td>\n",
       "      <td>0.000000</td>\n",
       "      <td>1</td>\n",
       "      <td>1</td>\n",
       "      <td>60003</td>\n",
       "      <td>9</td>\n",
       "      <td>10</td>\n",
       "      <td>13</td>\n",
       "      <td>1</td>\n",
       "      <td>0.0</td>\n",
       "      <td>1</td>\n",
       "    </tr>\n",
       "    <tr>\n",
       "      <th>22</th>\n",
       "      <td>1.0</td>\n",
       "      <td>137.000000</td>\n",
       "      <td>0.000000</td>\n",
       "      <td>1</td>\n",
       "      <td>1</td>\n",
       "      <td>60003</td>\n",
       "      <td>9</td>\n",
       "      <td>10</td>\n",
       "      <td>13</td>\n",
       "      <td>1</td>\n",
       "      <td>0.0</td>\n",
       "      <td>1</td>\n",
       "    </tr>\n",
       "    <tr>\n",
       "      <th>23</th>\n",
       "      <td>1.0</td>\n",
       "      <td>137.000000</td>\n",
       "      <td>0.000000</td>\n",
       "      <td>1</td>\n",
       "      <td>1</td>\n",
       "      <td>60003</td>\n",
       "      <td>9</td>\n",
       "      <td>10</td>\n",
       "      <td>13</td>\n",
       "      <td>1</td>\n",
       "      <td>0.0</td>\n",
       "      <td>1</td>\n",
       "    </tr>\n",
       "    <tr>\n",
       "      <th>24</th>\n",
       "      <td>0.0</td>\n",
       "      <td>32.000000</td>\n",
       "      <td>0.000000</td>\n",
       "      <td>1</td>\n",
       "      <td>1</td>\n",
       "      <td>60003</td>\n",
       "      <td>9</td>\n",
       "      <td>10</td>\n",
       "      <td>13</td>\n",
       "      <td>1</td>\n",
       "      <td>0.0</td>\n",
       "      <td>3</td>\n",
       "    </tr>\n",
       "    <tr>\n",
       "      <th>25</th>\n",
       "      <td>0.0</td>\n",
       "      <td>32.000000</td>\n",
       "      <td>0.000000</td>\n",
       "      <td>1</td>\n",
       "      <td>1</td>\n",
       "      <td>60003</td>\n",
       "      <td>9</td>\n",
       "      <td>10</td>\n",
       "      <td>13</td>\n",
       "      <td>1</td>\n",
       "      <td>0.0</td>\n",
       "      <td>3</td>\n",
       "    </tr>\n",
       "  </tbody>\n",
       "</table>\n",
       "</div>"
      ],
      "text/plain": [
       "    stat_flags_mean  stat_msg_size_mean  stat_flowDuration_tot  \\\n",
       "0               1.0          226.746978              29.542159   \n",
       "1               1.0          226.688742              29.563349   \n",
       "2               1.0          226.682193              30.341139   \n",
       "5               1.0          226.742119              30.290408   \n",
       "9               1.0          226.865031              15.694721   \n",
       "10              1.0          226.894590              15.325677   \n",
       "11              1.0          226.883695              15.829652   \n",
       "12              1.0          226.894268              15.524030   \n",
       "13              1.0          226.880622              15.436899   \n",
       "14              1.0          226.847307              15.594003   \n",
       "16              1.0          137.000000               0.000000   \n",
       "17              1.0          137.000000               0.000000   \n",
       "18              1.0          137.000000               0.000000   \n",
       "19              1.0          137.000000               0.000000   \n",
       "20              1.0          137.000000               0.000000   \n",
       "21              1.0          137.000000               0.000000   \n",
       "22              1.0          137.000000               0.000000   \n",
       "23              1.0          137.000000               0.000000   \n",
       "24              0.0           32.000000               0.000000   \n",
       "25              0.0           32.000000               0.000000   \n",
       "\n",
       "    missing_tokens_TR  consumed_tokens_TR  cost_AL  visited_states_AL  \\\n",
       "0                   0                6947     3472              13878   \n",
       "1                   0                6945     3471              13874   \n",
       "2                   0                7041     3519              14066   \n",
       "5                   0                7041     3519              14066   \n",
       "9                   0                3585     1791               7154   \n",
       "10                  0                3585     1791               7154   \n",
       "11                  0                3593     1795               7170   \n",
       "12                  0                3593     1795               7170   \n",
       "13                  0                3601     1799               7186   \n",
       "14                  0                3601     1799               7186   \n",
       "16                  1                   1    60003                  9   \n",
       "17                  1                   1    60003                  9   \n",
       "18                  1                   1    60003                  9   \n",
       "19                  1                   1    60003                  9   \n",
       "20                  1                   1    60003                  9   \n",
       "21                  1                   1    60003                  9   \n",
       "22                  1                   1    60003                  9   \n",
       "23                  1                   1    60003                  9   \n",
       "24                  1                   1    60003                  9   \n",
       "25                  1                   1    60003                  9   \n",
       "\n",
       "    queued_states_AL  traversed_arcs_AL  lp_solved_AL  fitness_AL  label  \n",
       "0              31231              34698             1         1.0      1  \n",
       "1              31222              34688             1         1.0      1  \n",
       "2              31654              35168             2         1.0      1  \n",
       "5              31654              35168             2         1.0      1  \n",
       "9              16102              17888             1         1.0      1  \n",
       "10             16102              17888             2         1.0      1  \n",
       "11             16138              17928             2         1.0      1  \n",
       "12             16138              17928             2         1.0      1  \n",
       "13             16174              17968             1         1.0      1  \n",
       "14             16174              17968             1         1.0      1  \n",
       "16                10                 13             1         0.0      1  \n",
       "17                10                 13             1         0.0      1  \n",
       "18                10                 13             1         0.0      1  \n",
       "19                10                 13             1         0.0      1  \n",
       "20                10                 13             1         0.0      1  \n",
       "21                10                 13             1         0.0      1  \n",
       "22                10                 13             1         0.0      1  \n",
       "23                10                 13             1         0.0      1  \n",
       "24                10                 13             1         0.0      3  \n",
       "25                10                 13             1         0.0      3  "
      ]
     },
     "execution_count": 64,
     "metadata": {},
     "output_type": "execute_result"
    }
   ],
   "source": [
    "X_norm_dos.head(20)"
   ]
  },
  {
   "cell_type": "code",
   "execution_count": 63,
   "metadata": {},
   "outputs": [
    {
     "name": "stdout",
     "output_type": "stream",
     "text": [
      "==================================================\n",
      "Plotting the OPCUA data Normal vs DoS\n",
      "--------------------------------------------------\n"
     ]
    },
    {
     "data": {
      "image/png": "[encoded data removed]",
      "text/plain": [
       "<Figure size 432x288 with 1 Axes>"
      ]
     },
     "metadata": {
      "needs_background": "light"
     },
     "output_type": "display_data"
    }
   ],
   "source": [
    "print(50 * '=')\n",
    "print('Plotting the OPCUA data Normal vs DoS')\n",
    "print(50 * '-')\n",
    "\n",
    "# select values\n",
    "y = OPCUA_dataset.iloc[0:20, 11].values\n",
    "y = np.where(y == 1, -1, 1)\n",
    "\n",
    "# extract 2 main features\n",
    "X = X_norm_dos.iloc[0:20, [1, 8]].values\n",
    "\n",
    "# plot data\n",
    "plt.scatter(X[:10, 0], X[:10, 1],\n",
    "            color='blue', marker='o',s=100, label='Normal')\n",
    "plt.scatter(X[10:20, 0], X[10:20, 1],\n",
    "            color='gold', marker='o',s=100, label='DoS')\n",
    "\n",
    "plt.xlabel('stat_msg_size_mean')\n",
    "plt.ylabel('traversed_arcs_AL')\n",
    "plt.legend(loc='upper right')\n",
    "\n",
    "# plt.tight_layout()\n",
    "# plt.savefig('./images/02_06.png', dpi=300)\n",
    "plt.show()"
   ]
  },
  {
   "cell_type": "code",
   "execution_count": 65,
   "metadata": {},
   "outputs": [
    {
     "name": "stderr",
     "output_type": "stream",
     "text": [
      "/Users/pmarincola/opt/anaconda3/envs/pm4pyEnv1/lib/python3.9/site-packages/pandas/core/frame.py:4901: SettingWithCopyWarning: \n",
      "A value is trying to be set on a copy of a slice from a DataFrame\n",
      "\n",
      "See the caveats in the documentation: https://pandas.pydata.org/pandas-docs/stable/user_guide/indexing.html#returning-a-view-versus-a-copy\n",
      "  return super().drop(\n"
     ]
    }
   ],
   "source": [
    "normal_or_MITM = (OPCUA_dataset_label == 1) | (OPCUA_dataset_label == 4)\n",
    "X_norm_MITM = OPCUA_dataset[normal_or_MITM]\n",
    "y_norm_MITM = OPCUA_dataset_label[normal_or_MITM]\n",
    "X_norm_MITM.drop(columns=['Unnamed: 0',\n",
    "                            'IPclass',\n",
    "                            'trace_fitness_TR',\n",
    "                            'case_id',\n",
    "                            'trace_is_fit_TR',\n",
    "                            'remaining_tokens_TR',\n",
    "                            'produced_tokens_TR'],\n",
    "                      inplace=True)\n"
   ]
  },
  {
   "cell_type": "code",
   "execution_count": 66,
   "metadata": {},
   "outputs": [
    {
     "data": {
      "text/html": [
       "<div>\n",
       "<style scoped>\n",
       "    .dataframe tbody tr th:only-of-type {\n",
       "        vertical-align: middle;\n",
       "    }\n",
       "\n",
       "    .dataframe tbody tr th {\n",
       "        vertical-align: top;\n",
       "    }\n",
       "\n",
       "    .dataframe thead th {\n",
       "        text-align: right;\n",
       "    }\n",
       "</style>\n",
       "<table border=\"1\" class=\"dataframe\">\n",
       "  <thead>\n",
       "    <tr style=\"text-align: right;\">\n",
       "      <th></th>\n",
       "      <th>stat_flags_mean</th>\n",
       "      <th>stat_msg_size_mean</th>\n",
       "      <th>stat_flowDuration_tot</th>\n",
       "      <th>missing_tokens_TR</th>\n",
       "      <th>consumed_tokens_TR</th>\n",
       "      <th>cost_AL</th>\n",
       "      <th>visited_states_AL</th>\n",
       "      <th>queued_states_AL</th>\n",
       "      <th>traversed_arcs_AL</th>\n",
       "      <th>lp_solved_AL</th>\n",
       "      <th>fitness_AL</th>\n",
       "      <th>label</th>\n",
       "    </tr>\n",
       "  </thead>\n",
       "  <tbody>\n",
       "    <tr>\n",
       "      <th>0</th>\n",
       "      <td>1.0</td>\n",
       "      <td>226.746978</td>\n",
       "      <td>29.542159</td>\n",
       "      <td>0</td>\n",
       "      <td>6947</td>\n",
       "      <td>3472</td>\n",
       "      <td>13878</td>\n",
       "      <td>31231</td>\n",
       "      <td>34698</td>\n",
       "      <td>1</td>\n",
       "      <td>1.000000</td>\n",
       "      <td>1</td>\n",
       "    </tr>\n",
       "    <tr>\n",
       "      <th>1</th>\n",
       "      <td>1.0</td>\n",
       "      <td>226.688742</td>\n",
       "      <td>29.563349</td>\n",
       "      <td>0</td>\n",
       "      <td>6945</td>\n",
       "      <td>3471</td>\n",
       "      <td>13874</td>\n",
       "      <td>31222</td>\n",
       "      <td>34688</td>\n",
       "      <td>1</td>\n",
       "      <td>1.000000</td>\n",
       "      <td>1</td>\n",
       "    </tr>\n",
       "    <tr>\n",
       "      <th>2</th>\n",
       "      <td>1.0</td>\n",
       "      <td>226.682193</td>\n",
       "      <td>30.341139</td>\n",
       "      <td>0</td>\n",
       "      <td>7041</td>\n",
       "      <td>3519</td>\n",
       "      <td>14066</td>\n",
       "      <td>31654</td>\n",
       "      <td>35168</td>\n",
       "      <td>2</td>\n",
       "      <td>1.000000</td>\n",
       "      <td>1</td>\n",
       "    </tr>\n",
       "    <tr>\n",
       "      <th>3</th>\n",
       "      <td>1.0</td>\n",
       "      <td>226.999071</td>\n",
       "      <td>9.289258</td>\n",
       "      <td>1</td>\n",
       "      <td>2147</td>\n",
       "      <td>21072</td>\n",
       "      <td>4285</td>\n",
       "      <td>9646</td>\n",
       "      <td>10716</td>\n",
       "      <td>3829</td>\n",
       "      <td>0.998150</td>\n",
       "      <td>4</td>\n",
       "    </tr>\n",
       "    <tr>\n",
       "      <th>4</th>\n",
       "      <td>1.0</td>\n",
       "      <td>227.885223</td>\n",
       "      <td>735.826626</td>\n",
       "      <td>3</td>\n",
       "      <td>4291</td>\n",
       "      <td>82142</td>\n",
       "      <td>8566</td>\n",
       "      <td>19274</td>\n",
       "      <td>21425</td>\n",
       "      <td>8591</td>\n",
       "      <td>0.996291</td>\n",
       "      <td>4</td>\n",
       "    </tr>\n",
       "    <tr>\n",
       "      <th>5</th>\n",
       "      <td>1.0</td>\n",
       "      <td>226.742119</td>\n",
       "      <td>30.290408</td>\n",
       "      <td>0</td>\n",
       "      <td>7041</td>\n",
       "      <td>3519</td>\n",
       "      <td>14066</td>\n",
       "      <td>31654</td>\n",
       "      <td>35168</td>\n",
       "      <td>2</td>\n",
       "      <td>1.000000</td>\n",
       "      <td>1</td>\n",
       "    </tr>\n",
       "  </tbody>\n",
       "</table>\n",
       "</div>"
      ],
      "text/plain": [
       "   stat_flags_mean  stat_msg_size_mean  stat_flowDuration_tot  \\\n",
       "0              1.0          226.746978              29.542159   \n",
       "1              1.0          226.688742              29.563349   \n",
       "2              1.0          226.682193              30.341139   \n",
       "3              1.0          226.999071               9.289258   \n",
       "4              1.0          227.885223             735.826626   \n",
       "5              1.0          226.742119              30.290408   \n",
       "\n",
       "   missing_tokens_TR  consumed_tokens_TR  cost_AL  visited_states_AL  \\\n",
       "0                  0                6947     3472              13878   \n",
       "1                  0                6945     3471              13874   \n",
       "2                  0                7041     3519              14066   \n",
       "3                  1                2147    21072               4285   \n",
       "4                  3                4291    82142               8566   \n",
       "5                  0                7041     3519              14066   \n",
       "\n",
       "   queued_states_AL  traversed_arcs_AL  lp_solved_AL  fitness_AL  label  \n",
       "0             31231              34698             1    1.000000      1  \n",
       "1             31222              34688             1    1.000000      1  \n",
       "2             31654              35168             2    1.000000      1  \n",
       "3              9646              10716          3829    0.998150      4  \n",
       "4             19274              21425          8591    0.996291      4  \n",
       "5             31654              35168             2    1.000000      1  "
      ]
     },
     "execution_count": 66,
     "metadata": {},
     "output_type": "execute_result"
    }
   ],
   "source": [
    "X_norm_MITM.head(6)"
   ]
  },
  {
   "cell_type": "code",
   "execution_count": 67,
   "metadata": {},
   "outputs": [
    {
     "name": "stdout",
     "output_type": "stream",
     "text": [
      "==================================================\n",
      "Plotting the OPCUA data Normal vs MITM\n",
      "--------------------------------------------------\n"
     ]
    },
    {
     "data": {
      "image/png": "[encoded data removed]",
      "text/plain": [
       "<Figure size 432x288 with 1 Axes>"
      ]
     },
     "metadata": {
      "needs_background": "light"
     },
     "output_type": "display_data"
    }
   ],
   "source": [
    "print(50 * '=')\n",
    "print('Plotting the OPCUA data Normal vs MITM')\n",
    "print(50 * '-')\n",
    "\n",
    "# select values\n",
    "y = OPCUA_dataset.iloc[0:5, 11].values\n",
    "y = np.where(y == 1, -1, 1)\n",
    "\n",
    "# extract 2 main features\n",
    "X = X_norm_MITM.iloc[0:5, [1, 8]].values\n",
    "\n",
    "# plot data\n",
    "plt.scatter(X[:3, 0], X[:3, 1],\n",
    "            color='blue', marker='o',s=100, label='Normal')\n",
    "plt.scatter(X[3:5, 0], X[3:5, 1],\n",
    "            color='red', marker='o',s=100, label='MITM')\n",
    "\n",
    "plt.xlabel('stat_msg_size_mean')\n",
    "plt.ylabel('traversed_arcs_AL')\n",
    "plt.legend(loc='upper right')\n",
    "\n",
    "# plt.tight_layout()\n",
    "# plt.savefig('./images/02_06.png', dpi=300)\n",
    "plt.show()"
   ]
  },
  {
   "cell_type": "code",
   "execution_count": 68,
   "metadata": {},
   "outputs": [
    {
     "name": "stderr",
     "output_type": "stream",
     "text": [
      "/Users/pmarincola/opt/anaconda3/envs/pm4pyEnv1/lib/python3.9/site-packages/pandas/core/frame.py:4901: SettingWithCopyWarning: \n",
      "A value is trying to be set on a copy of a slice from a DataFrame\n",
      "\n",
      "See the caveats in the documentation: https://pandas.pydata.org/pandas-docs/stable/user_guide/indexing.html#returning-a-view-versus-a-copy\n",
      "  return super().drop(\n"
     ]
    }
   ],
   "source": [
    "normal_or_Imp = (OPCUA_dataset_label == 1) | (OPCUA_dataset_label == 2)\n",
    "X_norm_Imp = OPCUA_dataset[normal_or_Imp]\n",
    "y_norm_Imp = OPCUA_dataset_label[normal_or_Imp]\n",
    "X_norm_Imp.drop(columns=['Unnamed: 0',\n",
    "                            'IPclass',\n",
    "                            'trace_fitness_TR',\n",
    "                            'case_id',\n",
    "                            'trace_is_fit_TR',\n",
    "                            'remaining_tokens_TR',\n",
    "                            'produced_tokens_TR'],\n",
    "                      inplace=True)"
   ]
  },
  {
   "cell_type": "code",
   "execution_count": 69,
   "metadata": {},
   "outputs": [
    {
     "data": {
      "text/html": [
       "<div>\n",
       "<style scoped>\n",
       "    .dataframe tbody tr th:only-of-type {\n",
       "        vertical-align: middle;\n",
       "    }\n",
       "\n",
       "    .dataframe tbody tr th {\n",
       "        vertical-align: top;\n",
       "    }\n",
       "\n",
       "    .dataframe thead th {\n",
       "        text-align: right;\n",
       "    }\n",
       "</style>\n",
       "<table border=\"1\" class=\"dataframe\">\n",
       "  <thead>\n",
       "    <tr style=\"text-align: right;\">\n",
       "      <th></th>\n",
       "      <th>stat_flags_mean</th>\n",
       "      <th>stat_msg_size_mean</th>\n",
       "      <th>stat_flowDuration_tot</th>\n",
       "      <th>missing_tokens_TR</th>\n",
       "      <th>consumed_tokens_TR</th>\n",
       "      <th>cost_AL</th>\n",
       "      <th>visited_states_AL</th>\n",
       "      <th>queued_states_AL</th>\n",
       "      <th>traversed_arcs_AL</th>\n",
       "      <th>lp_solved_AL</th>\n",
       "      <th>fitness_AL</th>\n",
       "      <th>label</th>\n",
       "    </tr>\n",
       "  </thead>\n",
       "  <tbody>\n",
       "    <tr>\n",
       "      <th>0</th>\n",
       "      <td>1.0</td>\n",
       "      <td>226.746978</td>\n",
       "      <td>29.542159</td>\n",
       "      <td>0</td>\n",
       "      <td>6947</td>\n",
       "      <td>3472</td>\n",
       "      <td>13878</td>\n",
       "      <td>31231</td>\n",
       "      <td>34698</td>\n",
       "      <td>1</td>\n",
       "      <td>1.0</td>\n",
       "      <td>1</td>\n",
       "    </tr>\n",
       "    <tr>\n",
       "      <th>1</th>\n",
       "      <td>1.0</td>\n",
       "      <td>226.688742</td>\n",
       "      <td>29.563349</td>\n",
       "      <td>0</td>\n",
       "      <td>6945</td>\n",
       "      <td>3471</td>\n",
       "      <td>13874</td>\n",
       "      <td>31222</td>\n",
       "      <td>34688</td>\n",
       "      <td>1</td>\n",
       "      <td>1.0</td>\n",
       "      <td>1</td>\n",
       "    </tr>\n",
       "    <tr>\n",
       "      <th>2</th>\n",
       "      <td>1.0</td>\n",
       "      <td>226.682193</td>\n",
       "      <td>30.341139</td>\n",
       "      <td>0</td>\n",
       "      <td>7041</td>\n",
       "      <td>3519</td>\n",
       "      <td>14066</td>\n",
       "      <td>31654</td>\n",
       "      <td>35168</td>\n",
       "      <td>2</td>\n",
       "      <td>1.0</td>\n",
       "      <td>1</td>\n",
       "    </tr>\n",
       "    <tr>\n",
       "      <th>5</th>\n",
       "      <td>1.0</td>\n",
       "      <td>226.742119</td>\n",
       "      <td>30.290408</td>\n",
       "      <td>0</td>\n",
       "      <td>7041</td>\n",
       "      <td>3519</td>\n",
       "      <td>14066</td>\n",
       "      <td>31654</td>\n",
       "      <td>35168</td>\n",
       "      <td>2</td>\n",
       "      <td>1.0</td>\n",
       "      <td>1</td>\n",
       "    </tr>\n",
       "    <tr>\n",
       "      <th>9</th>\n",
       "      <td>1.0</td>\n",
       "      <td>226.865031</td>\n",
       "      <td>15.694721</td>\n",
       "      <td>0</td>\n",
       "      <td>3585</td>\n",
       "      <td>1791</td>\n",
       "      <td>7154</td>\n",
       "      <td>16102</td>\n",
       "      <td>17888</td>\n",
       "      <td>1</td>\n",
       "      <td>1.0</td>\n",
       "      <td>1</td>\n",
       "    </tr>\n",
       "    <tr>\n",
       "      <th>10</th>\n",
       "      <td>1.0</td>\n",
       "      <td>226.894590</td>\n",
       "      <td>15.325677</td>\n",
       "      <td>0</td>\n",
       "      <td>3585</td>\n",
       "      <td>1791</td>\n",
       "      <td>7154</td>\n",
       "      <td>16102</td>\n",
       "      <td>17888</td>\n",
       "      <td>2</td>\n",
       "      <td>1.0</td>\n",
       "      <td>1</td>\n",
       "    </tr>\n",
       "    <tr>\n",
       "      <th>11</th>\n",
       "      <td>1.0</td>\n",
       "      <td>226.883695</td>\n",
       "      <td>15.829652</td>\n",
       "      <td>0</td>\n",
       "      <td>3593</td>\n",
       "      <td>1795</td>\n",
       "      <td>7170</td>\n",
       "      <td>16138</td>\n",
       "      <td>17928</td>\n",
       "      <td>2</td>\n",
       "      <td>1.0</td>\n",
       "      <td>1</td>\n",
       "    </tr>\n",
       "    <tr>\n",
       "      <th>12</th>\n",
       "      <td>1.0</td>\n",
       "      <td>226.894268</td>\n",
       "      <td>15.524030</td>\n",
       "      <td>0</td>\n",
       "      <td>3593</td>\n",
       "      <td>1795</td>\n",
       "      <td>7170</td>\n",
       "      <td>16138</td>\n",
       "      <td>17928</td>\n",
       "      <td>2</td>\n",
       "      <td>1.0</td>\n",
       "      <td>1</td>\n",
       "    </tr>\n",
       "    <tr>\n",
       "      <th>13</th>\n",
       "      <td>1.0</td>\n",
       "      <td>226.880622</td>\n",
       "      <td>15.436899</td>\n",
       "      <td>0</td>\n",
       "      <td>3601</td>\n",
       "      <td>1799</td>\n",
       "      <td>7186</td>\n",
       "      <td>16174</td>\n",
       "      <td>17968</td>\n",
       "      <td>1</td>\n",
       "      <td>1.0</td>\n",
       "      <td>1</td>\n",
       "    </tr>\n",
       "    <tr>\n",
       "      <th>14</th>\n",
       "      <td>1.0</td>\n",
       "      <td>226.847307</td>\n",
       "      <td>15.594003</td>\n",
       "      <td>0</td>\n",
       "      <td>3601</td>\n",
       "      <td>1799</td>\n",
       "      <td>7186</td>\n",
       "      <td>16174</td>\n",
       "      <td>17968</td>\n",
       "      <td>1</td>\n",
       "      <td>1.0</td>\n",
       "      <td>1</td>\n",
       "    </tr>\n",
       "    <tr>\n",
       "      <th>16</th>\n",
       "      <td>1.0</td>\n",
       "      <td>137.000000</td>\n",
       "      <td>0.000000</td>\n",
       "      <td>1</td>\n",
       "      <td>1</td>\n",
       "      <td>60003</td>\n",
       "      <td>9</td>\n",
       "      <td>10</td>\n",
       "      <td>13</td>\n",
       "      <td>1</td>\n",
       "      <td>0.0</td>\n",
       "      <td>1</td>\n",
       "    </tr>\n",
       "    <tr>\n",
       "      <th>17</th>\n",
       "      <td>1.0</td>\n",
       "      <td>137.000000</td>\n",
       "      <td>0.000000</td>\n",
       "      <td>1</td>\n",
       "      <td>1</td>\n",
       "      <td>60003</td>\n",
       "      <td>9</td>\n",
       "      <td>10</td>\n",
       "      <td>13</td>\n",
       "      <td>1</td>\n",
       "      <td>0.0</td>\n",
       "      <td>1</td>\n",
       "    </tr>\n",
       "    <tr>\n",
       "      <th>18</th>\n",
       "      <td>1.0</td>\n",
       "      <td>137.000000</td>\n",
       "      <td>0.000000</td>\n",
       "      <td>1</td>\n",
       "      <td>1</td>\n",
       "      <td>60003</td>\n",
       "      <td>9</td>\n",
       "      <td>10</td>\n",
       "      <td>13</td>\n",
       "      <td>1</td>\n",
       "      <td>0.0</td>\n",
       "      <td>1</td>\n",
       "    </tr>\n",
       "    <tr>\n",
       "      <th>19</th>\n",
       "      <td>1.0</td>\n",
       "      <td>137.000000</td>\n",
       "      <td>0.000000</td>\n",
       "      <td>1</td>\n",
       "      <td>1</td>\n",
       "      <td>60003</td>\n",
       "      <td>9</td>\n",
       "      <td>10</td>\n",
       "      <td>13</td>\n",
       "      <td>1</td>\n",
       "      <td>0.0</td>\n",
       "      <td>1</td>\n",
       "    </tr>\n",
       "    <tr>\n",
       "      <th>20</th>\n",
       "      <td>1.0</td>\n",
       "      <td>137.000000</td>\n",
       "      <td>0.000000</td>\n",
       "      <td>1</td>\n",
       "      <td>1</td>\n",
       "      <td>60003</td>\n",
       "      <td>9</td>\n",
       "      <td>10</td>\n",
       "      <td>13</td>\n",
       "      <td>1</td>\n",
       "      <td>0.0</td>\n",
       "      <td>1</td>\n",
       "    </tr>\n",
       "    <tr>\n",
       "      <th>21</th>\n",
       "      <td>1.0</td>\n",
       "      <td>137.000000</td>\n",
       "      <td>0.000000</td>\n",
       "      <td>1</td>\n",
       "      <td>1</td>\n",
       "      <td>60003</td>\n",
       "      <td>9</td>\n",
       "      <td>10</td>\n",
       "      <td>13</td>\n",
       "      <td>1</td>\n",
       "      <td>0.0</td>\n",
       "      <td>1</td>\n",
       "    </tr>\n",
       "    <tr>\n",
       "      <th>22</th>\n",
       "      <td>1.0</td>\n",
       "      <td>137.000000</td>\n",
       "      <td>0.000000</td>\n",
       "      <td>1</td>\n",
       "      <td>1</td>\n",
       "      <td>60003</td>\n",
       "      <td>9</td>\n",
       "      <td>10</td>\n",
       "      <td>13</td>\n",
       "      <td>1</td>\n",
       "      <td>0.0</td>\n",
       "      <td>1</td>\n",
       "    </tr>\n",
       "    <tr>\n",
       "      <th>23</th>\n",
       "      <td>1.0</td>\n",
       "      <td>137.000000</td>\n",
       "      <td>0.000000</td>\n",
       "      <td>1</td>\n",
       "      <td>1</td>\n",
       "      <td>60003</td>\n",
       "      <td>9</td>\n",
       "      <td>10</td>\n",
       "      <td>13</td>\n",
       "      <td>1</td>\n",
       "      <td>0.0</td>\n",
       "      <td>1</td>\n",
       "    </tr>\n",
       "    <tr>\n",
       "      <th>14922</th>\n",
       "      <td>1.0</td>\n",
       "      <td>135.000000</td>\n",
       "      <td>0.000000</td>\n",
       "      <td>1</td>\n",
       "      <td>1</td>\n",
       "      <td>60003</td>\n",
       "      <td>9</td>\n",
       "      <td>10</td>\n",
       "      <td>13</td>\n",
       "      <td>1</td>\n",
       "      <td>0.0</td>\n",
       "      <td>1</td>\n",
       "    </tr>\n",
       "    <tr>\n",
       "      <th>14923</th>\n",
       "      <td>0.0</td>\n",
       "      <td>173.000000</td>\n",
       "      <td>0.000000</td>\n",
       "      <td>1</td>\n",
       "      <td>1</td>\n",
       "      <td>60003</td>\n",
       "      <td>9</td>\n",
       "      <td>10</td>\n",
       "      <td>13</td>\n",
       "      <td>1</td>\n",
       "      <td>0.0</td>\n",
       "      <td>2</td>\n",
       "    </tr>\n",
       "    <tr>\n",
       "      <th>14924</th>\n",
       "      <td>0.0</td>\n",
       "      <td>173.000000</td>\n",
       "      <td>0.000000</td>\n",
       "      <td>1</td>\n",
       "      <td>1</td>\n",
       "      <td>60003</td>\n",
       "      <td>9</td>\n",
       "      <td>10</td>\n",
       "      <td>13</td>\n",
       "      <td>1</td>\n",
       "      <td>0.0</td>\n",
       "      <td>2</td>\n",
       "    </tr>\n",
       "    <tr>\n",
       "      <th>14925</th>\n",
       "      <td>0.0</td>\n",
       "      <td>173.000000</td>\n",
       "      <td>0.000000</td>\n",
       "      <td>1</td>\n",
       "      <td>1</td>\n",
       "      <td>60003</td>\n",
       "      <td>9</td>\n",
       "      <td>10</td>\n",
       "      <td>13</td>\n",
       "      <td>1</td>\n",
       "      <td>0.0</td>\n",
       "      <td>2</td>\n",
       "    </tr>\n",
       "    <tr>\n",
       "      <th>14926</th>\n",
       "      <td>0.0</td>\n",
       "      <td>173.000000</td>\n",
       "      <td>0.000000</td>\n",
       "      <td>1</td>\n",
       "      <td>1</td>\n",
       "      <td>60003</td>\n",
       "      <td>9</td>\n",
       "      <td>10</td>\n",
       "      <td>13</td>\n",
       "      <td>1</td>\n",
       "      <td>0.0</td>\n",
       "      <td>2</td>\n",
       "    </tr>\n",
       "    <tr>\n",
       "      <th>14927</th>\n",
       "      <td>0.0</td>\n",
       "      <td>173.000000</td>\n",
       "      <td>0.000000</td>\n",
       "      <td>1</td>\n",
       "      <td>1</td>\n",
       "      <td>60003</td>\n",
       "      <td>9</td>\n",
       "      <td>10</td>\n",
       "      <td>13</td>\n",
       "      <td>1</td>\n",
       "      <td>0.0</td>\n",
       "      <td>2</td>\n",
       "    </tr>\n",
       "    <tr>\n",
       "      <th>14928</th>\n",
       "      <td>0.0</td>\n",
       "      <td>173.000000</td>\n",
       "      <td>0.000000</td>\n",
       "      <td>1</td>\n",
       "      <td>1</td>\n",
       "      <td>60003</td>\n",
       "      <td>9</td>\n",
       "      <td>10</td>\n",
       "      <td>13</td>\n",
       "      <td>1</td>\n",
       "      <td>0.0</td>\n",
       "      <td>2</td>\n",
       "    </tr>\n",
       "    <tr>\n",
       "      <th>14929</th>\n",
       "      <td>0.0</td>\n",
       "      <td>173.000000</td>\n",
       "      <td>0.000000</td>\n",
       "      <td>1</td>\n",
       "      <td>1</td>\n",
       "      <td>60003</td>\n",
       "      <td>9</td>\n",
       "      <td>10</td>\n",
       "      <td>13</td>\n",
       "      <td>1</td>\n",
       "      <td>0.0</td>\n",
       "      <td>2</td>\n",
       "    </tr>\n",
       "    <tr>\n",
       "      <th>14930</th>\n",
       "      <td>0.0</td>\n",
       "      <td>173.000000</td>\n",
       "      <td>0.000000</td>\n",
       "      <td>1</td>\n",
       "      <td>1</td>\n",
       "      <td>60003</td>\n",
       "      <td>9</td>\n",
       "      <td>10</td>\n",
       "      <td>13</td>\n",
       "      <td>1</td>\n",
       "      <td>0.0</td>\n",
       "      <td>2</td>\n",
       "    </tr>\n",
       "    <tr>\n",
       "      <th>14931</th>\n",
       "      <td>0.0</td>\n",
       "      <td>173.000000</td>\n",
       "      <td>0.000000</td>\n",
       "      <td>1</td>\n",
       "      <td>1</td>\n",
       "      <td>60003</td>\n",
       "      <td>9</td>\n",
       "      <td>10</td>\n",
       "      <td>13</td>\n",
       "      <td>1</td>\n",
       "      <td>0.0</td>\n",
       "      <td>2</td>\n",
       "    </tr>\n",
       "    <tr>\n",
       "      <th>14932</th>\n",
       "      <td>0.0</td>\n",
       "      <td>173.000000</td>\n",
       "      <td>0.000000</td>\n",
       "      <td>1</td>\n",
       "      <td>1</td>\n",
       "      <td>60003</td>\n",
       "      <td>9</td>\n",
       "      <td>10</td>\n",
       "      <td>13</td>\n",
       "      <td>1</td>\n",
       "      <td>0.0</td>\n",
       "      <td>2</td>\n",
       "    </tr>\n",
       "    <tr>\n",
       "      <th>14933</th>\n",
       "      <td>0.0</td>\n",
       "      <td>173.000000</td>\n",
       "      <td>0.000000</td>\n",
       "      <td>1</td>\n",
       "      <td>1</td>\n",
       "      <td>60003</td>\n",
       "      <td>9</td>\n",
       "      <td>10</td>\n",
       "      <td>13</td>\n",
       "      <td>1</td>\n",
       "      <td>0.0</td>\n",
       "      <td>2</td>\n",
       "    </tr>\n",
       "  </tbody>\n",
       "</table>\n",
       "</div>"
      ],
      "text/plain": [
       "       stat_flags_mean  stat_msg_size_mean  stat_flowDuration_tot  \\\n",
       "0                  1.0          226.746978              29.542159   \n",
       "1                  1.0          226.688742              29.563349   \n",
       "2                  1.0          226.682193              30.341139   \n",
       "5                  1.0          226.742119              30.290408   \n",
       "9                  1.0          226.865031              15.694721   \n",
       "10                 1.0          226.894590              15.325677   \n",
       "11                 1.0          226.883695              15.829652   \n",
       "12                 1.0          226.894268              15.524030   \n",
       "13                 1.0          226.880622              15.436899   \n",
       "14                 1.0          226.847307              15.594003   \n",
       "16                 1.0          137.000000               0.000000   \n",
       "17                 1.0          137.000000               0.000000   \n",
       "18                 1.0          137.000000               0.000000   \n",
       "19                 1.0          137.000000               0.000000   \n",
       "20                 1.0          137.000000               0.000000   \n",
       "21                 1.0          137.000000               0.000000   \n",
       "22                 1.0          137.000000               0.000000   \n",
       "23                 1.0          137.000000               0.000000   \n",
       "14922              1.0          135.000000               0.000000   \n",
       "14923              0.0          173.000000               0.000000   \n",
       "14924              0.0          173.000000               0.000000   \n",
       "14925              0.0          173.000000               0.000000   \n",
       "14926              0.0          173.000000               0.000000   \n",
       "14927              0.0          173.000000               0.000000   \n",
       "14928              0.0          173.000000               0.000000   \n",
       "14929              0.0          173.000000               0.000000   \n",
       "14930              0.0          173.000000               0.000000   \n",
       "14931              0.0          173.000000               0.000000   \n",
       "14932              0.0          173.000000               0.000000   \n",
       "14933              0.0          173.000000               0.000000   \n",
       "\n",
       "       missing_tokens_TR  consumed_tokens_TR  cost_AL  visited_states_AL  \\\n",
       "0                      0                6947     3472              13878   \n",
       "1                      0                6945     3471              13874   \n",
       "2                      0                7041     3519              14066   \n",
       "5                      0                7041     3519              14066   \n",
       "9                      0                3585     1791               7154   \n",
       "10                     0                3585     1791               7154   \n",
       "11                     0                3593     1795               7170   \n",
       "12                     0                3593     1795               7170   \n",
       "13                     0                3601     1799               7186   \n",
       "14                     0                3601     1799               7186   \n",
       "16                     1                   1    60003                  9   \n",
       "17                     1                   1    60003                  9   \n",
       "18                     1                   1    60003                  9   \n",
       "19                     1                   1    60003                  9   \n",
       "20                     1                   1    60003                  9   \n",
       "21                     1                   1    60003                  9   \n",
       "22                     1                   1    60003                  9   \n",
       "23                     1                   1    60003                  9   \n",
       "14922                  1                   1    60003                  9   \n",
       "14923                  1                   1    60003                  9   \n",
       "14924                  1                   1    60003                  9   \n",
       "14925                  1                   1    60003                  9   \n",
       "14926                  1                   1    60003                  9   \n",
       "14927                  1                   1    60003                  9   \n",
       "14928                  1                   1    60003                  9   \n",
       "14929                  1                   1    60003                  9   \n",
       "14930                  1                   1    60003                  9   \n",
       "14931                  1                   1    60003                  9   \n",
       "14932                  1                   1    60003                  9   \n",
       "14933                  1                   1    60003                  9   \n",
       "\n",
       "       queued_states_AL  traversed_arcs_AL  lp_solved_AL  fitness_AL  label  \n",
       "0                 31231              34698             1         1.0      1  \n",
       "1                 31222              34688             1         1.0      1  \n",
       "2                 31654              35168             2         1.0      1  \n",
       "5                 31654              35168             2         1.0      1  \n",
       "9                 16102              17888             1         1.0      1  \n",
       "10                16102              17888             2         1.0      1  \n",
       "11                16138              17928             2         1.0      1  \n",
       "12                16138              17928             2         1.0      1  \n",
       "13                16174              17968             1         1.0      1  \n",
       "14                16174              17968             1         1.0      1  \n",
       "16                   10                 13             1         0.0      1  \n",
       "17                   10                 13             1         0.0      1  \n",
       "18                   10                 13             1         0.0      1  \n",
       "19                   10                 13             1         0.0      1  \n",
       "20                   10                 13             1         0.0      1  \n",
       "21                   10                 13             1         0.0      1  \n",
       "22                   10                 13             1         0.0      1  \n",
       "23                   10                 13             1         0.0      1  \n",
       "14922                10                 13             1         0.0      1  \n",
       "14923                10                 13             1         0.0      2  \n",
       "14924                10                 13             1         0.0      2  \n",
       "14925                10                 13             1         0.0      2  \n",
       "14926                10                 13             1         0.0      2  \n",
       "14927                10                 13             1         0.0      2  \n",
       "14928                10                 13             1         0.0      2  \n",
       "14929                10                 13             1         0.0      2  \n",
       "14930                10                 13             1         0.0      2  \n",
       "14931                10                 13             1         0.0      2  \n",
       "14932                10                 13             1         0.0      2  \n",
       "14933                10                 13             1         0.0      2  "
      ]
     },
     "execution_count": 69,
     "metadata": {},
     "output_type": "execute_result"
    }
   ],
   "source": [
    "X_norm_Imp.head(30)"
   ]
  },
  {
   "cell_type": "code",
   "execution_count": 70,
   "metadata": {},
   "outputs": [
    {
     "name": "stdout",
     "output_type": "stream",
     "text": [
      "==================================================\n",
      "Plotting the OPCUA data - Normal vs Impersonation\n",
      "--------------------------------------------------\n"
     ]
    },
    {
     "name": "stderr",
     "output_type": "stream",
     "text": [
      "/var/folders/v6/jrh7dpmj4rn6h4bw6xqfx5n40000gn/T/ipykernel_10542/1574027577.py:7: FutureWarning: elementwise comparison failed; returning scalar instead, but in the future will perform elementwise comparison\n",
      "  y = np.where(y == 'Normal', -1, 1)\n"
     ]
    },
    {
     "data": {
      "image/png": "[encoded data removed]",
      "text/plain": [
       "<Figure size 432x288 with 1 Axes>"
      ]
     },
     "metadata": {
      "needs_background": "light"
     },
     "output_type": "display_data"
    }
   ],
   "source": [
    "print(50 * '=')\n",
    "print('Plotting the OPCUA data - Normal vs Impersonation')\n",
    "print(50 * '-')\n",
    "\n",
    "# select VALUES\n",
    "y = X_norm_Imp.iloc[0:36, 11].values\n",
    "y = np.where(y == 'Normal', -1, 1)\n",
    "\n",
    "# extract \n",
    "X = X_norm_Imp.iloc[0:36, [1, 8]].values\n",
    "\n",
    "# plot data\n",
    "plt.scatter(X[:18, 0], X[:18, 1],\n",
    "            color='blue', marker='o',s=100, label='Normal')\n",
    "plt.scatter(X[18:36, 0], X[18:36, 1],\n",
    "            color='purple', marker='o',s=100, label='Impersonation')\n",
    "\n",
    "plt.xlabel('stat_msg_size_mean')\n",
    "plt.ylabel('traversed_arcs_AL')\n",
    "plt.legend(loc='upper right')\n",
    "\n",
    "# plt.tight_layout()\n",
    "# plt.savefig('./images/02_06.png', dpi=300)\n",
    "plt.show()"
   ]
  },
  {
   "cell_type": "markdown",
   "metadata": {},
   "source": [
    "### CHECK METRICS\n",
    "- confusion matrix\n",
    "- PCA features reduction"
   ]
  },
  {
   "cell_type": "code",
   "execution_count": 71,
   "metadata": {},
   "outputs": [
    {
     "data": {
      "text/plain": [
       "LogisticRegression(multi_class='ovr', penalty='l1', solver='liblinear')"
      ]
     },
     "execution_count": 71,
     "metadata": {},
     "output_type": "execute_result"
    }
   ],
   "source": [
    "lr = LogisticRegression(penalty='l1', C=1.0, solver='liblinear', multi_class='ovr')\n",
    "# Note that C=1.0 is the default. You can increase\n",
    "# or decrease it to make the regulariztion effect\n",
    "# stronger or weaker, respectively.\n",
    "lr.fit(X_train_std, y_train)"
   ]
  },
  {
   "cell_type": "code",
   "execution_count": 72,
   "metadata": {},
   "outputs": [],
   "source": [
    "# make predictions with your classifier\n",
    "y_pred = lr.predict(X_test_std) "
   ]
  },
  {
   "cell_type": "code",
   "execution_count": 73,
   "metadata": {},
   "outputs": [
    {
     "data": {
      "text/plain": [
       "array([[ 6,  0,  0,  0],\n",
       "       [ 0, 15,  0,  0],\n",
       "       [ 0,  0, 21,  0],\n",
       "       [ 0,  0,  0,  2]])"
      ]
     },
     "execution_count": 73,
     "metadata": {},
     "output_type": "execute_result"
    }
   ],
   "source": [
    "cnf_matrix = confusion_matrix(y_test, y_pred,labels=[1,2,3,4])\n",
    "cnf_matrix"
   ]
  },
  {
   "cell_type": "code",
   "execution_count": 74,
   "metadata": {},
   "outputs": [],
   "source": [
    "def plot_confusion_matrix(cm, classes,\n",
    "                          normalize=False,\n",
    "                          title='Confusion matrix',\n",
    "                          cmap=plt.cm.Blues):\n",
    "    \"\"\"\n",
    "    This function prints and plots the confusion matrix.\n",
    "    Normalization can be applied by setting `normalize=True`.\n",
    "    \"\"\"\n",
    "    import itertools\n",
    "    if normalize:\n",
    "        cm = cm.astype('float') / cm.sum(axis=1)[:, np.newaxis]\n",
    "        print(\"Normalized confusion matrix\")\n",
    "    else:\n",
    "        print('Confusion matrix, without normalization')\n",
    "\n",
    "    print(cm)\n",
    "\n",
    "    plt.imshow(cm, interpolation='nearest', cmap=cmap)\n",
    "    plt.title(title)\n",
    "    plt.colorbar()\n",
    "    tick_marks = np.arange(len(classes))\n",
    "    plt.xticks(tick_marks, classes, rotation=45)\n",
    "    plt.yticks(tick_marks, classes)\n",
    "\n",
    "    fmt = '.2f' if normalize else 'd'\n",
    "    thresh = cm.max() / 2.\n",
    "    for i, j in itertools.product(range(cm.shape[0]), range(cm.shape[1])):\n",
    "        plt.text(j, i, format(cm[i, j], fmt),\n",
    "                 horizontalalignment=\"center\",\n",
    "                 color=\"white\" if cm[i, j] > thresh else \"black\")\n",
    "\n",
    "    plt.ylabel('True label')\n",
    "    plt.xlabel('Predicted label')\n",
    "    plt.tight_layout()"
   ]
  },
  {
   "cell_type": "code",
   "execution_count": 75,
   "metadata": {},
   "outputs": [
    {
     "name": "stdout",
     "output_type": "stream",
     "text": [
      "Confusion matrix, without normalization\n",
      "[[ 6  0  0  0]\n",
      " [ 0 15  0  0]\n",
      " [ 0  0 21  0]\n",
      " [ 0  0  0  2]]\n"
     ]
    },
    {
     "data": {
      "image/png": "[encoded data removed]",
      "text/plain": [
       "<Figure size 432x288 with 2 Axes>"
      ]
     },
     "metadata": {
      "needs_background": "light"
     },
     "output_type": "display_data"
    }
   ],
   "source": [
    "np.set_printoptions(precision=2)\n",
    "\n",
    "# Plot non-normalized confusion matrix\n",
    "plt.figure()\n",
    "plot_confusion_matrix(cnf_matrix, classes=[\"Normal\",'Impersonation',\"DoS\", \"MITM\"],\n",
    "                      title='Confusion matrix')"
   ]
  },
  {
   "cell_type": "code",
   "execution_count": 76,
   "metadata": {},
   "outputs": [
    {
     "name": "stdout",
     "output_type": "stream",
     "text": [
      "               precision    recall  f1-score   support\n",
      "\n",
      "       Normal       1.00      1.00      1.00         6\n",
      "Impersonation       1.00      1.00      1.00        15\n",
      "          DoS       1.00      1.00      1.00        21\n",
      "         MITM       1.00      1.00      1.00         2\n",
      "\n",
      "     accuracy                           1.00        44\n",
      "    macro avg       1.00      1.00      1.00        44\n",
      " weighted avg       1.00      1.00      1.00        44\n",
      "\n"
     ]
    }
   ],
   "source": [
    "print(classification_report(y_test, y_pred, target_names=labels))"
   ]
  },
  {
   "cell_type": "code",
   "execution_count": 77,
   "metadata": {},
   "outputs": [],
   "source": [
    "from matplotlib.colors import ListedColormap\n",
    "\n",
    "def plot_decision_regions(X, y, classifier, resolution=0.02):\n",
    "\n",
    "    # setup marker generator and color map\n",
    "    markers = ('s', 'x', 'o', '^')\n",
    "    colors = ('blue','purple','gold','red')\n",
    "    cmap = ListedColormap(colors[:len(np.unique(y))])\n",
    "\n",
    "    # plot the decision surface\n",
    "    x1_min, x1_max = X[:, 0].min() - 1, X[:, 0].max() + 1\n",
    "    x2_min, x2_max = X[:, 1].min() - 1, X[:, 1].max() + 1\n",
    "    xx1, xx2 = np.meshgrid(np.arange(x1_min, x1_max, resolution),\n",
    "                           np.arange(x2_min, x2_max, resolution))\n",
    "    Z = classifier.predict(np.array([xx1.ravel(), xx2.ravel()]).T)\n",
    "    Z = Z.reshape(xx1.shape)\n",
    "    plt.contourf(xx1, xx2, Z, alpha=0.4, cmap=cmap)\n",
    "    plt.xlim(xx1.min(), xx1.max())\n",
    "    plt.ylim(xx2.min(), xx2.max())\n",
    "\n",
    "    # plot examples by class\n",
    "    for idx, cl in enumerate(np.unique(y)):\n",
    "        plt.scatter(x=X[y == cl, 0], \n",
    "                    y=X[y == cl, 1],\n",
    "                    alpha=0.6, \n",
    "                    color=cmap(idx),\n",
    "                    edgecolor='black',\n",
    "                    marker=markers[idx], \n",
    "                    label=cl)"
   ]
  },
  {
   "cell_type": "code",
   "execution_count": 78,
   "metadata": {},
   "outputs": [],
   "source": [
    "from sklearn.linear_model import LogisticRegression\n",
    "from sklearn.decomposition import PCA\n",
    "\n",
    "pca = PCA(n_components=2)\n",
    "X_train_pca = pca.fit_transform(X_train_std)\n",
    "X_test_pca = pca.transform(X_test_std)\n",
    "\n",
    "lr = LogisticRegression(multi_class='ovr', random_state=1, solver='lbfgs')\n",
    "lr = lr.fit(X_train_pca, y_train)"
   ]
  },
  {
   "cell_type": "code",
   "execution_count": 79,
   "metadata": {},
   "outputs": [
    {
     "name": "stderr",
     "output_type": "stream",
     "text": [
      "/var/folders/v6/jrh7dpmj4rn6h4bw6xqfx5n40000gn/T/ipykernel_10542/983385781.py:23: UserWarning: You passed a edgecolor/edgecolors ('black') for an unfilled marker ('x').  Matplotlib is ignoring the edgecolor in favor of the facecolor.  This behavior may change in the future.\n",
      "  plt.scatter(x=X[y == cl, 0],\n"
     ]
    },
    {
     "data": {
      "image/png": "[encoded data removed]",
      "text/plain": [
       "<Figure size 432x288 with 1 Axes>"
      ]
     },
     "metadata": {
      "needs_background": "light"
     },
     "output_type": "display_data"
    }
   ],
   "source": [
    "plot_decision_regions(X_train_pca, y_train, classifier=lr)\n",
    "plt.xlabel('PC 1')\n",
    "plt.ylabel('PC 2')\n",
    "plt.legend(loc='upper left')\n",
    "plt.tight_layout()\n",
    "# plt.savefig('images/05_04.png', dpi=300)\n",
    "plt.show()"
   ]
  },
  {
   "cell_type": "code",
   "execution_count": 94,
   "metadata": {},
   "outputs": [
    {
     "data": {
      "text/plain": [
       "array([[ 8,  5,  0,  0],\n",
       "       [ 0, 34,  0,  0],\n",
       "       [ 0,  0, 49,  0],\n",
       "       [ 0,  0,  0,  4]])"
      ]
     },
     "execution_count": 94,
     "metadata": {},
     "output_type": "execute_result"
    }
   ],
   "source": [
    "# make predictions with your classifier\n",
    "y_pred = lr.predict(X_train_pca) \n",
    "cnf_matrix = confusion_matrix(y_train, y_pred,labels=[1,2,3,4])\n",
    "cnf_matrix"
   ]
  },
  {
   "cell_type": "code",
   "execution_count": 95,
   "metadata": {},
   "outputs": [
    {
     "name": "stdout",
     "output_type": "stream",
     "text": [
      "               precision    recall  f1-score   support\n",
      "\n",
      "       Normal       1.00      0.62      0.76        13\n",
      "Impersonation       0.87      1.00      0.93        34\n",
      "          DoS       1.00      1.00      1.00        49\n",
      "         MITM       1.00      1.00      1.00         4\n",
      "\n",
      "     accuracy                           0.95       100\n",
      "    macro avg       0.97      0.90      0.92       100\n",
      " weighted avg       0.96      0.95      0.95       100\n",
      "\n"
     ]
    }
   ],
   "source": [
    "print(classification_report(y_train, y_pred, target_names=labels))"
   ]
  },
  {
   "cell_type": "code",
   "execution_count": 96,
   "metadata": {},
   "outputs": [
    {
     "name": "stdout",
     "output_type": "stream",
     "text": [
      "Confusion matrix, without normalization\n",
      "[[ 8  5  0  0]\n",
      " [ 0 34  0  0]\n",
      " [ 0  0 49  0]\n",
      " [ 0  0  0  4]]\n"
     ]
    },
    {
     "data": {
      "image/png": "[encoded data removed]",
      "text/plain": [
       "<Figure size 432x288 with 2 Axes>"
      ]
     },
     "metadata": {
      "needs_background": "light"
     },
     "output_type": "display_data"
    }
   ],
   "source": [
    "np.set_printoptions(precision=2)\n",
    "\n",
    "# Plot non-normalized confusion matrix\n",
    "plt.figure()\n",
    "plot_confusion_matrix(cnf_matrix, classes=[\"Normal\",'Impersonation',\"DoS\", \"MITM\"],\n",
    "                      title='Confusion matrix')"
   ]
  },
  {
   "cell_type": "code",
   "execution_count": 80,
   "metadata": {},
   "outputs": [
    {
     "name": "stderr",
     "output_type": "stream",
     "text": [
      "/var/folders/v6/jrh7dpmj4rn6h4bw6xqfx5n40000gn/T/ipykernel_10542/983385781.py:23: UserWarning: You passed a edgecolor/edgecolors ('black') for an unfilled marker ('x').  Matplotlib is ignoring the edgecolor in favor of the facecolor.  This behavior may change in the future.\n",
      "  plt.scatter(x=X[y == cl, 0],\n"
     ]
    },
    {
     "data": {
      "image/png": "[encoded data removed]",
      "text/plain": [
       "<Figure size 432x288 with 1 Axes>"
      ]
     },
     "metadata": {
      "needs_background": "light"
     },
     "output_type": "display_data"
    }
   ],
   "source": [
    "plot_decision_regions(X_test_pca, y_test, classifier=lr)\n",
    "plt.xlabel('PC 1')\n",
    "plt.ylabel('PC 2')\n",
    "plt.legend(loc='lower left')\n",
    "plt.tight_layout()\n",
    "# plt.savefig('images/05_05.png', dpi=300)\n",
    "plt.show()"
   ]
  },
  {
   "cell_type": "code",
   "execution_count": 97,
   "metadata": {},
   "outputs": [
    {
     "name": "stdout",
     "output_type": "stream",
     "text": [
      "Confusion matrix, without normalization\n",
      "[[ 2  4  0  0]\n",
      " [ 0 15  0  0]\n",
      " [ 0  0 21  0]\n",
      " [ 1  0  0  1]]\n"
     ]
    },
    {
     "data": {
      "image/png": "[encoded data removed]",
      "text/plain": [
       "<Figure size 432x288 with 2 Axes>"
      ]
     },
     "metadata": {
      "needs_background": "light"
     },
     "output_type": "display_data"
    }
   ],
   "source": [
    "# make predictions with your classifier\n",
    "y_pred = lr.predict(X_test_pca) \n",
    "cnf_matrix = confusion_matrix(y_test, y_pred,labels=[1,2,3,4])\n",
    "np.set_printoptions(precision=2)\n",
    "\n",
    "# Plot non-normalized confusion matrix\n",
    "plt.figure()\n",
    "plot_confusion_matrix(cnf_matrix, classes=[\"Normal\",'Impersonation',\"DoS\", \"MITM\"],\n",
    "                      title='Confusion matrix')"
   ]
  },
  {
   "cell_type": "code",
   "execution_count": 98,
   "metadata": {},
   "outputs": [
    {
     "name": "stdout",
     "output_type": "stream",
     "text": [
      "               precision    recall  f1-score   support\n",
      "\n",
      "       Normal       0.67      0.33      0.44         6\n",
      "Impersonation       0.79      1.00      0.88        15\n",
      "          DoS       1.00      1.00      1.00        21\n",
      "         MITM       1.00      0.50      0.67         2\n",
      "\n",
      "     accuracy                           0.89        44\n",
      "    macro avg       0.86      0.71      0.75        44\n",
      " weighted avg       0.88      0.89      0.87        44\n",
      "\n"
     ]
    }
   ],
   "source": [
    "print(classification_report(y_test, y_pred, target_names=labels))"
   ]
  },
  {
   "cell_type": "code",
   "execution_count": 99,
   "metadata": {},
   "outputs": [
    {
     "name": "stdout",
     "output_type": "stream",
     "text": [
      "Test Accuracy: 0.886\n"
     ]
    }
   ],
   "source": [
    "from sklearn.pipeline import make_pipeline\n",
    "pipe_lr = make_pipeline(LogisticRegression(random_state=1, solver='lbfgs'))\n",
    "\n",
    "pipe_lr.fit(X_train_pca, y_train)\n",
    "y_pred = pipe_lr.predict(X_test_pca)\n",
    "print('Test Accuracy: %.3f' % pipe_lr.score(X_test_pca, y_test))"
   ]
  },
  {
   "cell_type": "code",
   "execution_count": 100,
   "metadata": {},
   "outputs": [
    {
     "name": "stdout",
     "output_type": "stream",
     "text": [
      "CV accuracy scores: [1.  1.  0.9 0.9 1.  0.9 0.9 0.9 1.  1. ]\n",
      "CV accuracy: 0.950 +/- 0.050\n"
     ]
    },
    {
     "name": "stderr",
     "output_type": "stream",
     "text": [
      "/Users/pmarincola/opt/anaconda3/envs/pm4pyEnv1/lib/python3.9/site-packages/sklearn/model_selection/_split.py:666: UserWarning: The least populated class in y has only 4 members, which is less than n_splits=10.\n",
      "  warnings.warn((\"The least populated class in y has only %d\"\n"
     ]
    }
   ],
   "source": [
    "from sklearn.model_selection import cross_val_score\n",
    "scores = cross_val_score(estimator=pipe_lr,\n",
    "                         X=X_train_pca,\n",
    "                         y=y_train,\n",
    "                         cv=10,\n",
    "                         n_jobs=1)\n",
    "print('CV accuracy scores: %s' % scores)\n",
    "print('CV accuracy: %.3f +/- %.3f' % (np.mean(scores), np.std(scores)))"
   ]
  },
  {
   "cell_type": "code",
   "execution_count": 101,
   "metadata": {},
   "outputs": [
    {
     "name": "stderr",
     "output_type": "stream",
     "text": [
      "/Users/pmarincola/opt/anaconda3/envs/pm4pyEnv1/lib/python3.9/site-packages/sklearn/model_selection/_split.py:666: UserWarning: The least populated class in y has only 4 members, which is less than n_splits=10.\n",
      "  warnings.warn((\"The least populated class in y has only %d\"\n"
     ]
    },
    {
     "data": {
      "image/png": "[encoded data removed]",
      "text/plain": [
       "<Figure size 432x288 with 1 Axes>"
      ]
     },
     "metadata": {
      "needs_background": "light"
     },
     "output_type": "display_data"
    }
   ],
   "source": [
    "import matplotlib.pyplot as plt\n",
    "from sklearn.model_selection import learning_curve\n",
    "\n",
    "\n",
    "pipe_lr = make_pipeline(LogisticRegression(penalty='l2', random_state=1,\n",
    "                                           solver='lbfgs', max_iter=10000))\n",
    "\n",
    "train_sizes, train_scores, test_scores =\\\n",
    "                learning_curve(estimator=pipe_lr,\n",
    "                               X=X_train_pca,\n",
    "                               y=y_train,\n",
    "                               train_sizes=np.linspace(0.1, 1.0, 10),\n",
    "                               cv=10,\n",
    "                               n_jobs=1)\n",
    "\n",
    "train_mean = np.mean(train_scores, axis=1)\n",
    "train_std = np.std(train_scores, axis=1)\n",
    "test_mean = np.mean(test_scores, axis=1)\n",
    "test_std = np.std(test_scores, axis=1)\n",
    "\n",
    "plt.plot(train_sizes, train_mean,\n",
    "         color='blue', marker='o',\n",
    "         markersize=5, label='Training accuracy')\n",
    "\n",
    "plt.fill_between(train_sizes,\n",
    "                 train_mean + train_std,\n",
    "                 train_mean - train_std,\n",
    "                 alpha=0.15, color='blue')\n",
    "\n",
    "plt.plot(train_sizes, test_mean,\n",
    "         color='green', linestyle='--',\n",
    "         marker='s', markersize=5,\n",
    "         label='Validation accuracy')\n",
    "\n",
    "plt.fill_between(train_sizes,\n",
    "                 test_mean + test_std,\n",
    "                 test_mean - test_std,\n",
    "                 alpha=0.15, color='green')\n",
    "\n",
    "plt.grid()\n",
    "plt.xlabel('Number of training examples')\n",
    "plt.ylabel('Accuracy')\n",
    "plt.legend(loc='lower right')\n",
    "plt.ylim([0.8, 1.03])\n",
    "plt.tight_layout()\n",
    "# plt.savefig('images/06_05.png', dpi=300)\n",
    "plt.show()"
   ]
  },
  {
   "cell_type": "code",
   "execution_count": 102,
   "metadata": {},
   "outputs": [
    {
     "name": "stderr",
     "output_type": "stream",
     "text": [
      "/Users/pmarincola/opt/anaconda3/envs/pm4pyEnv1/lib/python3.9/site-packages/sklearn/model_selection/_split.py:666: UserWarning: The least populated class in y has only 4 members, which is less than n_splits=10.\n",
      "  warnings.warn((\"The least populated class in y has only %d\"\n"
     ]
    },
    {
     "data": {
      "image/png": "[encoded data removed]",
      "text/plain": [
       "<Figure size 432x288 with 1 Axes>"
      ]
     },
     "metadata": {
      "needs_background": "light"
     },
     "output_type": "display_data"
    }
   ],
   "source": [
    "from sklearn.model_selection import validation_curve\n",
    "\n",
    "\n",
    "param_range = [0.001, 0.01, 0.1, 1.0, 10.0, 100.0]\n",
    "train_scores, test_scores = validation_curve(\n",
    "                estimator=pipe_lr, \n",
    "                X=X_train_pca, \n",
    "                y=y_train, \n",
    "                param_name='logisticregression__C', \n",
    "                param_range=param_range,\n",
    "                cv=10)\n",
    "\n",
    "train_mean = np.mean(train_scores, axis=1)\n",
    "train_std = np.std(train_scores, axis=1)\n",
    "test_mean = np.mean(test_scores, axis=1)\n",
    "test_std = np.std(test_scores, axis=1)\n",
    "\n",
    "plt.plot(param_range, train_mean, \n",
    "         color='blue', marker='o', \n",
    "         markersize=5, label='Training accuracy')\n",
    "\n",
    "plt.fill_between(param_range, train_mean + train_std,\n",
    "                 train_mean - train_std, alpha=0.15,\n",
    "                 color='blue')\n",
    "\n",
    "plt.plot(param_range, test_mean, \n",
    "         color='green', linestyle='--', \n",
    "         marker='s', markersize=5, \n",
    "         label='Validation accuracy')\n",
    "plt.fill_between(param_range, \n",
    "                 test_mean + test_std,\n",
    "                 test_mean - test_std, \n",
    "                 alpha=0.15, color='green')\n",
    "\n",
    "plt.grid()\n",
    "plt.xscale('log')\n",
    "plt.legend(loc='lower right')\n",
    "plt.xlabel('Parameter C')\n",
    "plt.ylabel('Accuracy')\n",
    "plt.ylim([0.8, 1.0])\n",
    "plt.tight_layout()\n",
    "# plt.savefig('images/06_06.png', dpi=300)\n",
    "plt.show()"
   ]
  },
  {
   "cell_type": "code",
   "execution_count": 106,
   "metadata": {},
   "outputs": [
    {
     "name": "stderr",
     "output_type": "stream",
     "text": [
      "/Users/pmarincola/opt/anaconda3/envs/pm4pyEnv1/lib/python3.9/site-packages/sklearn/model_selection/_split.py:666: UserWarning: The least populated class in y has only 4 members, which is less than n_splits=10.\n",
      "  warnings.warn((\"The least populated class in y has only %d\"\n"
     ]
    },
    {
     "name": "stdout",
     "output_type": "stream",
     "text": [
      "1.0\n",
      "{'svc__C': 1.0, 'svc__kernel': 'linear'}\n"
     ]
    }
   ],
   "source": [
    "from sklearn.model_selection import GridSearchCV\n",
    "from sklearn.svm import SVC\n",
    "\n",
    "pipe_svc = make_pipeline(SVC(random_state=1))\n",
    "\n",
    "param_range = [0.0001, 0.001, 0.01, 0.1, 1.0, 10.0, 100.0, 1000.0]\n",
    "\n",
    "param_grid = [{'svc__C': param_range, \n",
    "               'svc__kernel': ['linear']},\n",
    "              {'svc__C': param_range, \n",
    "               'svc__gamma': param_range, \n",
    "               'svc__kernel': ['rbf']}]\n",
    "\n",
    "gs = GridSearchCV(estimator=pipe_svc, \n",
    "                  param_grid=param_grid, \n",
    "                  scoring='accuracy', \n",
    "                  refit=True,\n",
    "                  cv=10,\n",
    "                  n_jobs=-1)\n",
    "gs = gs.fit(X_train_pca, y_train)\n",
    "print(gs.best_score_)\n",
    "print(gs.best_params_)"
   ]
  },
  {
   "cell_type": "code",
   "execution_count": 107,
   "metadata": {},
   "outputs": [
    {
     "name": "stdout",
     "output_type": "stream",
     "text": [
      "Test accuracy: 0.977\n"
     ]
    }
   ],
   "source": [
    "clf = gs.best_estimator_\n",
    "\n",
    "# clf.fit(X_train, y_train) \n",
    "# note that we do not need to refit the classifier\n",
    "# because this is done automatically via refit=True.\n",
    "\n",
    "print('Test accuracy: %.3f' % clf.score(X_test_pca, y_test))"
   ]
  },
  {
   "cell_type": "code",
   "execution_count": 108,
   "metadata": {},
   "outputs": [
    {
     "name": "stderr",
     "output_type": "stream",
     "text": [
      "/Users/pmarincola/opt/anaconda3/envs/pm4pyEnv1/lib/python3.9/site-packages/sklearn/model_selection/_split.py:666: UserWarning: The least populated class in y has only 4 members, which is less than n_splits=5.\n",
      "  warnings.warn((\"The least populated class in y has only %d\"\n"
     ]
    },
    {
     "name": "stdout",
     "output_type": "stream",
     "text": [
      "CV accuracy: 1.000 +/- 0.000\n"
     ]
    }
   ],
   "source": [
    "gs = GridSearchCV(estimator=pipe_svc,\n",
    "                  param_grid=param_grid,\n",
    "                  scoring='accuracy',\n",
    "                  cv=2)\n",
    "\n",
    "scores = cross_val_score(gs, X_train_pca, y_train, \n",
    "                         scoring='accuracy', cv=5)\n",
    "print('CV accuracy: %.3f +/- %.3f' % (np.mean(scores),\n",
    "                                      np.std(scores)))"
   ]
  },
  {
   "cell_type": "code",
   "execution_count": 110,
   "metadata": {},
   "outputs": [
    {
     "name": "stderr",
     "output_type": "stream",
     "text": [
      "/Users/pmarincola/opt/anaconda3/envs/pm4pyEnv1/lib/python3.9/site-packages/sklearn/svm/_base.py:985: ConvergenceWarning: Liblinear failed to converge, increase the number of iterations.\n",
      "  warnings.warn(\"Liblinear failed to converge, increase \"\n"
     ]
    },
    {
     "data": {
      "text/plain": [
       "Pipeline(steps=[('poly_features', PolynomialFeatures(degree=3)),\n",
       "                ('scaler', StandardScaler()),\n",
       "                ('svm_clf', LinearSVC(C=10, loss='hinge', random_state=42))])"
      ]
     },
     "execution_count": 110,
     "metadata": {},
     "output_type": "execute_result"
    }
   ],
   "source": [
    "from sklearn.preprocessing import PolynomialFeatures\n",
    "from sklearn.svm import LinearSVC\n",
    "polynomial_svm_clf = Pipeline([\n",
    "        (\"poly_features\", PolynomialFeatures(degree=3)),\n",
    "        (\"scaler\", StandardScaler()),\n",
    "        (\"svm_clf\", LinearSVC(C=10, loss=\"hinge\", random_state=42))\n",
    "    ])\n",
    "\n",
    "polynomial_svm_clf.fit(X_train_pca, y_train)"
   ]
  },
  {
   "cell_type": "code",
   "execution_count": 111,
   "metadata": {},
   "outputs": [
    {
     "name": "stdout",
     "output_type": "stream",
     "text": [
      "CV accuracy scores: [1.  1.  0.9 0.9 1.  0.9 0.9 0.9 1.  1. ]\n",
      "CV accuracy: 0.950 +/- 0.050\n"
     ]
    },
    {
     "name": "stderr",
     "output_type": "stream",
     "text": [
      "/Users/pmarincola/opt/anaconda3/envs/pm4pyEnv1/lib/python3.9/site-packages/sklearn/model_selection/_split.py:666: UserWarning: The least populated class in y has only 4 members, which is less than n_splits=10.\n",
      "  warnings.warn((\"The least populated class in y has only %d\"\n",
      "/Users/pmarincola/opt/anaconda3/envs/pm4pyEnv1/lib/python3.9/site-packages/sklearn/svm/_base.py:985: ConvergenceWarning: Liblinear failed to converge, increase the number of iterations.\n",
      "  warnings.warn(\"Liblinear failed to converge, increase \"\n",
      "/Users/pmarincola/opt/anaconda3/envs/pm4pyEnv1/lib/python3.9/site-packages/sklearn/svm/_base.py:985: ConvergenceWarning: Liblinear failed to converge, increase the number of iterations.\n",
      "  warnings.warn(\"Liblinear failed to converge, increase \"\n",
      "/Users/pmarincola/opt/anaconda3/envs/pm4pyEnv1/lib/python3.9/site-packages/sklearn/svm/_base.py:985: ConvergenceWarning: Liblinear failed to converge, increase the number of iterations.\n",
      "  warnings.warn(\"Liblinear failed to converge, increase \"\n",
      "/Users/pmarincola/opt/anaconda3/envs/pm4pyEnv1/lib/python3.9/site-packages/sklearn/svm/_base.py:985: ConvergenceWarning: Liblinear failed to converge, increase the number of iterations.\n",
      "  warnings.warn(\"Liblinear failed to converge, increase \"\n",
      "/Users/pmarincola/opt/anaconda3/envs/pm4pyEnv1/lib/python3.9/site-packages/sklearn/svm/_base.py:985: ConvergenceWarning: Liblinear failed to converge, increase the number of iterations.\n",
      "  warnings.warn(\"Liblinear failed to converge, increase \"\n",
      "/Users/pmarincola/opt/anaconda3/envs/pm4pyEnv1/lib/python3.9/site-packages/sklearn/svm/_base.py:985: ConvergenceWarning: Liblinear failed to converge, increase the number of iterations.\n",
      "  warnings.warn(\"Liblinear failed to converge, increase \"\n",
      "/Users/pmarincola/opt/anaconda3/envs/pm4pyEnv1/lib/python3.9/site-packages/sklearn/svm/_base.py:985: ConvergenceWarning: Liblinear failed to converge, increase the number of iterations.\n",
      "  warnings.warn(\"Liblinear failed to converge, increase \"\n",
      "/Users/pmarincola/opt/anaconda3/envs/pm4pyEnv1/lib/python3.9/site-packages/sklearn/svm/_base.py:985: ConvergenceWarning: Liblinear failed to converge, increase the number of iterations.\n",
      "  warnings.warn(\"Liblinear failed to converge, increase \"\n",
      "/Users/pmarincola/opt/anaconda3/envs/pm4pyEnv1/lib/python3.9/site-packages/sklearn/svm/_base.py:985: ConvergenceWarning: Liblinear failed to converge, increase the number of iterations.\n",
      "  warnings.warn(\"Liblinear failed to converge, increase \"\n"
     ]
    }
   ],
   "source": [
    "scores = cross_val_score(estimator=polynomial_svm_clf,\n",
    "                         X=X_train_pca,\n",
    "                         y=y_train,\n",
    "                         cv=10,\n",
    "                         n_jobs=1)\n",
    "print('CV accuracy scores: %s' % scores)\n",
    "print('CV accuracy: %.3f +/- %.3f' % (np.mean(scores), np.std(scores)))"
   ]
  }
 ],
 "metadata": {
  "kernelspec": {
   "display_name": "Python 3.9.6 ('pm4pyEnv1')",
   "language": "python",
   "name": "python3"
  },
  "language_info": {
   "codemirror_mode": {
    "name": "ipython",
    "version": 3
   },
   "file_extension": ".py",
   "mimetype": "text/x-python",
   "name": "python",
   "nbconvert_exporter": "python",
   "pygments_lexer": "ipython3",
   "version": "3.9.6"
  },
  "orig_nbformat": 4,
  "vscode": {
   "interpreter": {
    "hash": "afe6429ad220cc7f6ea744d179547cdff254a28de0cf3b8a003b52a410f1e391"
   }
  }
 },
 "nbformat": 4,
 "nbformat_minor": 2
}
